{
 "cells": [
  {
   "cell_type": "markdown",
   "metadata": {},
   "source": [
    "# Fully local webscraper for manufacturing\n",
    "\n",
    "### ENPM692 Final Project\n",
    "Vinay Lanka | Apoorv Thapliyal | Harsh Senjaliya"
   ]
  },
  {
   "cell_type": "markdown",
   "metadata": {},
   "source": [
    "## Imports"
   ]
  },
  {
   "cell_type": "code",
   "execution_count": 1,
   "metadata": {},
   "outputs": [
    {
     "name": "stderr",
     "output_type": "stream",
     "text": [
      "/home/apoorv/miniconda3/envs/ragenv/lib/python3.10/site-packages/tqdm/auto.py:21: TqdmWarning: IProgress not found. Please update jupyter and ipywidgets. See https://ipywidgets.readthedocs.io/en/stable/user_install.html\n",
      "  from .autonotebook import tqdm as notebook_tqdm\n",
      "USER_AGENT environment variable not set, consider setting it to identify your requests.\n"
     ]
    }
   ],
   "source": [
    "from transformers import VisionEncoderDecoderModel, ViTFeatureExtractor, AutoTokenizer\n",
    "from transformers import Blip2Processor, Blip2ForConditionalGeneration\n",
    "import torch\n",
    "from PIL import Image\n",
    "import matplotlib.pyplot as plt\n",
    "import matplotlib.image as mpimg\n",
    "\n",
    "# Langchain setup\n",
    "from langchain_core.prompts import PromptTemplate\n",
    "from langchain.chains import LLMChain\n",
    "from langchain_ollama import OllamaLLM\n",
    "import json, re, textwrap, time\n",
    "from typing import Dict, List, Tuple\n",
    "\n",
    "#DDG\n",
    "from duckduckgo_search import DDGS\n",
    "\n",
    "# Fetching HTML\n",
    "from langchain_community.document_loaders import AsyncHtmlLoader\n",
    "from langchain_community.document_transformers import Html2TextTransformer\n",
    "from typing import List\n",
    "from langchain.schema import BaseRetriever, Document\n",
    "\n",
    "# Web scraping\n",
    "import asyncio\n",
    "\n",
    "# Database\n",
    "from bs4 import BeautifulSoup\n",
    "from langchain.schema import Document\n",
    "from langchain.text_splitter import RecursiveCharacterTextSplitter\n",
    "from langchain.embeddings import HuggingFaceInstructEmbeddings\n",
    "from langchain.vectorstores import Chroma\n",
    "from langchain.embeddings import SentenceTransformerEmbeddings\n",
    "from langchain.vectorstores import FAISS\n",
    "from langchain.chains import RetrievalQA\n",
    "from langchain.llms.base import BaseLLM\n",
    "from langchain.prompts import PromptTemplate\n",
    "\n",
    "import chromadb\n",
    "from chromadb.config import Settings\n",
    "from langchain_community.embeddings import HuggingFaceEmbeddings\n",
    "from chromadb.config import Settings, DEFAULT_TENANT, DEFAULT_DATABASE\n",
    "from langchain_community.vectorstores import Chroma\n",
    "\n",
    "import os, glob\n",
    "from langchain.document_loaders import PyPDFLoader\n",
    "from langchain.schema import Document\n",
    "from langchain.vectorstores import Chroma, FAISS\n",
    "import shutil\n",
    "from chromadb.config import Settings\n",
    "\n",
    "from langchain_ollama import ChatOllama\n",
    "from langchain_core.messages import HumanMessage\n",
    "import base64, pathlib"
   ]
  },
  {
   "cell_type": "markdown",
   "metadata": {},
   "source": [
    "## Important Definitons"
   ]
  },
  {
   "cell_type": "code",
   "execution_count": 2,
   "metadata": {},
   "outputs": [],
   "source": [
    "# Image path\n",
    "img_path = \"imgs/pencil.jpeg\"\n",
    "\n",
    "# Model definition\n",
    "model_name = \"gemma3:27b-it-qat\""
   ]
  },
  {
   "cell_type": "markdown",
   "metadata": {},
   "source": [
    "## Captioning\n"
   ]
  },
  {
   "cell_type": "code",
   "execution_count": 3,
   "metadata": {},
   "outputs": [
    {
     "name": "stdout",
     "output_type": "stream",
     "text": [
      "Using device: cuda\n"
     ]
    }
   ],
   "source": [
    "# Hugging Face Image Captioning Model Setup\n",
    "device = torch.device(\"cuda\" if torch.cuda.is_available() else \"cpu\")\n",
    "\n",
    "# # Print device information\n",
    "print(f\"Using device: {device}\")"
   ]
  },
  {
   "cell_type": "markdown",
   "metadata": {},
   "source": [
    "### Using Gemma to generate captions"
   ]
  },
  {
   "cell_type": "code",
   "execution_count": 4,
   "metadata": {},
   "outputs": [
    {
     "name": "stdout",
     "output_type": "stream",
     "text": [
      "The primary object is a graphite pencil with a dark, matte black hexagonal wooden casing, a smooth, slightly glossy graphite core visible at one end, and white text printed along its length indicating “CPSQTO Platinum 6B” and “for good handwriting.”\n"
     ]
    }
   ],
   "source": [
    "img_b64 = base64.b64encode(pathlib.Path(img_path).read_bytes()).decode()\n",
    "\n",
    "content = [\n",
    "    {  # image part\n",
    "        \"type\": \"image_url\",\n",
    "        \"image_url\": f\"data:image/jpeg;base64,{img_b64}\",\n",
    "    },\n",
    "    {  # text prompt part\n",
    "        \"type\": \"text\",\n",
    "        \"text\": \"Identify the primary object in this image and enumerate all observable material characteristics—such as base material, surface finish, color, texture, gloss level, or coating.  Ignore background elements and give the answer in one clear English sentence.\",\n",
    "    },\n",
    "]\n",
    "\n",
    "# llm = ChatOllama(model=\"gemma3:4b\", temperature=0.3)\n",
    "llm = ChatOllama(model=model_name, temperature=0.3)\n",
    "\n",
    "\n",
    "object_desc = llm.invoke([HumanMessage(content=content)]).content\n",
    "\n",
    "print(object_desc)"
   ]
  },
  {
   "cell_type": "markdown",
   "metadata": {},
   "source": [
    "## Static DB"
   ]
  },
  {
   "cell_type": "markdown",
   "metadata": {},
   "source": [
    "### Setup static db \n",
    "\n",
    "Chroma DB with Persistence\n",
    "Embedding LLM - all-MiniLM-L12-v2\n",
    "\n",
    "Converts documents under `/data` to vector embeddings under `/db`.\n",
    "Place any documents to be stored under `/data`.\n",
    "To be run once."
   ]
  },
  {
   "cell_type": "code",
   "execution_count": 5,
   "metadata": {},
   "outputs": [
    {
     "name": "stderr",
     "output_type": "stream",
     "text": [
      "/tmp/ipykernel_3440/2846763773.py:2: LangChainDeprecationWarning: The class `HuggingFaceEmbeddings` was deprecated in LangChain 0.2.2 and will be removed in 1.0. An updated version of the class exists in the :class:`~langchain-huggingface package and should be used instead. To use it run `pip install -U :class:`~langchain-huggingface` and import as `from :class:`~langchain_huggingface import HuggingFaceEmbeddings``.\n",
      "  embedder   = HuggingFaceEmbeddings(model_name=\"all-MiniLM-L12-v2\")\n"
     ]
    },
    {
     "name": "stdout",
     "output_type": "stream",
     "text": [
      "Loading existing vector store from db/sdb\n"
     ]
    },
    {
     "name": "stderr",
     "output_type": "stream",
     "text": [
      "/tmp/ipykernel_3440/2846763773.py:13: LangChainDeprecationWarning: The class `Chroma` was deprecated in LangChain 0.2.9 and will be removed in 1.0. An updated version of the class exists in the :class:`~langchain-chroma package and should be used instead. To use it run `pip install -U :class:`~langchain-chroma` and import as `from :class:`~langchain_chroma import Chroma``.\n",
      "  vectordb_static = Chroma(\n"
     ]
    }
   ],
   "source": [
    "static_dir = \"db/sdb\"\n",
    "embedder   = HuggingFaceEmbeddings(model_name=\"all-MiniLM-L12-v2\")\n",
    "\n",
    "client = chromadb.PersistentClient(\n",
    "    path=static_dir,\n",
    "    settings=Settings(),          # you can pass custom Settings here if needed\n",
    "    tenant=DEFAULT_TENANT,\n",
    "    database=DEFAULT_DATABASE,\n",
    ")\n",
    "\n",
    "if os.path.exists(static_dir) and os.listdir(static_dir):\n",
    "    print(f\"Loading existing vector store from {static_dir}\")\n",
    "    vectordb_static = Chroma(\n",
    "        client=client,\n",
    "        embedding_function=embedder,\n",
    "        persist_directory=static_dir\n",
    "    )\n",
    "\n",
    "else:\n",
    "    print(f\"Building new vector store in {static_dir}\")\n",
    "    if os.path.exists(static_dir):\n",
    "        shutil.rmtree(static_dir)\n",
    "    os.makedirs(static_dir, exist_ok=True)\n",
    "\n",
    "    # load PDFs\n",
    "    pdf_docs = []\n",
    "    for path in glob.glob(\"data/*.pdf\"):\n",
    "        loader = PyPDFLoader(path)\n",
    "        pdf_docs.extend(loader.load())\n",
    "\n",
    "    # split into chunks\n",
    "    splitter = RecursiveCharacterTextSplitter(\n",
    "        chunk_size=1500,\n",
    "        chunk_overlap=200,\n",
    "        length_function=len\n",
    "    )\n",
    "    static_chunks = splitter.split_documents(pdf_docs)\n",
    "\n",
    "    # build & persist\n",
    "    vectordb_static = Chroma.from_documents(\n",
    "        documents=static_chunks,\n",
    "        embedding=embedder,\n",
    "        client=client,\n",
    "        persist_directory=static_dir\n",
    "    )\n",
    "    client.persist() "
   ]
  },
  {
   "cell_type": "markdown",
   "metadata": {},
   "source": [
    "### Create a retreiver\n",
    "\n",
    "Pulling k = 6 relevant chunks"
   ]
  },
  {
   "cell_type": "code",
   "execution_count": 6,
   "metadata": {},
   "outputs": [],
   "source": [
    "static_ret  = vectordb_static.as_retriever(\n",
    "    search_kwargs={\"k\": 10}\n",
    ")"
   ]
  },
  {
   "cell_type": "markdown",
   "metadata": {},
   "source": [
    "## Generate queries"
   ]
  },
  {
   "cell_type": "markdown",
   "metadata": {},
   "source": [
    "The LLM Model: Ollama gemma3:4b model will be used for query generation as well as final manufacturing document generation"
   ]
  },
  {
   "cell_type": "code",
   "execution_count": 7,
   "metadata": {},
   "outputs": [],
   "source": [
    "# Initialize your LLM\n",
    "llm = OllamaLLM(model=model_name, temperature=0.3)\n",
    "\n",
    "# query_prompt = PromptTemplate.from_template(textwrap.dedent(\"\"\"\n",
    "# You are a manufacturing‐research assistant.\n",
    "\n",
    "# Goal ▸ Draft **{k}** DuckDuckGo search queries that, taken together,\n",
    "# will surface authoritative information for *all* of the report areas\n",
    "# listed under **SECTIONS** below.\n",
    "\n",
    "# Guidelines\n",
    "# • Draw wording **only** from the context slide excerpts, the object\n",
    "#   caption, and the section descriptions.  \n",
    "# • Mix high-level and specific terms so the result set spans every\n",
    "#   section (sustainability, process flow, tooling, simulation, etc.).  \n",
    "# • Avoid near-duplicate phrasing; each query should probe a different\n",
    "#   angle (process, material, KPI, cost, digital thread, …).  \n",
    "# • Do **not** introduce themes absent from the context.  \n",
    "# • Return **only** a valid JSON array of strings—no commentary.\n",
    "\n",
    "# ---\n",
    "# CONTEXT\n",
    "# {context}\n",
    "# ---\n",
    "\n",
    "# OBJECT DESCRIPTION\n",
    "# \\\"\\\"\\\"{caption}\\\"\\\"\\\"\n",
    "\n",
    "# SECTIONS (for your internal guidance; do NOT echo them)\n",
    "# 1  Executive summary / Object overview\n",
    "# 2  Sustainability & life-cycle considerations\n",
    "# 3  Material selection & eco-alternatives\n",
    "# 4  Manufacturing-process flow\n",
    "# 5  Tooling, automation & industrial robotics\n",
    "# 6  Digital & smart-manufacturing enablers\n",
    "# 7  Simulation & virtual validation\n",
    "# 8  Quality & performance metrics\n",
    "# 9  Environmental & cost impact\n",
    "# 10 Implementation roadmap / Smart-mfg priorities\n",
    "# ---\n",
    "# \"\"\"))\n",
    "\n",
    "query_prompt = PromptTemplate.from_template(textwrap.dedent(\"\"\"\n",
    "You are a manufacturing‐research assistant.\n",
    "\n",
    "Goal ▸ Draft **{k}** DuckDuckGo search queries that, taken together,\n",
    "will surface authoritative information for *all* of the report areas\n",
    "listed under **SECTIONS** below, *plus* the additional manufacturing themes.\n",
    "Your queries should collectively cover every numbered theme.\n",
    "\n",
    "Guidelines\n",
    "• Draw wording **only** from the context slide excerpts, the object\n",
    "  caption, and the section headings below.  \n",
    "• Mix high-level and specific terms so the result set spans every\n",
    "  theme (process, material, KPI, cost, digital thread, …).  \n",
    "• Avoid near-duplicate phrasing; each query should probe a unique angle.  \n",
    "• Do **not** introduce themes absent from the context or the lists.  \n",
    "• Return **only** a valid JSON array of strings—no extra text.\n",
    "\n",
    "---\n",
    "CONTEXT\n",
    "{context}\n",
    "---\n",
    "\n",
    "OBJECT DESCRIPTION\n",
    "\\\"\\\"\\\"{caption}\\\"\\\"\\\"\n",
    "\n",
    "SECTIONS (for your internal guidance; do **NOT** echo)\n",
    "1.  Executive summary / Object overview  \n",
    "2.  Sustainability & life-cycle considerations  \n",
    "3.  Material selection & eco-alternatives  \n",
    "4.  Manufacturing-process flow  \n",
    "5.  Tooling, automation & industrial robotics  \n",
    "6.  Digital & smart-manufacturing enablers  \n",
    "7.  Simulation & virtual validation  \n",
    "8.  Quality & performance metrics  \n",
    "9.  Environmental & cost impact  \n",
    "10. Implementation roadmap / Smart-mfg priorities  \n",
    "\n",
    "ADDITIONAL THEMES (do **NOT** echo)\n",
    "11.  Manufacturing Automation  \n",
    "12.  Industrial Robotics  \n",
    "13.  Additive Manufacturing (AM)  \n",
    "14.  Subtractive vs. Layer-by-Layer Processes  \n",
    "15.  Sustainable Manufacturing  \n",
    "16.  Life-Cycle Thinking & LCA  \n",
    "17.  6-R Philosophy (Re-think, Reduce, Re-place, Re-cycle, Re-use, Re-pair)  \n",
    "18.  Unit Manufacturing Processes (UMPs)  \n",
    "19.  Process-Level KPIs (energy use, CO₂ per unit, cycle time, takt time)  \n",
    "20.  Material Selection & Eco-Alternatives  \n",
    "21.  Digital/Smart Manufacturing Enablers  \n",
    "22.  Information Models (ISA-95, RAMI 4.0)  \n",
    "23.  Network-Centric Manufacturing  \n",
    "24.  Discrete-Event Simulation  \n",
    "25.  Gauging & Validation (gauge R&R, virtual validation swim-lanes)  \n",
    "26.  Quality & Performance Metrics  \n",
    "27.  Environmental & Cost Impact (life-cycle costing, cost-breakdown structure)  \n",
    "28.  Tooling & Automation Migration  \n",
    "29.  Digital Thread & IoT Sensors  \n",
    "30.  Implementation Roadmap (phased Gantt, stakeholder matrix)  \n",
    "---\n",
    "\"\"\"))\n",
    "\n",
    "\n",
    "\n",
    "def generate_queries(caption: str,\n",
    "                     static_ret,\n",
    "                     k_queries: int = 6,\n",
    "                     k_ctx: int = 4) -> list[str]:\n",
    "\n",
    "\n",
    "    docs = static_ret.get_relevant_documents(caption)[:k_ctx]\n",
    "    ctx  = \"\\n\\n\".join(d.page_content[:800] for d in docs)\n",
    "\n",
    "\n",
    "    chain  = LLMChain(llm=llm,\n",
    "                      prompt=query_prompt.partial(k=k_queries))\n",
    "\n",
    "    result_dict = chain.invoke({\"caption\": caption, \"context\": ctx})\n",
    "    raw = result_dict[\"text\"] if isinstance(result_dict, dict) else result_dict\n",
    "\n",
    "    match = re.search(r\"\\[.*\\]\", raw, re.DOTALL)\n",
    "    if not match:\n",
    "        raise ValueError(f\"JSON not found:\\n{raw}\")\n",
    "\n",
    "    return [q.strip() for q in json.loads(match.group(0))]\n"
   ]
  },
  {
   "cell_type": "code",
   "execution_count": 8,
   "metadata": {},
   "outputs": [
    {
     "name": "stderr",
     "output_type": "stream",
     "text": [
      "/tmp/ipykernel_3440/1192840683.py:112: LangChainDeprecationWarning: The method `BaseRetriever.get_relevant_documents` was deprecated in langchain-core 0.1.46 and will be removed in 1.0. Use :meth:`~invoke` instead.\n",
      "  docs = static_ret.get_relevant_documents(caption)[:k_ctx]\n",
      "/tmp/ipykernel_3440/1192840683.py:116: LangChainDeprecationWarning: The class `LLMChain` was deprecated in LangChain 0.1.17 and will be removed in 1.0. Use :meth:`~RunnableSequence, e.g., `prompt | llm`` instead.\n",
      "  chain  = LLMChain(llm=llm,\n"
     ]
    },
    {
     "name": "stdout",
     "output_type": "stream",
     "text": [
      "Generated queries:\n",
      "  • CPSQTO Platinum 6B manufacturing process\n",
      "  • graphite pencil life-cycle considerations\n",
      "  • sustainable materials for pencils\n",
      "  • manufacturing process flow graphite pencil\n",
      "  • automation in pencil manufacturing\n",
      "  • industrial robotics for pencil production\n",
      "  • digital manufacturing enablers pencil industry\n",
      "  • simulation and virtual validation pencil manufacturing\n",
      "  • quality metrics graphite pencil\n",
      "  • environmental impact of pencil production\n",
      "  • implementation roadmap smart manufacturing pencils\n",
      "  • manufacturing automation graphite pencil\n",
      "  • industrial robotics pencil assembly\n",
      "  • additive manufacturing pencil components\n",
      "  • subtractive vs layer-by-layer pencil manufacturing\n",
      "  • sustainable manufacturing practices pencils\n",
      "  • life-cycle thinking pencil production\n",
      "  • 6-R philosophy pencil manufacturing\n",
      "  • unit manufacturing processes graphite pencil\n",
      "  • process-level KPIs pencil manufacturing\n",
      "  • material selection eco-alternatives pencils\n",
      "  • digital smart manufacturing enablers pencil\n",
      "  • information models ISA-95 pencil manufacturing\n",
      "  • network-centric manufacturing pencil production\n",
      "  • discrete-event simulation pencil assembly\n",
      "  • gauging validation graphite pencil\n",
      "  • quality performance metrics CPSQTO Platinum 6B\n",
      "  • environmental cost impact pencil life-cycle\n",
      "  • tooling automation migration pencil manufacturing\n",
      "  • digital thread IoT sensors pencil production\n",
      "  • implementation roadmap phased Gantt pencil manufacturing\n"
     ]
    }
   ],
   "source": [
    "search_queries = generate_queries(object_desc, static_ret, k_queries=30, k_ctx=6)\n",
    "print(\"Generated queries:\")\n",
    "for q in search_queries:\n",
    "    print(f\"  • {q}\")"
   ]
  },
  {
   "cell_type": "markdown",
   "metadata": {},
   "source": [
    "## Dynamic DB"
   ]
  },
  {
   "cell_type": "markdown",
   "metadata": {},
   "source": [
    "### Duck-Duck-Go scraping for top N URLs"
   ]
  },
  {
   "cell_type": "code",
   "execution_count": 9,
   "metadata": {},
   "outputs": [],
   "source": [
    "def ddg_search(query: str, max_results: int = 5) -> list[str]:\n",
    "    \"\"\"\n",
    "    Returns the top‑N DuckDuckGo result URLs for a query.\n",
    "    \"\"\"\n",
    "    with DDGS() as ddgs:\n",
    "        return [hit[\"href\"] for hit in ddgs.text(query, max_results=max_results)]\n",
    "\n",
    "# Example usage:\n",
    "# urls = [u for q in queries for u in ddg_search(q, max_results=5)]\n",
    "# urls = list(dict.fromkeys(urls))  # dedupe while preserving order"
   ]
  },
  {
   "cell_type": "code",
   "execution_count": 10,
   "metadata": {},
   "outputs": [],
   "source": [
    "async def fetch_documents(urls: list[str]):\n",
    "    \"\"\"\n",
    "    Asynchronously downloads each page and converts HTML→plain text.\n",
    "    Returns a list of LangChain Document objects.\n",
    "    \"\"\"\n",
    "    loader    = AsyncHtmlLoader(urls)\n",
    "    html_docs = await loader.load()                       # list[Document] with HTML in .page_content\n",
    "    transformer = Html2TextTransformer()                  # strips tags, yields markdown‑style text :contentReference[oaicite:0]{index=0}\n",
    "    text_docs = transformer.transform_documents(html_docs)\n",
    "    return text_docs\n"
   ]
  },
  {
   "cell_type": "code",
   "execution_count": 11,
   "metadata": {},
   "outputs": [
    {
     "name": "stdout",
     "output_type": "stream",
     "text": [
      "\n",
      "Query: CPSQTO Platinum 6B manufacturing process\n",
      "  URLs:\n",
      "    • https://ipa-news.com/assets/pdfs/guidance/chapter-3-pgm-guide.pdf\n",
      "    • https://www.metal-am.com/articles/the-advantages-of-metal-3d-printing-for-the-processing-of-platinum-group-metals/\n",
      "    • https://technology.matthey.com/content/journals/10.1595/003214063X74136143\n",
      "    • https://www.sciencedirect.com/science/article/pii/S1044580323008707\n",
      "    • https://www.researchgate.net/publication/323949041_Refining_Approaches_in_the_Platinum_Group_Metal_Processing_Value_Chain-A_Review\n",
      "\n",
      "Query: graphite pencil life-cycle considerations\n",
      "  URLs:\n",
      "    • https://www.researchgate.net/publication/362707264_Life_Cycle_Assessment_of_Pencils\n",
      "    • https://graphography.org/index.php/2022/12/02/mechanical-pencil-month-day-2-the-life-cycle-of-the-pencil/\n",
      "    • https://studylib.net/doc/9193036/life-cycle-of-a-pencil\n",
      "    • https://www.scribd.com/document/573071950/LIFE-CYCLE-ASSESSMENT-OF-LEAD-PENCIL\n",
      "    • https://sharnbrook.academy/wp-content/uploads/2023/03/Science-Work-Years-9-10-Article.pdf\n",
      "\n",
      "Query: sustainable materials for pencils\n",
      "  URLs:\n",
      "    • https://citizensustainable.com/pencils-eco-friendly/\n",
      "    • https://agreeableco.com/25-best-eco-friendly-pens-pencils-recycled-sustainable-materials-best-of-collection/\n",
      "    • https://www.trvst.world/sustainable-living/eco-friendly/pens-and-pencils/\n",
      "    • https://www.sustainablejungle.com/eco-friendly-school-supplies/\n",
      "    • https://allianzmedia.com/pencil-materials-to-replace-wood/\n",
      "\n",
      "Query: manufacturing process flow graphite pencil\n",
      "  URLs:\n",
      "    • https://khatabook.com/blog/pencil-manufacturing-process/\n",
      "    • https://www.madehow.com/Volume-1/Pencil.html\n",
      "    • https://www.youtube.com/watch?v=PMjaanfE21M\n",
      "    • https://www.artisticaly.com/how-pencils-are-made-raw-material-manufacturing-process-and-types/\n",
      "    • https://mechforged.com/manufacturing-process-of-a-pencil/\n",
      "\n",
      "Query: automation in pencil manufacturing\n",
      "  URLs:\n",
      "    • https://blog.osum.com/pencil-making-machine/\n",
      "    • https://www.pftautomation.com/product/showproduct.php?id=88\n",
      "    • https://dspace.mit.edu/handle/1721.1/83707\n",
      "    • https://mechforged.com/manufacturing-process-of-a-pencil/\n",
      "    • https://www.cantechletter.com/2025/02/how-might-tariffs-affect-the-worlds-production-of-pencils/\n",
      "\n",
      "Query: industrial robotics for pencil production\n",
      "  URLs:\n",
      "    • https://www.sciencedirect.com/science/article/pii/S0921889021001974\n",
      "    • https://sharonandinge.com/drawing-robot\n",
      "    • https://journals.sagepub.com/doi/10.1177/09544062221096946?icid=int.sj-abstract.similar-articles.1\n",
      "    • https://newatlas.com/industrial-robot-pencil-sketches/21547/\n",
      "    • https://www.mdpi.com/2227-9717/13/3/832\n",
      "\n",
      "Query: digital manufacturing enablers pencil industry\n",
      "  URLs:\n",
      "    • https://blog.osum.com/pencil-making-machine/\n",
      "    • https://www.sciencedirect.com/science/article/pii/S2214785323012427\n",
      "    • https://www.mckinsey.com/~/media/McKinsey/Business+Functions/Operations/Our+Insights/Industry+40+How+to+navigate+digitization+of+the+manufacturing+sector/Industry-40-How-to-navigate-digitization-of-the-manufacturing-sector.ashx\n",
      "    • https://newji.ai/japan-industry/unlocking-the-art-of-precision-exploring-japanese-mastery-in-colored-pencil-oem-manufacturing/\n",
      "    • https://www.cbh.com/insights/articles/key-steps-to-digital-transformation-for-manufacturers/\n",
      "\n",
      "Query: simulation and virtual validation pencil manufacturing\n",
      "  URLs:\n",
      "    • https://www.6sigma.us/manufacturing/manufacturing-process-simulation/\n",
      "    • https://dl.acm.org/doi/10.1145/3587889.3587904\n",
      "    • https://static.sw.cdn.siemens.com/siemens-disw-assets/public/5btOA1Vuic3O7MPUaT4Tza/en-US/White+paper+CIMdata+-+Product+Verification+and+Validation+-+Accelerated+Product+Development.pdf\n",
      "    • https://resources.sw.siemens.com/en-US/fact-sheet-process-simulate-manufacturing-process-verification-in-a-powerful-3d/\n",
      "    • https://tsapps.nist.gov/publication/get_pdf.cfm?pub_id=822090\n",
      "\n",
      "Query: quality metrics graphite pencil\n",
      "  URLs:\n",
      "    • https://chinastationery.com/knowledge/graphite-pencil-scale/\n",
      "    • https://pencils.com/pages/hb-graphite-grading-scale\n",
      "    • https://penvibe.com/the-graphite-pencil-scale-ultimate-guide/\n",
      "    • https://cecelyv.com/pencil-grading-scale/\n",
      "    • https://artincontext.org/hardness-of-pencils/\n",
      "\n",
      "Query: environmental impact of pencil production\n",
      "  URLs:\n",
      "    • https://calcedar.com/pencils-environmental-profile/\n",
      "    • https://www.researchgate.net/publication/343469139_Eco-Efficiency_of_Pencil_Preduction_Using_Life_Cycle_Assessment_to_Increase_the_Manufacture_Sustainability\n",
      "    • https://greenchicafe.com/are-pencils-environmentally-friendly/\n",
      "    • https://prezi.com/jfrplxrhxt_s/how-a-pencil-is-made-and-its-environmental-impacts/\n",
      "    • https://www.img4you.com/knowledge/10004780\n",
      "\n",
      "Query: implementation roadmap smart manufacturing pencils\n",
      "  URLs:\n",
      "    • https://www.cesmii.org/education/roadmap-tools/\n",
      "    • https://visualdecisions.com/cesmii-smart-mfg-roadmap\n",
      "    • https://ijcrt.org/papers/IJCRT24A4648.pdf\n",
      "    • https://www.gartner.com/smarterwithgartner/6-key-actions-for-a-successful-smart-manufacturing-strategy\n",
      "    • https://www.verizon.com/business/resources/articles/creating-your-roadmap-to-smarter-manufacturing.pdf\n",
      "\n",
      "Query: manufacturing automation graphite pencil\n",
      "  URLs:\n",
      "    • https://blog.osum.com/pencil-making-machine/\n",
      "    • https://mechforged.com/manufacturing-process-of-a-pencil/\n",
      "    • https://www.cantechletter.com/2025/02/how-might-tariffs-affect-the-worlds-production-of-pencils/\n",
      "    • https://mechforged.com/manufacturing-process-of-a-mechanical-pencil/\n",
      "    • https://khatabook.com/blog/pencil-manufacturing-process/\n",
      "\n",
      "Query: industrial robotics pencil assembly\n",
      "  URLs:\n",
      "    • https://www.researchgate.net/publication/334643030_A_Robot_That_Draws_and_Shades_with_Tactile_Force_Feedback_Sensed_Through_a_Pencil\n",
      "    • https://www.pftautomation.com/product/showproduct.php?id=88\n",
      "    • https://www.sciencedirect.com/science/article/pii/S0921889021001974\n",
      "    • https://kawasakirobotics.com/applications/assembly/\n",
      "    • https://www.emerald.com/insight/content/doi/10.1108/ir-09-2018-0189/full/html\n",
      "\n",
      "Query: additive manufacturing pencil components\n",
      "  URLs:\n",
      "    • https://mechforged.com/manufacturing-process-of-a-mechanical-pencil/\n",
      "    • https://xactmetal.com/wp-content/uploads/2020/04/Xact-Metal-Design-Guide.pdf\n",
      "    • https://www.madehow.com/Volume-1/Pencil.html\n",
      "    • https://www.sciencedirect.com/science/article/pii/S2214785319322072\n",
      "    • https://khatabook.com/blog/pencil-manufacturing-process/\n",
      "\n",
      "Query: subtractive vs layer-by-layer pencil manufacturing\n",
      "  URLs:\n",
      "    • https://www.unionfab.com/blog/2024/09/additive-vs-subtractive-manufacturing\n",
      "    • https://www.rapiddirect.com/blog/additive-vs-subtractive-manufacturing/\n",
      "    • https://kdmfab.com/subtractive-additive-manufacturing/\n",
      "    • https://shop.machinemfg.com/comparing-additive-manufacturing-vs-subtractive-manufacturing-what-are-the-differences/\n",
      "    • https://www.team-mfg.com/additive-vs-subtractive-manufacturing.html\n",
      "\n",
      "Query: sustainable manufacturing practices pencils\n",
      "  URLs:\n",
      "    • https://www.stationery-supplier.com/the-sustainable-journey-of-pencil-manufacturing/\n",
      "    • https://durzerd.com/new/How-Innovations-in-Pencil-Manufacturing-are-Revolutionizing-Sustainability.html\n",
      "    • https://www.img4you.com/knowledge/10004780\n",
      "    • https://thesustainable.life/how-are-recycled-pencils-made/\n",
      "    • https://www.facetsjournal.com/doi/10.1139/facets-2023-0170\n",
      "\n",
      "Query: life-cycle thinking pencil production\n",
      "  URLs:\n",
      "    • https://www.teachsustainability.org/post/the-great-pencil-challenge-exploring-the-eco-footprint-of-the-humble-pencil\n",
      "    • https://sharnbrook.academy/wp-content/uploads/2023/03/Science-Work-Years-9-10-Article.pdf\n",
      "    • https://www.researchgate.net/publication/362707264_Life_Cycle_Assessment_of_Pencils\n",
      "    • https://www.researchgate.net/publication/343469139_Eco-Efficiency_of_Pencil_Preduction_Using_Life_Cycle_Assessment_to_Increase_the_Manufacture_Sustainability\n",
      "    • https://www.nsta.org/journals/science-scope/science-scope-april-2000/life-cycle-pencil\n",
      "\n",
      "Query: 6-R philosophy pencil manufacturing\n",
      "  URLs:\n",
      "    • https://www.theveganreview.com/the-6-rs-of-sustainability-what-does-sustainable-really-mean/\n",
      "    • https://www.researchgate.net/publication/333466082_Process_sustainability_evaluation_for_manufacturing_of_a_component_with_the_6R_application\n",
      "    • https://www.stationery-supplier.com/the-sustainable-journey-of-pencil-manufacturing/\n",
      "    • https://practicalaction.org/learning/waste/the-6-rs/\n",
      "    • https://ecohan.com/sustainable-living/the-6-rs-of-sustainability-a-comprehensive-guide-to-eco-conscious-living/\n",
      "\n",
      "Query: unit manufacturing processes graphite pencil\n",
      "  URLs:\n",
      "    • https://khatabook.com/blog/pencil-manufacturing-process/\n",
      "    • https://www.madehow.com/Volume-1/Pencil.html\n",
      "    • https://mechforged.com/manufacturing-process-of-a-pencil/\n",
      "    • https://koliwoodpencil.com/how-are-pencils-manufactured/\n",
      "    • https://musgravepencil.com/blogs/news/howapencilismade\n",
      "\n",
      "Query: process-level KPIs pencil manufacturing\n",
      "  URLs:\n",
      "    • https://www.projectmanager.com/blog/manufacturing-kpis\n",
      "    • https://insightsoftware.com/blog/30-manufacturing-kpis-and-metric-examples/\n",
      "    • https://www.dataparc.com/blog/establishing-manufacturing-kpis-for-continuous-improvement/\n",
      "    • https://www.netsuite.com/portal/resource/articles/erp/manufacturing-kpis-metrics.shtml\n",
      "    • https://link.springer.com/chapter/10.1007/978-3-031-72494-7_22\n",
      "\n",
      "Query: material selection eco-alternatives pencils\n",
      "  URLs:\n",
      "    • https://agreeableco.com/25-best-eco-friendly-pens-pencils-recycled-sustainable-materials-best-of-collection/\n",
      "    • https://allianzmedia.com/pencil-materials-to-replace-wood/\n",
      "    • https://citizensustainable.com/pencils-eco-friendly/\n",
      "    • https://www.trvst.world/sustainable-living/eco-friendly/pens-and-pencils/\n",
      "    • https://www.artnews.com/art-news/product-recommendations/sustainable-the-best-eco-friendly-graphite-pencils-1234626048/\n",
      "\n",
      "Query: digital smart manufacturing enablers pencil\n",
      "  URLs:\n",
      "    • https://www.stationerymanufacturers.com/pencil-innovations-the-future-of-an-age-old-tool/\n",
      "    • https://journals.sagepub.com/doi/full/10.1177/0954405417736547\n",
      "    • https://www.sciencedirect.com/science/article/pii/S0360835222004922\n",
      "    • https://dl.acm.org/doi/10.1145/3652620.3688250\n",
      "    • https://enme.umd.edu/clark/faculty/1772/Jay-Lee\n",
      "\n",
      "Query: information models ISA-95 pencil manufacturing\n",
      "  URLs:\n",
      "    • https://apsom.org/docs/T061_isa95-04.pdf\n",
      "    • https://www.mesmatters.com/post/what-is-the-isa-95-model-and-where-does-mes-fit\n",
      "    • https://www.emqx.com/en/blog/exploring-isa95-standards-in-manufacturing\n",
      "    • https://www.sw.siemens.com/en-US/technology/isa-95-framework-layers/\n",
      "    • https://web-material3.yokogawa.com/2/11821/tabs/document_11744.pdf\n",
      "\n",
      "Query: network-centric manufacturing pencil production\n",
      "  URLs:\n",
      "    • https://www.syndicatedanalytics.com/pencil-manufacturing-plant-project-report\n",
      "    • https://www.neuralword.com/en/education-history-science-general-culture-society/science-nature/how-pencils-are-manufactured-an-overview-of-the-production-process\n",
      "    • https://www.interwell.cn/how-pencils-are-made-a-detailed-production-process-guide\n",
      "    • https://www.tandfonline.com/doi/full/10.1080/00207543.2011.618147\n",
      "    • https://mechforged.com/manufacturing-process-of-a-pencil/\n",
      "\n",
      "Query: discrete-event simulation pencil assembly\n",
      "  URLs:\n",
      "    • https://slideplayer.com/slide/4457371/\n",
      "    • https://en.wikipedia.org/wiki/Discrete-event_simulation\n",
      "    • https://ocw.mit.edu/courses/2-875-mechanical-assembly-and-its-role-in-product-development-fall-2004/e9c308d7bcb9c7bf6b7685b4bc7ac6a8_cls20_smltion04.pdf\n",
      "    • https://www.tandfonline.com/doi/full/10.1080/0951192X.2016.1145812\n",
      "    • https://ferltz.github.io/inv_oper_2/documents/books/Discrete-Event+System+Simulation-Pearson+Banks+Carson+(2013).pdf\n",
      "\n",
      "Query: gauging validation graphite pencil\n",
      "  URLs:\n",
      "    • https://lgilab.com/decoding-the-pencil-hardness-scale-key-insights-for-effective-packaging-validation/\n",
      "    • https://lgilab.com/understanding-the-astm-d3363-pencil-test-for-packaging-validation/\n",
      "    • https://lgilab.com/decoding-pencil-hardness-a-key-factor-in-packaging-validation/\n",
      "    • https://www.elcometerusa.com/Laboratory/Pencil-Hardness-Testing/\n",
      "    • https://pencils.com/pages/hb-graphite-grading-scale\n",
      "\n",
      "Query: quality performance metrics CPSQTO Platinum 6B\n",
      "  URLs:\n",
      "    • https://www.energy.gov/sites/default/files/2021-07/Module_6B.pdf\n",
      "    • https://www.ease.io/blog/14-metrics-every-quality-exec-should-monitor-how-to-calculate-them/\n",
      "    • https://www.someka.net/blog/quality-kpis/\n",
      "    • https://safetyculture.com/topics/quality-metrics/\n",
      "    • https://bscdesigner.com/quality-kpis.htm\n",
      "\n",
      "Query: environmental cost impact pencil life-cycle\n",
      "  URLs:\n",
      "    • https://www.researchgate.net/publication/343469139_Eco-Efficiency_of_Pencil_Preduction_Using_Life_Cycle_Assessment_to_Increase_the_Manufacture_Sustainability\n",
      "    • https://jurnalindustri.petra.ac.id/index.php/ind/article/view/22504\n",
      "    • https://www.researchgate.net/publication/362707264_Life_Cycle_Assessment_of_Pencils\n",
      "    • https://ecommons.udayton.edu/cgi/viewcontent.cgi?article=2741&context=stander_posters\n",
      "    • https://sustain.ubc.ca/sites/default/files/seedslibrary/EcoFriendlyOfficeSupplies_Group+1.pdf\n",
      "\n",
      "Query: tooling automation migration pencil manufacturing\n",
      "  URLs:\n",
      "    • https://blog.osum.com/pencil-making-machine/\n",
      "    • https://www.ctemag.com/news/pencil-sketch-high-tech-automation\n",
      "    • https://electrical-engineering-portal.com/automation-migration-strategy-in-3-phases\n",
      "    • https://www.makino.com/getmedia/d3ed3d7d-663c-4a28-936f-805ece30f742/The-Roadmap-to-the-Five-Levels-of-Manufacturing-Automation-(2020)-(1).pdf?ext=.pdf\n",
      "    • https://www.ajiet.edu.in/img/mech/18+scheme/CADM-18ME72.pdf\n",
      "\n",
      "Query: digital thread IoT sensors pencil production\n",
      "  URLs:\n",
      "    • https://prophecyiot.com/digital-thread/\n",
      "    • https://www.microsoft.com/en-us/industry/blog/manufacturing-and-mobility/2025/03/13/unlocking-the-future-of-manufacturing-with-ai-powered-digital-thread/\n",
      "    • https://www.ibm.com/think/topics/digital-thread-vs-digital-twin\n",
      "    • https://www.plataine.com/application/digital-thread/\n",
      "    • https://productiondigitalthread.com/wp-content/uploads/2024/04/Digital-Thread-finalwhitepapers_jan2024.pdf\n",
      "\n",
      "Query: implementation roadmap phased Gantt pencil manufacturing\n",
      "  URLs:\n",
      "    • https://thorntonandlowe.com/how-to-write-an-implementation-plan/\n",
      "    • https://nzbef.org.nz/wp-content/uploads/2019/05/Guide-Lean-Implementation-Steps-Plan-Roadmap-Timeline.pdf\n",
      "    • https://www.officetimeline.com/blog/best-examples-of-timelines-gantt-charts-and-roadmaps-for-the-manufacturing-industry\n",
      "    • https://www.projectmanager.com/blog/tips-for-project-roadmap\n",
      "    • https://www.smartsheet.com/content/implementation-plan-templates\n",
      "\n",
      "Total unique URLs: 127\n"
     ]
    }
   ],
   "source": [
    "all_urls = []\n",
    "for q in search_queries:\n",
    "    urls = ddg_search(q, max_results=5)\n",
    "    print(f\"\\nQuery: {q}\\n  URLs:\")\n",
    "    for u in urls:\n",
    "        print(\"    •\", u)\n",
    "    all_urls.extend(urls)\n",
    "    time.sleep(1)  # be nice to DDG\n",
    "\n",
    "unique_urls = list(dict.fromkeys(all_urls))\n",
    "print(f\"\\nTotal unique URLs: {len(unique_urls)}\")\n"
   ]
  },
  {
   "cell_type": "markdown",
   "metadata": {},
   "source": [
    "### Fetch HTML Docs as plain text"
   ]
  },
  {
   "cell_type": "code",
   "execution_count": 12,
   "metadata": {},
   "outputs": [
    {
     "name": "stdout",
     "output_type": "stream",
     "text": [
      "\n",
      "Fetching and parsing first 127 available pages:\n"
     ]
    },
    {
     "name": "stderr",
     "output_type": "stream",
     "text": [
      "Fetching pages:   0%|          | 0/1 [00:00<?, ?it/s]Failed to decode content from https://ipa-news.com/assets/pdfs/guidance/chapter-3-pgm-guide.pdf\n",
      "Fetching pages: 100%|##########| 1/1 [00:03<00:00,  3.72s/it]\n"
     ]
    },
    {
     "name": "stdout",
     "output_type": "stream",
     "text": [
      "[1/127] ✓ Fetched https://ipa-news.com/assets/pdfs/guidance/chapter-3-pgm-guide.pdf\n"
     ]
    },
    {
     "name": "stderr",
     "output_type": "stream",
     "text": [
      "Fetching pages: 100%|##########| 1/1 [00:00<00:00,  8.11it/s]\n"
     ]
    },
    {
     "name": "stdout",
     "output_type": "stream",
     "text": [
      "[2/127] ✓ Fetched https://www.metal-am.com/articles/the-advantages-of-metal-3d-printing-for-the-processing-of-platinum-group-metals/\n"
     ]
    },
    {
     "name": "stderr",
     "output_type": "stream",
     "text": [
      "Fetching pages: 100%|##########| 1/1 [00:00<00:00,  1.38it/s]\n"
     ]
    },
    {
     "name": "stdout",
     "output_type": "stream",
     "text": [
      "[3/127] ✓ Fetched https://technology.matthey.com/content/journals/10.1595/003214063X74136143\n"
     ]
    },
    {
     "name": "stderr",
     "output_type": "stream",
     "text": [
      "Fetching pages: 100%|##########| 1/1 [00:01<00:00,  1.32s/it]\n"
     ]
    },
    {
     "name": "stdout",
     "output_type": "stream",
     "text": [
      "[4/127] ✓ Fetched https://www.sciencedirect.com/science/article/pii/S1044580323008707\n"
     ]
    },
    {
     "name": "stderr",
     "output_type": "stream",
     "text": [
      "Fetching pages: 100%|##########| 1/1 [00:00<00:00, 14.42it/s]\n"
     ]
    },
    {
     "name": "stdout",
     "output_type": "stream",
     "text": [
      "[5/127] ✓ Fetched https://www.researchgate.net/publication/323949041_Refining_Approaches_in_the_Platinum_Group_Metal_Processing_Value_Chain-A_Review\n"
     ]
    },
    {
     "name": "stderr",
     "output_type": "stream",
     "text": [
      "Fetching pages: 100%|##########| 1/1 [00:00<00:00, 14.59it/s]\n"
     ]
    },
    {
     "name": "stdout",
     "output_type": "stream",
     "text": [
      "[6/127] ✓ Fetched https://www.researchgate.net/publication/362707264_Life_Cycle_Assessment_of_Pencils\n"
     ]
    },
    {
     "name": "stderr",
     "output_type": "stream",
     "text": [
      "Fetching pages: 100%|##########| 1/1 [00:00<00:00,  1.99it/s]\n"
     ]
    },
    {
     "name": "stdout",
     "output_type": "stream",
     "text": [
      "[7/127] ✓ Fetched https://graphography.org/index.php/2022/12/02/mechanical-pencil-month-day-2-the-life-cycle-of-the-pencil/\n"
     ]
    },
    {
     "name": "stderr",
     "output_type": "stream",
     "text": [
      "Fetching pages: 100%|##########| 1/1 [00:00<00:00,  1.99it/s]\n"
     ]
    },
    {
     "name": "stdout",
     "output_type": "stream",
     "text": [
      "[8/127] ✓ Fetched https://studylib.net/doc/9193036/life-cycle-of-a-pencil\n"
     ]
    },
    {
     "name": "stderr",
     "output_type": "stream",
     "text": [
      "Fetching pages: 100%|##########| 1/1 [00:00<00:00, 15.89it/s]\n"
     ]
    },
    {
     "name": "stdout",
     "output_type": "stream",
     "text": [
      "[9/127] ✓ Fetched https://www.scribd.com/document/573071950/LIFE-CYCLE-ASSESSMENT-OF-LEAD-PENCIL\n"
     ]
    },
    {
     "name": "stderr",
     "output_type": "stream",
     "text": [
      "Fetching pages:   0%|          | 0/1 [00:00<?, ?it/s]Failed to decode content from https://sharnbrook.academy/wp-content/uploads/2023/03/Science-Work-Years-9-10-Article.pdf\n",
      "Fetching pages: 100%|##########| 1/1 [00:01<00:00,  1.02s/it]\n"
     ]
    },
    {
     "name": "stdout",
     "output_type": "stream",
     "text": [
      "[10/127] ✓ Fetched https://sharnbrook.academy/wp-content/uploads/2023/03/Science-Work-Years-9-10-Article.pdf\n"
     ]
    },
    {
     "name": "stderr",
     "output_type": "stream",
     "text": [
      "Fetching pages: 100%|##########| 1/1 [00:00<00:00,  7.46it/s]\n"
     ]
    },
    {
     "name": "stdout",
     "output_type": "stream",
     "text": [
      "[11/127] ✓ Fetched https://citizensustainable.com/pencils-eco-friendly/\n"
     ]
    },
    {
     "name": "stderr",
     "output_type": "stream",
     "text": [
      "Fetching pages: 100%|##########| 1/1 [00:03<00:00,  3.63s/it]\n"
     ]
    },
    {
     "name": "stdout",
     "output_type": "stream",
     "text": [
      "[12/127] ✓ Fetched https://agreeableco.com/25-best-eco-friendly-pens-pencils-recycled-sustainable-materials-best-of-collection/\n"
     ]
    },
    {
     "name": "stderr",
     "output_type": "stream",
     "text": [
      "Fetching pages: 100%|##########| 1/1 [00:02<00:00,  2.45s/it]\n"
     ]
    },
    {
     "name": "stdout",
     "output_type": "stream",
     "text": [
      "[13/127] ✓ Fetched https://www.trvst.world/sustainable-living/eco-friendly/pens-and-pencils/\n"
     ]
    },
    {
     "name": "stderr",
     "output_type": "stream",
     "text": [
      "Fetching pages: 100%|##########| 1/1 [00:00<00:00, 11.83it/s]\n"
     ]
    },
    {
     "name": "stdout",
     "output_type": "stream",
     "text": [
      "[14/127] ✓ Fetched https://www.sustainablejungle.com/eco-friendly-school-supplies/\n"
     ]
    },
    {
     "name": "stderr",
     "output_type": "stream",
     "text": [
      "Fetching pages: 100%|##########| 1/1 [00:00<00:00,  2.16it/s]\n"
     ]
    },
    {
     "name": "stdout",
     "output_type": "stream",
     "text": [
      "[15/127] ✓ Fetched https://allianzmedia.com/pencil-materials-to-replace-wood/\n"
     ]
    },
    {
     "name": "stderr",
     "output_type": "stream",
     "text": [
      "Fetching pages: 100%|##########| 1/1 [00:01<00:00,  1.08s/it]\n"
     ]
    },
    {
     "name": "stdout",
     "output_type": "stream",
     "text": [
      "[16/127] ✓ Fetched https://khatabook.com/blog/pencil-manufacturing-process/\n"
     ]
    },
    {
     "name": "stderr",
     "output_type": "stream",
     "text": [
      "Fetching pages: 100%|##########| 1/1 [00:00<00:00,  4.50it/s]\n"
     ]
    },
    {
     "name": "stdout",
     "output_type": "stream",
     "text": [
      "[17/127] ✓ Fetched https://www.madehow.com/Volume-1/Pencil.html\n"
     ]
    },
    {
     "name": "stderr",
     "output_type": "stream",
     "text": [
      "Fetching pages: 100%|##########| 1/1 [00:00<00:00,  1.85it/s]\n"
     ]
    },
    {
     "name": "stdout",
     "output_type": "stream",
     "text": [
      "[18/127] ✓ Fetched https://www.youtube.com/watch?v=PMjaanfE21M\n"
     ]
    },
    {
     "name": "stderr",
     "output_type": "stream",
     "text": [
      "Fetching pages: 100%|##########| 1/1 [00:00<00:00,  2.02it/s]\n"
     ]
    },
    {
     "name": "stdout",
     "output_type": "stream",
     "text": [
      "[19/127] ✓ Fetched https://www.artisticaly.com/how-pencils-are-made-raw-material-manufacturing-process-and-types/\n"
     ]
    },
    {
     "name": "stderr",
     "output_type": "stream",
     "text": [
      "Fetching pages: 100%|##########| 1/1 [00:00<00:00,  1.37it/s]\n"
     ]
    },
    {
     "name": "stdout",
     "output_type": "stream",
     "text": [
      "[20/127] ✓ Fetched https://mechforged.com/manufacturing-process-of-a-pencil/\n"
     ]
    },
    {
     "name": "stderr",
     "output_type": "stream",
     "text": [
      "Fetching pages: 100%|##########| 1/1 [00:00<00:00,  1.16it/s]\n"
     ]
    },
    {
     "name": "stdout",
     "output_type": "stream",
     "text": [
      "[21/127] ✓ Fetched https://blog.osum.com/pencil-making-machine/\n"
     ]
    },
    {
     "name": "stderr",
     "output_type": "stream",
     "text": [
      "Fetching pages: 100%|##########| 1/1 [00:01<00:00,  1.51s/it]\n"
     ]
    },
    {
     "name": "stdout",
     "output_type": "stream",
     "text": [
      "[22/127] ✓ Fetched https://www.pftautomation.com/product/showproduct.php?id=88\n"
     ]
    },
    {
     "name": "stderr",
     "output_type": "stream",
     "text": [
      "Fetching pages: 100%|##########| 1/1 [00:01<00:00,  1.11s/it]\n"
     ]
    },
    {
     "name": "stdout",
     "output_type": "stream",
     "text": [
      "[23/127] ✓ Fetched https://dspace.mit.edu/handle/1721.1/83707\n"
     ]
    },
    {
     "name": "stderr",
     "output_type": "stream",
     "text": [
      "Fetching pages: 100%|##########| 1/1 [00:00<00:00,  5.22it/s]\n"
     ]
    },
    {
     "name": "stdout",
     "output_type": "stream",
     "text": [
      "[24/127] ✓ Fetched https://www.cantechletter.com/2025/02/how-might-tariffs-affect-the-worlds-production-of-pencils/\n"
     ]
    },
    {
     "name": "stderr",
     "output_type": "stream",
     "text": [
      "Fetching pages: 100%|##########| 1/1 [00:00<00:00,  2.66it/s]\n"
     ]
    },
    {
     "name": "stdout",
     "output_type": "stream",
     "text": [
      "[25/127] ✓ Fetched https://www.sciencedirect.com/science/article/pii/S0921889021001974\n"
     ]
    },
    {
     "name": "stderr",
     "output_type": "stream",
     "text": [
      "Fetching pages: 100%|##########| 1/1 [00:00<00:00,  3.15it/s]\n"
     ]
    },
    {
     "name": "stdout",
     "output_type": "stream",
     "text": [
      "[26/127] ✓ Fetched https://sharonandinge.com/drawing-robot\n"
     ]
    },
    {
     "name": "stderr",
     "output_type": "stream",
     "text": [
      "Fetching pages: 100%|##########| 1/1 [00:00<00:00, 20.32it/s]\n"
     ]
    },
    {
     "name": "stdout",
     "output_type": "stream",
     "text": [
      "[27/127] ✓ Fetched https://journals.sagepub.com/doi/10.1177/09544062221096946?icid=int.sj-abstract.similar-articles.1\n"
     ]
    },
    {
     "name": "stderr",
     "output_type": "stream",
     "text": [
      "Fetching pages: 100%|##########| 1/1 [00:01<00:00,  1.01s/it]\n"
     ]
    },
    {
     "name": "stdout",
     "output_type": "stream",
     "text": [
      "[28/127] ✓ Fetched https://newatlas.com/industrial-robot-pencil-sketches/21547/\n"
     ]
    },
    {
     "name": "stderr",
     "output_type": "stream",
     "text": [
      "Fetching pages: 100%|##########| 1/1 [00:00<00:00, 22.53it/s]\n"
     ]
    },
    {
     "name": "stdout",
     "output_type": "stream",
     "text": [
      "[29/127] ✓ Fetched https://www.mdpi.com/2227-9717/13/3/832\n"
     ]
    },
    {
     "name": "stderr",
     "output_type": "stream",
     "text": [
      "Fetching pages: 100%|##########| 1/1 [00:01<00:00,  1.15s/it]\n"
     ]
    },
    {
     "name": "stdout",
     "output_type": "stream",
     "text": [
      "[30/127] ✓ Fetched https://www.sciencedirect.com/science/article/pii/S2214785323012427\n"
     ]
    },
    {
     "name": "stderr",
     "output_type": "stream",
     "text": [
      "Fetching pages: 100%|##########| 1/1 [00:00<00:00,  2.66it/s]\n"
     ]
    },
    {
     "name": "stdout",
     "output_type": "stream",
     "text": [
      "[31/127] ✓ Fetched https://www.mckinsey.com/~/media/McKinsey/Business+Functions/Operations/Our+Insights/Industry+40+How+to+navigate+digitization+of+the+manufacturing+sector/Industry-40-How-to-navigate-digitization-of-the-manufacturing-sector.ashx\n"
     ]
    },
    {
     "name": "stderr",
     "output_type": "stream",
     "text": [
      "Fetching pages: 100%|##########| 1/1 [00:02<00:00,  2.04s/it]\n"
     ]
    },
    {
     "name": "stdout",
     "output_type": "stream",
     "text": [
      "[32/127] ✓ Fetched https://newji.ai/japan-industry/unlocking-the-art-of-precision-exploring-japanese-mastery-in-colored-pencil-oem-manufacturing/\n"
     ]
    },
    {
     "name": "stderr",
     "output_type": "stream",
     "text": [
      "Fetching pages: 100%|##########| 1/1 [00:00<00:00,  2.55it/s]\n"
     ]
    },
    {
     "name": "stdout",
     "output_type": "stream",
     "text": [
      "[33/127] ✓ Fetched https://www.cbh.com/insights/articles/key-steps-to-digital-transformation-for-manufacturers/\n"
     ]
    },
    {
     "name": "stderr",
     "output_type": "stream",
     "text": [
      "Fetching pages: 100%|##########| 1/1 [00:01<00:00,  1.31s/it]\n"
     ]
    },
    {
     "name": "stdout",
     "output_type": "stream",
     "text": [
      "[34/127] ✓ Fetched https://www.6sigma.us/manufacturing/manufacturing-process-simulation/\n"
     ]
    },
    {
     "name": "stderr",
     "output_type": "stream",
     "text": [
      "Fetching pages: 100%|##########| 1/1 [00:00<00:00, 18.03it/s]\n"
     ]
    },
    {
     "name": "stdout",
     "output_type": "stream",
     "text": [
      "[35/127] ✓ Fetched https://dl.acm.org/doi/10.1145/3587889.3587904\n"
     ]
    },
    {
     "name": "stderr",
     "output_type": "stream",
     "text": [
      "Fetching pages:   0%|          | 0/1 [00:00<?, ?it/s]Failed to decode content from https://static.sw.cdn.siemens.com/siemens-disw-assets/public/5btOA1Vuic3O7MPUaT4Tza/en-US/White+paper+CIMdata+-+Product+Verification+and+Validation+-+Accelerated+Product+Development.pdf\n",
      "Fetching pages: 100%|##########| 1/1 [00:00<00:00,  1.31it/s]\n"
     ]
    },
    {
     "name": "stdout",
     "output_type": "stream",
     "text": [
      "[36/127] ✓ Fetched https://static.sw.cdn.siemens.com/siemens-disw-assets/public/5btOA1Vuic3O7MPUaT4Tza/en-US/White+paper+CIMdata+-+Product+Verification+and+Validation+-+Accelerated+Product+Development.pdf\n"
     ]
    },
    {
     "name": "stderr",
     "output_type": "stream",
     "text": [
      "Fetching pages: 100%|##########| 1/1 [00:00<00:00, 20.94it/s]\n"
     ]
    },
    {
     "name": "stdout",
     "output_type": "stream",
     "text": [
      "[37/127] ✓ Fetched https://resources.sw.siemens.com/en-US/fact-sheet-process-simulate-manufacturing-process-verification-in-a-powerful-3d/\n"
     ]
    },
    {
     "name": "stderr",
     "output_type": "stream",
     "text": [
      "Fetching pages:   0%|          | 0/1 [00:00<?, ?it/s]Failed to decode content from https://tsapps.nist.gov/publication/get_pdf.cfm?pub_id=822090\n",
      "Fetching pages: 100%|##########| 1/1 [00:00<00:00,  5.96it/s]\n"
     ]
    },
    {
     "name": "stdout",
     "output_type": "stream",
     "text": [
      "[38/127] ✓ Fetched https://tsapps.nist.gov/publication/get_pdf.cfm?pub_id=822090\n"
     ]
    },
    {
     "name": "stderr",
     "output_type": "stream",
     "text": [
      "Fetching pages: 100%|##########| 1/1 [00:00<00:00,  1.96it/s]\n"
     ]
    },
    {
     "name": "stdout",
     "output_type": "stream",
     "text": [
      "[39/127] ✓ Fetched https://chinastationery.com/knowledge/graphite-pencil-scale/\n"
     ]
    },
    {
     "name": "stderr",
     "output_type": "stream",
     "text": [
      "Fetching pages: 100%|##########| 1/1 [00:00<00:00,  7.00it/s]\n"
     ]
    },
    {
     "name": "stdout",
     "output_type": "stream",
     "text": [
      "[40/127] ✓ Fetched https://pencils.com/pages/hb-graphite-grading-scale\n"
     ]
    },
    {
     "name": "stderr",
     "output_type": "stream",
     "text": [
      "Fetching pages: 100%|##########| 1/1 [00:00<00:00,  3.62it/s]\n"
     ]
    },
    {
     "name": "stdout",
     "output_type": "stream",
     "text": [
      "[41/127] ✓ Fetched https://penvibe.com/the-graphite-pencil-scale-ultimate-guide/\n"
     ]
    },
    {
     "name": "stderr",
     "output_type": "stream",
     "text": [
      "Fetching pages: 100%|##########| 1/1 [00:00<00:00,  4.45it/s]\n"
     ]
    },
    {
     "name": "stdout",
     "output_type": "stream",
     "text": [
      "[42/127] ✓ Fetched https://cecelyv.com/pencil-grading-scale/\n"
     ]
    },
    {
     "name": "stderr",
     "output_type": "stream",
     "text": [
      "Fetching pages: 100%|##########| 1/1 [00:00<00:00, 11.82it/s]\n"
     ]
    },
    {
     "name": "stdout",
     "output_type": "stream",
     "text": [
      "[43/127] ✓ Fetched https://artincontext.org/hardness-of-pencils/\n"
     ]
    },
    {
     "name": "stderr",
     "output_type": "stream",
     "text": [
      "Fetching pages: 100%|##########| 1/1 [00:00<00:00,  4.02it/s]\n"
     ]
    },
    {
     "name": "stdout",
     "output_type": "stream",
     "text": [
      "[44/127] ✓ Fetched https://calcedar.com/pencils-environmental-profile/\n"
     ]
    },
    {
     "name": "stderr",
     "output_type": "stream",
     "text": [
      "Fetching pages: 100%|##########| 1/1 [00:00<00:00, 11.56it/s]\n"
     ]
    },
    {
     "name": "stdout",
     "output_type": "stream",
     "text": [
      "[45/127] ✓ Fetched https://www.researchgate.net/publication/343469139_Eco-Efficiency_of_Pencil_Preduction_Using_Life_Cycle_Assessment_to_Increase_the_Manufacture_Sustainability\n"
     ]
    },
    {
     "name": "stderr",
     "output_type": "stream",
     "text": [
      "Fetching pages: 100%|##########| 1/1 [00:00<00:00,  2.11it/s]\n"
     ]
    },
    {
     "name": "stdout",
     "output_type": "stream",
     "text": [
      "[46/127] ✓ Fetched https://greenchicafe.com/are-pencils-environmentally-friendly/\n"
     ]
    },
    {
     "name": "stderr",
     "output_type": "stream",
     "text": [
      "Fetching pages: 100%|##########| 1/1 [00:00<00:00,  2.75it/s]\n"
     ]
    },
    {
     "name": "stdout",
     "output_type": "stream",
     "text": [
      "[47/127] ✓ Fetched https://prezi.com/jfrplxrhxt_s/how-a-pencil-is-made-and-its-environmental-impacts/\n"
     ]
    },
    {
     "name": "stderr",
     "output_type": "stream",
     "text": [
      "Fetching pages: 100%|##########| 1/1 [00:00<00:00,  1.70it/s]\n"
     ]
    },
    {
     "name": "stdout",
     "output_type": "stream",
     "text": [
      "[48/127] ✓ Fetched https://www.img4you.com/knowledge/10004780\n"
     ]
    },
    {
     "name": "stderr",
     "output_type": "stream",
     "text": [
      "Fetching pages: 100%|##########| 1/1 [00:00<00:00,  1.85it/s]\n"
     ]
    },
    {
     "name": "stdout",
     "output_type": "stream",
     "text": [
      "[49/127] ✓ Fetched https://www.cesmii.org/education/roadmap-tools/\n"
     ]
    },
    {
     "name": "stderr",
     "output_type": "stream",
     "text": [
      "Fetching pages: 100%|##########| 1/1 [00:00<00:00, 13.83it/s]\n"
     ]
    },
    {
     "name": "stdout",
     "output_type": "stream",
     "text": [
      "[50/127] ✓ Fetched https://visualdecisions.com/cesmii-smart-mfg-roadmap\n"
     ]
    },
    {
     "name": "stderr",
     "output_type": "stream",
     "text": [
      "Fetching pages:   0%|          | 0/1 [00:00<?, ?it/s]Failed to decode content from https://ijcrt.org/papers/IJCRT24A4648.pdf\n",
      "Fetching pages: 100%|##########| 1/1 [00:00<00:00,  1.36it/s]\n"
     ]
    },
    {
     "name": "stdout",
     "output_type": "stream",
     "text": [
      "[51/127] ✓ Fetched https://ijcrt.org/papers/IJCRT24A4648.pdf\n"
     ]
    },
    {
     "name": "stderr",
     "output_type": "stream",
     "text": [
      "Fetching pages: 100%|##########| 1/1 [00:00<00:00, 15.32it/s]\n"
     ]
    },
    {
     "name": "stdout",
     "output_type": "stream",
     "text": [
      "[52/127] ✓ Fetched https://www.gartner.com/smarterwithgartner/6-key-actions-for-a-successful-smart-manufacturing-strategy\n"
     ]
    },
    {
     "name": "stderr",
     "output_type": "stream",
     "text": [
      "Fetching pages:   0%|          | 0/1 [00:00<?, ?it/s]Failed to decode content from https://www.verizon.com/business/resources/articles/creating-your-roadmap-to-smarter-manufacturing.pdf\n",
      "Fetching pages: 100%|##########| 1/1 [00:01<00:00,  1.07s/it]\n"
     ]
    },
    {
     "name": "stdout",
     "output_type": "stream",
     "text": [
      "[53/127] ✓ Fetched https://www.verizon.com/business/resources/articles/creating-your-roadmap-to-smarter-manufacturing.pdf\n"
     ]
    },
    {
     "name": "stderr",
     "output_type": "stream",
     "text": [
      "Fetching pages: 100%|##########| 1/1 [00:00<00:00,  3.20it/s]\n"
     ]
    },
    {
     "name": "stdout",
     "output_type": "stream",
     "text": [
      "[54/127] ✓ Fetched https://mechforged.com/manufacturing-process-of-a-mechanical-pencil/\n"
     ]
    },
    {
     "name": "stderr",
     "output_type": "stream",
     "text": [
      "Fetching pages: 100%|##########| 1/1 [00:00<00:00, 21.47it/s]\n"
     ]
    },
    {
     "name": "stdout",
     "output_type": "stream",
     "text": [
      "[55/127] ✓ Fetched https://www.researchgate.net/publication/334643030_A_Robot_That_Draws_and_Shades_with_Tactile_Force_Feedback_Sensed_Through_a_Pencil\n"
     ]
    },
    {
     "name": "stderr",
     "output_type": "stream",
     "text": [
      "Fetching pages: 100%|##########| 1/1 [00:01<00:00,  1.84s/it]\n"
     ]
    },
    {
     "name": "stdout",
     "output_type": "stream",
     "text": [
      "[56/127] ✓ Fetched https://kawasakirobotics.com/applications/assembly/\n"
     ]
    },
    {
     "name": "stderr",
     "output_type": "stream",
     "text": [
      "Fetching pages: 100%|##########| 1/1 [00:00<00:00,  1.01it/s]\n"
     ]
    },
    {
     "name": "stdout",
     "output_type": "stream",
     "text": [
      "[57/127] ✓ Fetched https://www.emerald.com/insight/content/doi/10.1108/ir-09-2018-0189/full/html\n"
     ]
    },
    {
     "name": "stderr",
     "output_type": "stream",
     "text": [
      "Fetching pages:   0%|          | 0/1 [00:00<?, ?it/s]Failed to decode content from https://xactmetal.com/wp-content/uploads/2020/04/Xact-Metal-Design-Guide.pdf\n",
      "Fetching pages: 100%|##########| 1/1 [00:00<00:00,  3.13it/s]\n"
     ]
    },
    {
     "name": "stdout",
     "output_type": "stream",
     "text": [
      "[58/127] ✓ Fetched https://xactmetal.com/wp-content/uploads/2020/04/Xact-Metal-Design-Guide.pdf\n"
     ]
    },
    {
     "name": "stderr",
     "output_type": "stream",
     "text": [
      "Fetching pages: 100%|##########| 1/1 [00:01<00:00,  1.19s/it]\n"
     ]
    },
    {
     "name": "stdout",
     "output_type": "stream",
     "text": [
      "[59/127] ✓ Fetched https://www.sciencedirect.com/science/article/pii/S2214785319322072\n"
     ]
    },
    {
     "name": "stderr",
     "output_type": "stream",
     "text": [
      "Fetching pages: 100%|##########| 1/1 [00:01<00:00,  1.32s/it]\n"
     ]
    },
    {
     "name": "stdout",
     "output_type": "stream",
     "text": [
      "[60/127] ✓ Fetched https://www.unionfab.com/blog/2024/09/additive-vs-subtractive-manufacturing\n"
     ]
    },
    {
     "name": "stderr",
     "output_type": "stream",
     "text": [
      "Fetching pages: 100%|##########| 1/1 [00:00<00:00,  3.74it/s]\n"
     ]
    },
    {
     "name": "stdout",
     "output_type": "stream",
     "text": [
      "[61/127] ✓ Fetched https://www.rapiddirect.com/blog/additive-vs-subtractive-manufacturing/\n"
     ]
    },
    {
     "name": "stderr",
     "output_type": "stream",
     "text": [
      "Fetching pages: 100%|##########| 1/1 [00:01<00:00,  1.87s/it]\n"
     ]
    },
    {
     "name": "stdout",
     "output_type": "stream",
     "text": [
      "[62/127] ✓ Fetched https://kdmfab.com/subtractive-additive-manufacturing/\n"
     ]
    },
    {
     "name": "stderr",
     "output_type": "stream",
     "text": [
      "Fetching pages: 100%|##########| 1/1 [00:00<00:00,  2.26it/s]\n"
     ]
    },
    {
     "name": "stdout",
     "output_type": "stream",
     "text": [
      "[63/127] ✓ Fetched https://shop.machinemfg.com/comparing-additive-manufacturing-vs-subtractive-manufacturing-what-are-the-differences/\n"
     ]
    },
    {
     "name": "stderr",
     "output_type": "stream",
     "text": [
      "Fetching pages: 100%|##########| 1/1 [00:00<00:00,  1.53it/s]\n"
     ]
    },
    {
     "name": "stdout",
     "output_type": "stream",
     "text": [
      "[64/127] ✓ Fetched https://www.team-mfg.com/additive-vs-subtractive-manufacturing.html\n"
     ]
    },
    {
     "name": "stderr",
     "output_type": "stream",
     "text": [
      "Fetching pages: 100%|##########| 1/1 [00:00<00:00,  1.26it/s]\n"
     ]
    },
    {
     "name": "stdout",
     "output_type": "stream",
     "text": [
      "[65/127] ✓ Fetched https://www.stationery-supplier.com/the-sustainable-journey-of-pencil-manufacturing/\n"
     ]
    },
    {
     "name": "stderr",
     "output_type": "stream",
     "text": [
      "Fetching pages: 100%|##########| 1/1 [00:01<00:00,  1.15s/it]\n"
     ]
    },
    {
     "name": "stdout",
     "output_type": "stream",
     "text": [
      "[66/127] ✓ Fetched https://durzerd.com/new/How-Innovations-in-Pencil-Manufacturing-are-Revolutionizing-Sustainability.html\n"
     ]
    },
    {
     "name": "stderr",
     "output_type": "stream",
     "text": [
      "Fetching pages: 100%|##########| 1/1 [00:00<00:00,  1.09it/s]\n"
     ]
    },
    {
     "name": "stdout",
     "output_type": "stream",
     "text": [
      "[67/127] ✓ Fetched https://thesustainable.life/how-are-recycled-pencils-made/\n"
     ]
    },
    {
     "name": "stderr",
     "output_type": "stream",
     "text": [
      "Fetching pages: 100%|##########| 1/1 [00:00<00:00,  2.34it/s]\n"
     ]
    },
    {
     "name": "stdout",
     "output_type": "stream",
     "text": [
      "[68/127] ✓ Fetched https://www.facetsjournal.com/doi/10.1139/facets-2023-0170\n"
     ]
    },
    {
     "name": "stderr",
     "output_type": "stream",
     "text": [
      "Fetching pages: 100%|##########| 1/1 [00:00<00:00,  2.65it/s]\n"
     ]
    },
    {
     "name": "stdout",
     "output_type": "stream",
     "text": [
      "[69/127] ✓ Fetched https://www.teachsustainability.org/post/the-great-pencil-challenge-exploring-the-eco-footprint-of-the-humble-pencil\n"
     ]
    },
    {
     "name": "stderr",
     "output_type": "stream",
     "text": [
      "Fetching pages: 100%|##########| 1/1 [00:00<00:00,  1.04it/s]\n"
     ]
    },
    {
     "name": "stdout",
     "output_type": "stream",
     "text": [
      "[70/127] ✓ Fetched https://www.nsta.org/journals/science-scope/science-scope-april-2000/life-cycle-pencil\n"
     ]
    },
    {
     "name": "stderr",
     "output_type": "stream",
     "text": [
      "Fetching pages: 100%|##########| 1/1 [00:00<00:00,  1.85it/s]\n"
     ]
    },
    {
     "name": "stdout",
     "output_type": "stream",
     "text": [
      "[71/127] ✓ Fetched https://www.theveganreview.com/the-6-rs-of-sustainability-what-does-sustainable-really-mean/\n"
     ]
    },
    {
     "name": "stderr",
     "output_type": "stream",
     "text": [
      "Fetching pages: 100%|##########| 1/1 [00:00<00:00, 18.06it/s]\n"
     ]
    },
    {
     "name": "stdout",
     "output_type": "stream",
     "text": [
      "[72/127] ✓ Fetched https://www.researchgate.net/publication/333466082_Process_sustainability_evaluation_for_manufacturing_of_a_component_with_the_6R_application\n"
     ]
    },
    {
     "name": "stderr",
     "output_type": "stream",
     "text": [
      "Fetching pages: 100%|##########| 1/1 [00:00<00:00,  6.14it/s]\n"
     ]
    },
    {
     "name": "stdout",
     "output_type": "stream",
     "text": [
      "[73/127] ✓ Fetched https://practicalaction.org/learning/waste/the-6-rs/\n"
     ]
    },
    {
     "name": "stderr",
     "output_type": "stream",
     "text": [
      "Fetching pages: 100%|##########| 1/1 [00:00<00:00,  3.23it/s]\n"
     ]
    },
    {
     "name": "stdout",
     "output_type": "stream",
     "text": [
      "[74/127] ✓ Fetched https://ecohan.com/sustainable-living/the-6-rs-of-sustainability-a-comprehensive-guide-to-eco-conscious-living/\n"
     ]
    },
    {
     "name": "stderr",
     "output_type": "stream",
     "text": [
      "Fetching pages: 100%|##########| 1/1 [00:01<00:00,  1.04s/it]\n"
     ]
    },
    {
     "name": "stdout",
     "output_type": "stream",
     "text": [
      "[75/127] ✓ Fetched https://koliwoodpencil.com/how-are-pencils-manufactured/\n"
     ]
    },
    {
     "name": "stderr",
     "output_type": "stream",
     "text": [
      "Fetching pages: 100%|##########| 1/1 [00:00<00:00,  6.68it/s]\n"
     ]
    },
    {
     "name": "stdout",
     "output_type": "stream",
     "text": [
      "[76/127] ✓ Fetched https://musgravepencil.com/blogs/news/howapencilismade\n"
     ]
    },
    {
     "name": "stderr",
     "output_type": "stream",
     "text": [
      "Fetching pages: 100%|##########| 1/1 [00:00<00:00,  2.19it/s]\n"
     ]
    },
    {
     "name": "stdout",
     "output_type": "stream",
     "text": [
      "[77/127] ✓ Fetched https://www.projectmanager.com/blog/manufacturing-kpis\n"
     ]
    },
    {
     "name": "stderr",
     "output_type": "stream",
     "text": [
      "Fetching pages: 100%|##########| 1/1 [00:00<00:00,  5.66it/s]\n"
     ]
    },
    {
     "name": "stdout",
     "output_type": "stream",
     "text": [
      "[78/127] ✓ Fetched https://insightsoftware.com/blog/30-manufacturing-kpis-and-metric-examples/\n"
     ]
    },
    {
     "name": "stderr",
     "output_type": "stream",
     "text": [
      "Fetching pages: 100%|##########| 1/1 [00:00<00:00,  1.20it/s]\n"
     ]
    },
    {
     "name": "stdout",
     "output_type": "stream",
     "text": [
      "[79/127] ✓ Fetched https://www.dataparc.com/blog/establishing-manufacturing-kpis-for-continuous-improvement/\n"
     ]
    },
    {
     "name": "stderr",
     "output_type": "stream",
     "text": [
      "Fetching pages: 100%|##########| 1/1 [00:00<00:00, 10.62it/s]\n"
     ]
    },
    {
     "name": "stdout",
     "output_type": "stream",
     "text": [
      "[80/127] ✓ Fetched https://www.netsuite.com/portal/resource/articles/erp/manufacturing-kpis-metrics.shtml\n"
     ]
    },
    {
     "name": "stderr",
     "output_type": "stream",
     "text": [
      "Fetching pages: 100%|##########| 1/1 [00:01<00:00,  1.13s/it]\n"
     ]
    },
    {
     "name": "stdout",
     "output_type": "stream",
     "text": [
      "[81/127] ✓ Fetched https://link.springer.com/chapter/10.1007/978-3-031-72494-7_22\n"
     ]
    },
    {
     "name": "stderr",
     "output_type": "stream",
     "text": [
      "Fetching pages: 100%|##########| 1/1 [00:00<00:00, 15.14it/s]\n"
     ]
    },
    {
     "name": "stdout",
     "output_type": "stream",
     "text": [
      "[82/127] ✓ Fetched https://www.artnews.com/art-news/product-recommendations/sustainable-the-best-eco-friendly-graphite-pencils-1234626048/\n"
     ]
    },
    {
     "name": "stderr",
     "output_type": "stream",
     "text": [
      "Fetching pages: 100%|##########| 1/1 [00:00<00:00,  1.35it/s]\n"
     ]
    },
    {
     "name": "stdout",
     "output_type": "stream",
     "text": [
      "[83/127] ✓ Fetched https://www.stationerymanufacturers.com/pencil-innovations-the-future-of-an-age-old-tool/\n"
     ]
    },
    {
     "name": "stderr",
     "output_type": "stream",
     "text": [
      "Fetching pages: 100%|##########| 1/1 [00:00<00:00, 19.43it/s]\n"
     ]
    },
    {
     "name": "stdout",
     "output_type": "stream",
     "text": [
      "[84/127] ✓ Fetched https://journals.sagepub.com/doi/full/10.1177/0954405417736547\n"
     ]
    },
    {
     "name": "stderr",
     "output_type": "stream",
     "text": [
      "Fetching pages: 100%|##########| 1/1 [00:01<00:00,  1.88s/it]\n"
     ]
    },
    {
     "name": "stdout",
     "output_type": "stream",
     "text": [
      "[85/127] ✓ Fetched https://www.sciencedirect.com/science/article/pii/S0360835222004922\n"
     ]
    },
    {
     "name": "stderr",
     "output_type": "stream",
     "text": [
      "Fetching pages: 100%|##########| 1/1 [00:00<00:00, 20.32it/s]\n"
     ]
    },
    {
     "name": "stdout",
     "output_type": "stream",
     "text": [
      "[86/127] ✓ Fetched https://dl.acm.org/doi/10.1145/3652620.3688250\n"
     ]
    },
    {
     "name": "stderr",
     "output_type": "stream",
     "text": [
      "Fetching pages: 100%|##########| 1/1 [00:00<00:00, 11.73it/s]\n"
     ]
    },
    {
     "name": "stdout",
     "output_type": "stream",
     "text": [
      "[87/127] ✓ Fetched https://enme.umd.edu/clark/faculty/1772/Jay-Lee\n"
     ]
    },
    {
     "name": "stderr",
     "output_type": "stream",
     "text": [
      "Fetching pages:   0%|          | 0/1 [00:00<?, ?it/s]Failed to decode content from https://apsom.org/docs/T061_isa95-04.pdf\n",
      "Fetching pages: 100%|##########| 1/1 [00:04<00:00,  4.18s/it]\n"
     ]
    },
    {
     "name": "stdout",
     "output_type": "stream",
     "text": [
      "[88/127] ✓ Fetched https://apsom.org/docs/T061_isa95-04.pdf\n"
     ]
    },
    {
     "name": "stderr",
     "output_type": "stream",
     "text": [
      "Fetching pages: 100%|##########| 1/1 [00:00<00:00,  7.91it/s]\n"
     ]
    },
    {
     "name": "stdout",
     "output_type": "stream",
     "text": [
      "[89/127] ✓ Fetched https://www.mesmatters.com/post/what-is-the-isa-95-model-and-where-does-mes-fit\n"
     ]
    },
    {
     "name": "stderr",
     "output_type": "stream",
     "text": [
      "Fetching pages: 100%|##########| 1/1 [00:00<00:00,  1.83it/s]\n"
     ]
    },
    {
     "name": "stdout",
     "output_type": "stream",
     "text": [
      "[90/127] ✓ Fetched https://www.emqx.com/en/blog/exploring-isa95-standards-in-manufacturing\n"
     ]
    },
    {
     "name": "stderr",
     "output_type": "stream",
     "text": [
      "Fetching pages: 100%|##########| 1/1 [00:00<00:00, 18.95it/s]\n"
     ]
    },
    {
     "name": "stdout",
     "output_type": "stream",
     "text": [
      "[91/127] ✓ Fetched https://www.sw.siemens.com/en-US/technology/isa-95-framework-layers/\n"
     ]
    },
    {
     "name": "stderr",
     "output_type": "stream",
     "text": [
      "Fetching pages:   0%|          | 0/1 [00:00<?, ?it/s]Failed to decode content from https://web-material3.yokogawa.com/2/11821/tabs/document_11744.pdf\n",
      "Fetching pages: 100%|##########| 1/1 [00:03<00:00,  3.10s/it]\n"
     ]
    },
    {
     "name": "stdout",
     "output_type": "stream",
     "text": [
      "[92/127] ✓ Fetched https://web-material3.yokogawa.com/2/11821/tabs/document_11744.pdf\n"
     ]
    },
    {
     "name": "stderr",
     "output_type": "stream",
     "text": [
      "Fetching pages: 100%|##########| 1/1 [00:01<00:00,  1.05s/it]\n"
     ]
    },
    {
     "name": "stdout",
     "output_type": "stream",
     "text": [
      "[93/127] ✓ Fetched https://www.syndicatedanalytics.com/pencil-manufacturing-plant-project-report\n"
     ]
    },
    {
     "name": "stderr",
     "output_type": "stream",
     "text": [
      "Fetching pages: 100%|##########| 1/1 [00:01<00:00,  1.34s/it]\n"
     ]
    },
    {
     "name": "stdout",
     "output_type": "stream",
     "text": [
      "[94/127] ✓ Fetched https://www.neuralword.com/en/education-history-science-general-culture-society/science-nature/how-pencils-are-manufactured-an-overview-of-the-production-process\n"
     ]
    },
    {
     "name": "stderr",
     "output_type": "stream",
     "text": [
      "Fetching pages: 100%|##########| 1/1 [00:00<00:00,  1.44it/s]\n"
     ]
    },
    {
     "name": "stdout",
     "output_type": "stream",
     "text": [
      "[95/127] ✓ Fetched https://www.interwell.cn/how-pencils-are-made-a-detailed-production-process-guide\n"
     ]
    },
    {
     "name": "stderr",
     "output_type": "stream",
     "text": [
      "Fetching pages: 100%|##########| 1/1 [00:00<00:00, 17.15it/s]\n"
     ]
    },
    {
     "name": "stdout",
     "output_type": "stream",
     "text": [
      "[96/127] ✓ Fetched https://www.tandfonline.com/doi/full/10.1080/00207543.2011.618147\n"
     ]
    },
    {
     "name": "stderr",
     "output_type": "stream",
     "text": [
      "Fetching pages: 100%|##########| 1/1 [00:01<00:00,  1.04s/it]\n"
     ]
    },
    {
     "name": "stdout",
     "output_type": "stream",
     "text": [
      "[97/127] ✓ Fetched https://slideplayer.com/slide/4457371/\n"
     ]
    },
    {
     "name": "stderr",
     "output_type": "stream",
     "text": [
      "Fetching pages: 100%|##########| 1/1 [00:00<00:00, 12.70it/s]\n"
     ]
    },
    {
     "name": "stdout",
     "output_type": "stream",
     "text": [
      "[98/127] ✓ Fetched https://en.wikipedia.org/wiki/Discrete-event_simulation\n"
     ]
    },
    {
     "name": "stderr",
     "output_type": "stream",
     "text": [
      "Fetching pages:   0%|          | 0/1 [00:00<?, ?it/s]Failed to decode content from https://ocw.mit.edu/courses/2-875-mechanical-assembly-and-its-role-in-product-development-fall-2004/e9c308d7bcb9c7bf6b7685b4bc7ac6a8_cls20_smltion04.pdf\n",
      "Fetching pages: 100%|##########| 1/1 [00:00<00:00,  3.63it/s]\n"
     ]
    },
    {
     "name": "stdout",
     "output_type": "stream",
     "text": [
      "[99/127] ✓ Fetched https://ocw.mit.edu/courses/2-875-mechanical-assembly-and-its-role-in-product-development-fall-2004/e9c308d7bcb9c7bf6b7685b4bc7ac6a8_cls20_smltion04.pdf\n"
     ]
    },
    {
     "name": "stderr",
     "output_type": "stream",
     "text": [
      "Fetching pages: 100%|##########| 1/1 [00:00<00:00, 23.24it/s]\n"
     ]
    },
    {
     "name": "stdout",
     "output_type": "stream",
     "text": [
      "[100/127] ✓ Fetched https://www.tandfonline.com/doi/full/10.1080/0951192X.2016.1145812\n"
     ]
    },
    {
     "name": "stderr",
     "output_type": "stream",
     "text": [
      "Fetching pages: 100%|##########| 1/1 [00:00<00:00, 13.78it/s]\n"
     ]
    },
    {
     "name": "stdout",
     "output_type": "stream",
     "text": [
      "[101/127] ✓ Fetched https://ferltz.github.io/inv_oper_2/documents/books/Discrete-Event+System+Simulation-Pearson+Banks+Carson+(2013).pdf\n"
     ]
    },
    {
     "name": "stderr",
     "output_type": "stream",
     "text": [
      "Fetching pages: 100%|##########| 1/1 [00:03<00:00,  3.74s/it]\n"
     ]
    },
    {
     "name": "stdout",
     "output_type": "stream",
     "text": [
      "[102/127] ✓ Fetched https://lgilab.com/decoding-the-pencil-hardness-scale-key-insights-for-effective-packaging-validation/\n"
     ]
    },
    {
     "name": "stderr",
     "output_type": "stream",
     "text": [
      "Fetching pages: 100%|##########| 1/1 [00:03<00:00,  3.99s/it]\n"
     ]
    },
    {
     "name": "stdout",
     "output_type": "stream",
     "text": [
      "[103/127] ✓ Fetched https://lgilab.com/understanding-the-astm-d3363-pencil-test-for-packaging-validation/\n"
     ]
    },
    {
     "name": "stderr",
     "output_type": "stream",
     "text": [
      "Fetching pages: 100%|##########| 1/1 [00:05<00:00,  5.32s/it]\n"
     ]
    },
    {
     "name": "stdout",
     "output_type": "stream",
     "text": [
      "[104/127] ✓ Fetched https://lgilab.com/decoding-pencil-hardness-a-key-factor-in-packaging-validation/\n"
     ]
    },
    {
     "name": "stderr",
     "output_type": "stream",
     "text": [
      "Fetching pages: 100%|##########| 1/1 [00:01<00:00,  1.02s/it]\n"
     ]
    },
    {
     "name": "stdout",
     "output_type": "stream",
     "text": [
      "[105/127] ✓ Fetched https://www.elcometerusa.com/Laboratory/Pencil-Hardness-Testing/\n"
     ]
    },
    {
     "name": "stderr",
     "output_type": "stream",
     "text": [
      "Fetching pages:   0%|          | 0/1 [00:00<?, ?it/s]Failed to decode content from https://www.energy.gov/sites/default/files/2021-07/Module_6B.pdf\n",
      "Fetching pages: 100%|##########| 1/1 [00:00<00:00,  6.95it/s]\n"
     ]
    },
    {
     "name": "stdout",
     "output_type": "stream",
     "text": [
      "[106/127] ✓ Fetched https://www.energy.gov/sites/default/files/2021-07/Module_6B.pdf\n"
     ]
    },
    {
     "name": "stderr",
     "output_type": "stream",
     "text": [
      "Fetching pages: 100%|##########| 1/1 [00:00<00:00,  6.34it/s]\n"
     ]
    },
    {
     "name": "stdout",
     "output_type": "stream",
     "text": [
      "[107/127] ✓ Fetched https://www.ease.io/blog/14-metrics-every-quality-exec-should-monitor-how-to-calculate-them/\n"
     ]
    },
    {
     "name": "stderr",
     "output_type": "stream",
     "text": [
      "Fetching pages: 100%|##########| 1/1 [00:00<00:00,  6.93it/s]\n"
     ]
    },
    {
     "name": "stdout",
     "output_type": "stream",
     "text": [
      "[108/127] ✓ Fetched https://www.someka.net/blog/quality-kpis/\n"
     ]
    },
    {
     "name": "stderr",
     "output_type": "stream",
     "text": [
      "Fetching pages: 100%|##########| 1/1 [00:00<00:00,  3.93it/s]\n"
     ]
    },
    {
     "name": "stdout",
     "output_type": "stream",
     "text": [
      "[109/127] ✓ Fetched https://safetyculture.com/topics/quality-metrics/\n"
     ]
    },
    {
     "name": "stderr",
     "output_type": "stream",
     "text": [
      "Fetching pages: 100%|##########| 1/1 [00:00<00:00,  9.67it/s]\n"
     ]
    },
    {
     "name": "stdout",
     "output_type": "stream",
     "text": [
      "[110/127] ✓ Fetched https://bscdesigner.com/quality-kpis.htm\n"
     ]
    },
    {
     "name": "stderr",
     "output_type": "stream",
     "text": [
      "Fetching pages: 100%|##########| 1/1 [00:04<00:00,  4.13s/it]\n"
     ]
    },
    {
     "name": "stdout",
     "output_type": "stream",
     "text": [
      "[111/127] ✓ Fetched https://jurnalindustri.petra.ac.id/index.php/ind/article/view/22504\n"
     ]
    },
    {
     "name": "stderr",
     "output_type": "stream",
     "text": [
      "Fetching pages: 100%|##########| 1/1 [00:00<00:00,  2.75it/s]\n"
     ]
    },
    {
     "name": "stdout",
     "output_type": "stream",
     "text": [
      "[112/127] ✓ Fetched https://ecommons.udayton.edu/cgi/viewcontent.cgi?article=2741&context=stander_posters\n"
     ]
    },
    {
     "name": "stderr",
     "output_type": "stream",
     "text": [
      "Fetching pages: 100%|##########| 1/1 [00:00<00:00,  1.42it/s]\n"
     ]
    },
    {
     "name": "stdout",
     "output_type": "stream",
     "text": [
      "[113/127] ✓ Fetched https://sustain.ubc.ca/sites/default/files/seedslibrary/EcoFriendlyOfficeSupplies_Group+1.pdf\n"
     ]
    },
    {
     "name": "stderr",
     "output_type": "stream",
     "text": [
      "Fetching pages: 100%|##########| 1/1 [00:01<00:00,  1.14s/it]\n"
     ]
    },
    {
     "name": "stdout",
     "output_type": "stream",
     "text": [
      "[114/127] ✓ Fetched https://www.ctemag.com/news/pencil-sketch-high-tech-automation\n"
     ]
    },
    {
     "name": "stderr",
     "output_type": "stream",
     "text": [
      "Fetching pages: 100%|##########| 1/1 [00:00<00:00,  5.66it/s]\n"
     ]
    },
    {
     "name": "stdout",
     "output_type": "stream",
     "text": [
      "[115/127] ✓ Fetched https://electrical-engineering-portal.com/automation-migration-strategy-in-3-phases\n"
     ]
    },
    {
     "name": "stderr",
     "output_type": "stream",
     "text": [
      "Fetching pages:   0%|          | 0/1 [00:00<?, ?it/s]Failed to decode content from https://www.makino.com/getmedia/d3ed3d7d-663c-4a28-936f-805ece30f742/The-Roadmap-to-the-Five-Levels-of-Manufacturing-Automation-(2020)-(1).pdf?ext=.pdf\n",
      "Fetching pages: 100%|##########| 1/1 [00:00<00:00,  4.26it/s]\n"
     ]
    },
    {
     "name": "stdout",
     "output_type": "stream",
     "text": [
      "[116/127] ✓ Fetched https://www.makino.com/getmedia/d3ed3d7d-663c-4a28-936f-805ece30f742/The-Roadmap-to-the-Five-Levels-of-Manufacturing-Automation-(2020)-(1).pdf?ext=.pdf\n"
     ]
    },
    {
     "name": "stderr",
     "output_type": "stream",
     "text": [
      "Fetching pages: 100%|##########| 1/1 [00:02<00:00,  2.91s/it]\n"
     ]
    },
    {
     "name": "stdout",
     "output_type": "stream",
     "text": [
      "[117/127] ✓ Fetched https://www.ajiet.edu.in/img/mech/18+scheme/CADM-18ME72.pdf\n"
     ]
    },
    {
     "name": "stderr",
     "output_type": "stream",
     "text": [
      "Fetching pages: 100%|##########| 1/1 [00:00<00:00,  3.23it/s]\n"
     ]
    },
    {
     "name": "stdout",
     "output_type": "stream",
     "text": [
      "[118/127] ✓ Fetched https://prophecyiot.com/digital-thread/\n"
     ]
    },
    {
     "name": "stderr",
     "output_type": "stream",
     "text": [
      "Fetching pages: 100%|##########| 1/1 [00:00<00:00,  1.62it/s]\n"
     ]
    },
    {
     "name": "stdout",
     "output_type": "stream",
     "text": [
      "[119/127] ✓ Fetched https://www.microsoft.com/en-us/industry/blog/manufacturing-and-mobility/2025/03/13/unlocking-the-future-of-manufacturing-with-ai-powered-digital-thread/\n"
     ]
    },
    {
     "name": "stderr",
     "output_type": "stream",
     "text": [
      "Fetching pages: 100%|##########| 1/1 [00:00<00:00,  1.48it/s]\n"
     ]
    },
    {
     "name": "stdout",
     "output_type": "stream",
     "text": [
      "[120/127] ✓ Fetched https://www.ibm.com/think/topics/digital-thread-vs-digital-twin\n"
     ]
    },
    {
     "name": "stderr",
     "output_type": "stream",
     "text": [
      "Fetching pages: 100%|##########| 1/1 [00:00<00:00,  2.23it/s]\n"
     ]
    },
    {
     "name": "stdout",
     "output_type": "stream",
     "text": [
      "[121/127] ✓ Fetched https://www.plataine.com/application/digital-thread/\n"
     ]
    },
    {
     "name": "stderr",
     "output_type": "stream",
     "text": [
      "Fetching pages:   0%|          | 0/1 [00:00<?, ?it/s]Failed to decode content from https://productiondigitalthread.com/wp-content/uploads/2024/04/Digital-Thread-finalwhitepapers_jan2024.pdf\n",
      "Fetching pages: 100%|##########| 1/1 [00:00<00:00,  1.76it/s]\n"
     ]
    },
    {
     "name": "stdout",
     "output_type": "stream",
     "text": [
      "[122/127] ✓ Fetched https://productiondigitalthread.com/wp-content/uploads/2024/04/Digital-Thread-finalwhitepapers_jan2024.pdf\n"
     ]
    },
    {
     "name": "stderr",
     "output_type": "stream",
     "text": [
      "Fetching pages: 100%|##########| 1/1 [00:00<00:00,  1.06it/s]\n"
     ]
    },
    {
     "name": "stdout",
     "output_type": "stream",
     "text": [
      "[123/127] ✓ Fetched https://thorntonandlowe.com/how-to-write-an-implementation-plan/\n"
     ]
    },
    {
     "name": "stderr",
     "output_type": "stream",
     "text": [
      "Fetching pages:   0%|          | 0/1 [00:00<?, ?it/s]Failed to decode content from https://nzbef.org.nz/wp-content/uploads/2019/05/Guide-Lean-Implementation-Steps-Plan-Roadmap-Timeline.pdf\n",
      "Fetching pages: 100%|##########| 1/1 [00:02<00:00,  2.43s/it]\n"
     ]
    },
    {
     "name": "stdout",
     "output_type": "stream",
     "text": [
      "[124/127] ✓ Fetched https://nzbef.org.nz/wp-content/uploads/2019/05/Guide-Lean-Implementation-Steps-Plan-Roadmap-Timeline.pdf\n"
     ]
    },
    {
     "name": "stderr",
     "output_type": "stream",
     "text": [
      "Fetching pages: 100%|##########| 1/1 [00:00<00:00,  1.91it/s]\n"
     ]
    },
    {
     "name": "stdout",
     "output_type": "stream",
     "text": [
      "[125/127] ✓ Fetched https://www.officetimeline.com/blog/best-examples-of-timelines-gantt-charts-and-roadmaps-for-the-manufacturing-industry\n"
     ]
    },
    {
     "name": "stderr",
     "output_type": "stream",
     "text": [
      "Fetching pages: 100%|##########| 1/1 [00:00<00:00,  2.64it/s]\n"
     ]
    },
    {
     "name": "stdout",
     "output_type": "stream",
     "text": [
      "[126/127] ✓ Fetched https://www.projectmanager.com/blog/tips-for-project-roadmap\n"
     ]
    },
    {
     "name": "stderr",
     "output_type": "stream",
     "text": [
      "Fetching pages: 100%|##########| 1/1 [00:00<00:00,  9.13it/s]\n"
     ]
    },
    {
     "name": "stdout",
     "output_type": "stream",
     "text": [
      "[127/127] ✓ Fetched https://www.smartsheet.com/content/implementation-plan-templates\n",
      "\n",
      "Completed: 127 succeeded, 0 failed out of 127 URLs.\n",
      "\n"
     ]
    }
   ],
   "source": [
    "N = len(unique_urls)\n",
    "print(f\"\\nFetching and parsing first {N} available pages:\")\n",
    "\n",
    "html_docs = []\n",
    "success_count = 0\n",
    "failure_count = 0\n",
    "\n",
    "for idx, url in enumerate(unique_urls[:N], start=1):\n",
    "    single_loader = AsyncHtmlLoader([url])\n",
    "    try:\n",
    "        docs_for_url = await asyncio.wait_for(\n",
    "            asyncio.to_thread(single_loader.load),\n",
    "            timeout=10\n",
    "        )\n",
    "        html_docs.extend(docs_for_url)\n",
    "        print(f\"[{idx}/{N}] ✓ Fetched {url}\")\n",
    "        success_count += 1\n",
    "\n",
    "    except asyncio.TimeoutError:\n",
    "        failure_count += 1\n",
    "        print(f\"[{idx}/{N}] ✗ Timeout {url}\")\n",
    "    except Exception as e:\n",
    "        failure_count += 1\n",
    "        print(f\"[{idx}/{N}] ✗ Error {url}: {e}\")\n",
    "\n",
    "print(f\"\\nCompleted: {success_count} succeeded, {failure_count} failed out of {N} URLs.\\n\")\n",
    "\n",
    "# Transform and inspect as before\n",
    "transformer = Html2TextTransformer()\n",
    "docs = transformer.transform_documents(html_docs)\n",
    "\n",
    "splitter = RecursiveCharacterTextSplitter(\n",
    "    chunk_size=1500,\n",
    "    chunk_overlap=200,\n",
    "    length_function=len\n",
    ")\n",
    "ddb = splitter.split_documents(docs)"
   ]
  },
  {
   "cell_type": "markdown",
   "metadata": {},
   "source": [
    "### Convert fetched HTML into LangChain Documents"
   ]
  },
  {
   "cell_type": "code",
   "execution_count": 13,
   "metadata": {},
   "outputs": [],
   "source": [
    "embedder = SentenceTransformerEmbeddings(\n",
    "    model_name=\"all-MiniLM-L6-v2\",\n",
    "    model_kwargs={\"device\": \"cpu\"}\n",
    ")\n",
    "\n",
    "vectordb_dynamic = FAISS.from_documents(\n",
    "    documents=ddb,    # your list of Document chunks\n",
    "    embedding=embedder\n",
    ")"
   ]
  },
  {
   "cell_type": "markdown",
   "metadata": {},
   "source": [
    "## Create Retrievers"
   ]
  },
  {
   "cell_type": "code",
   "execution_count": 14,
   "metadata": {},
   "outputs": [
    {
     "name": "stderr",
     "output_type": "stream",
     "text": [
      "/tmp/ipykernel_3440/1715304800.py:1: DeprecationWarning: Retrievers must implement abstract `_get_relevant_documents` method instead of `get_relevant_documents`\n",
      "  class CombinedRetriever(BaseRetriever):\n"
     ]
    }
   ],
   "source": [
    "class CombinedRetriever(BaseRetriever):\n",
    "    retrievers: List[BaseRetriever]\n",
    "    k: int = 5\n",
    "\n",
    "    def get_relevant_documents(self, query: str) -> List[Document]:\n",
    "        docs: List[Document] = []\n",
    "        for r in self.retrievers:\n",
    "            docs.extend(r.get_relevant_documents(query))\n",
    "        return docs[: self.k]\n",
    "\n",
    "\n",
    "dynamic_ret = vectordb_dynamic.as_retriever(\n",
    "    search_kwargs={\"k\": 30}\n",
    ")\n",
    "\n",
    "combined_retriever = CombinedRetriever(\n",
    "    retrievers=[static_ret, dynamic_ret],\n",
    "    k=12\n",
    ")\n"
   ]
  },
  {
   "cell_type": "markdown",
   "metadata": {},
   "source": [
    "## Ask the LLM\n",
    "\n",
    "Finally, prompt the LLM with the final query"
   ]
  },
  {
   "cell_type": "markdown",
   "metadata": {},
   "source": [
    "### Final Prompt"
   ]
  },
  {
   "cell_type": "code",
   "execution_count": null,
   "metadata": {},
   "outputs": [],
   "source": [
    "# Prompt 1: Sections 1–3\n",
    "first_prompt = PromptTemplate.from_template(textwrap.dedent(\"\"\"\n",
    "You are a senior manufacturing engineer.\n",
    "\n",
    "Use the **context** block (course‐slide excerpts + web snippets/URLs) as your only slide‐based source.\n",
    "Let the slides define structure, emphasis, and terminology—shape any web facts **only** to illustrate \n",
    "slide‐prescribed methods, metrics, or priorities. Do not stray outside slide guidance.\n",
    "\n",
    "Slides commonly cited:\n",
    "  • Lecture 1 – course intro & final-project guidance  \n",
    "  • Lecture 4 – sustainable-manufacturing overview, 6 R’s  \n",
    "  • Lecture 5 – unit-process KPIs & material I/O tables  \n",
    "\n",
    "**Write these three sections (≈500 words each), each starting exactly with `## <heading>`:**\n",
    "\n",
    "## Executive Summary & Object Overview  \n",
    "  • …\n",
    "\n",
    "## Manufacturing Automation & Process Classification  \n",
    "  • …\n",
    "\n",
    "## Unit Manufacturing Processes & Workflow Mapping  \n",
    "  • …\n",
    "\n",
    "Formatting rules  \n",
    "• Start each section with `## <heading>` exactly.  \n",
    "• Use bullets under each heading.  \n",
    "• Cite every factual claim: `(Lecture #)` or `(URL n)`.  \n",
    "• Never invent data or sources.\n",
    "\n",
    "---\n",
    "CONTEXT\n",
    "{context}\n",
    "---\n",
    "\n",
    "Question → \"{question}\"\n",
    "\n",
    "Answer:\n",
    "\"\"\"))\n",
    "\n",
    "# Prompt 2: Sections 4–6\n",
    "second_prompt = PromptTemplate.from_template(textwrap.dedent(\"\"\"\n",
    "You are a senior manufacturing engineer.\n",
    "\n",
    "Use the **context** block (course‐slide excerpts + web snippets/URLs) only.\n",
    "Shape web-sourced details **only** to support slide-defined frameworks.\n",
    "\n",
    "Key slides:\n",
    "  • Lecture 2 & 3 – additive & traditional processes  \n",
    "  • Lecture 4 – sustainability & 6 R’s  \n",
    "  • Lecture 5 – UMP KPIs & I/O tables  \n",
    "\n",
    "**Write these three sections (≈500 words each), each starting exactly with `## <heading>`:**\n",
    "\n",
    "## Additive vs. Subtractive (Layer-by-Layer) Manufacturing Techniques  \n",
    "  • …\n",
    "\n",
    "## Material Selection, Eco-Alternatives & the 6-R Philosophy  \n",
    "  • …\n",
    "\n",
    "## Sustainable Manufacturing & Life-Cycle Assessment (LCA)  \n",
    "  • …\n",
    "\n",
    "Formatting rules as above.\n",
    "---\n",
    "CONTEXT\n",
    "{context}\n",
    "---\n",
    "\n",
    "Question → \"{question}\"\n",
    "\n",
    "Answer:\n",
    "\"\"\"))\n",
    "\n",
    "# Prompt 3: Sections 7–9\n",
    "third_prompt = PromptTemplate.from_template(textwrap.dedent(\"\"\"\n",
    "You are a senior manufacturing engineer.\n",
    "\n",
    "Rely only on the **context** block (slides + URLs).  Integrate web snippets **only** \n",
    "to exemplify slide-prescribed methods or metrics.\n",
    "\n",
    "Key slides:\n",
    "  • Lecture 6 & 7 – robotics & automation levels  \n",
    "  • Lecture 8 – simulation fundamentals  \n",
    "  • Lecture 9 & 10 – digital/thread & network-centric frameworks  \n",
    "\n",
    "**Write these three sections (≈500 words each), each starting exactly with `## <heading>`:**\n",
    "\n",
    "## Industrial Robotics, Tooling Strategy & Automation Migration  \n",
    "  • …\n",
    "\n",
    "## Digital & Smart-Manufacturing Enablers & IoT Integration  \n",
    "  • …\n",
    "\n",
    "## Information Modeling, Digital Thread & Network-Centric Manufacturing  \n",
    "  • …\n",
    "\n",
    "Formatting rules as above.\n",
    "---\n",
    "CONTEXT\n",
    "{context}\n",
    "---\n",
    "\n",
    "Question → \"{question}\"\n",
    "\n",
    "Answer:\n",
    "\"\"\"))\n",
    "\n",
    "# Prompt 4: Sections 10–12\n",
    "fourth_prompt = PromptTemplate.from_template(textwrap.dedent(\"\"\"\n",
    "You are a senior manufacturing engineer.\n",
    "\n",
    "Use the **context** block (slides + URLs) exclusively.  Let slides drive structure;\n",
    "use web details **only** to reinforce slide-defined validation, costing, or roadmap.\n",
    "\n",
    "Key slides:\n",
    "  • Lecture 8 – DES rationale  \n",
    "  • Lecture 5 & 7 – KPIs, gauge R&R  \n",
    "  • Lecture 4 & 10 – life-cycle costing & roadmap actions  \n",
    "\n",
    "**Write these three sections (≈500 words each), each starting exactly with `## <heading>`:**\n",
    "\n",
    "## Discrete-Event Simulation & Virtual Validation  \n",
    "  • …\n",
    "\n",
    "## Quality & Performance Metrics, Gauging R & R & Validation Methods  \n",
    "  • …\n",
    "\n",
    "## Environmental & Cost Impact Analysis & Implementation Roadmap  \n",
    "  • …\n",
    "\n",
    "Formatting rules as above.\n",
    "---\n",
    "CONTEXT\n",
    "{context}\n",
    "---\n",
    "\n",
    "Question → \"{question}\"\n",
    "\n",
    "Answer:\n",
    "\"\"\"))\n",
    "\n",
    "from typing import List, Tuple\n",
    "\n",
    "section_batches: List[Tuple[str, PromptTemplate, str]] = [\n",
    "    (\n",
    "        \"Sections 1-3\",\n",
    "        first_prompt,\n",
    "        \"\\n\".join([\n",
    "            \"Executive Summary & Object Overview\",\n",
    "            \"Manufacturing Automation & Process Classification\",\n",
    "            \"Unit Manufacturing Processes & Workflow Mapping\",\n",
    "            \"\",\n",
    "            f\"Object description: {object_desc}\"\n",
    "        ])\n",
    "    ),\n",
    "    (\n",
    "        \"Sections 4-6\",\n",
    "        second_prompt,\n",
    "        \"\\n\".join([\n",
    "            \"Additive vs. Subtractive (Layer-by-Layer) Manufacturing Techniques\",\n",
    "            \"Material Selection, Eco-Alternatives & the 6-R Philosophy\",\n",
    "            \"Sustainable Manufacturing & Life-Cycle Assessment (LCA)\",\n",
    "            \"\",\n",
    "            f\"Object description: {object_desc}\"\n",
    "        ])\n",
    "    ),\n",
    "    (\n",
    "        \"Sections 7-9\",\n",
    "        third_prompt,\n",
    "        \"\\n\".join([\n",
    "            \"Industrial Robotics, Tooling Strategy & Automation Migration\",\n",
    "            \"Digital & Smart-Manufacturing Enablers & IoT Integration\",\n",
    "            \"Information Modeling, Digital Thread & Network-Centric Manufacturing\",\n",
    "            \"\",\n",
    "            f\"Object description: {object_desc}\"\n",
    "        ])\n",
    "    ),\n",
    "    (\n",
    "        \"Sections 10-12\",\n",
    "        fourth_prompt,\n",
    "        \"\\n\".join([\n",
    "            \"Discrete-Event Simulation & Virtual Validation\",\n",
    "            \"Quality & Performance Metrics, Gauging R & R & Validation Methods\",\n",
    "            \"Environmental & Cost Impact Analysis & Implementation Roadmap\",\n",
    "            \"\",\n",
    "            f\"Object description: {object_desc}\"\n",
    "        ])\n",
    "    ),\n",
    "]\n",
    "\n",
    "\n",
    "def run_batch(\n",
    "    prompt_tpl: PromptTemplate,\n",
    "    question: str\n",
    ") -> str:\n",
    "    qa = RetrievalQA.from_chain_type(\n",
    "        llm=llm,\n",
    "        retriever=combined_retriever,\n",
    "        chain_type=\"stuff\",\n",
    "        chain_type_kwargs={\n",
    "            \"prompt\": prompt_tpl,\n",
    "            \"document_variable_name\": \"context\",\n",
    "        },\n",
    "        input_key=\"question\",\n",
    "        return_source_documents=False,\n",
    "    )\n",
    "    out = qa({\"question\": question})\n",
    "    return out[\"result\"] if isinstance(out, dict) else out\n",
    "\n",
    "def clean_to_first_h2(md: str) -> str:\n",
    "    idx = md.find(\"## \")\n",
    "    return md[idx:].strip() if idx != -1 else md.strip()\n",
    "\n",
    "report_sections: Dict[str,str] = {}\n",
    "for batch_name, prompt_tpl, question in section_batches:\n",
    "    print(f\"Generating {batch_name}…\")\n",
    "    raw = run_batch(prompt_tpl, question)\n",
    "    report_sections[batch_name] = clean_to_first_h2(raw)"
   ]
  },
  {
   "cell_type": "code",
   "execution_count": null,
   "metadata": {},
   "outputs": [],
   "source": [
    "with open(\"manufacturing_report.md\", \"w\") as md:\n",
    "    for key in [\"Sections 1–3\", \"Sections 4–6\", \"Sections 7–9\", \"Sections 10–12\"]:\n",
    "        md.write(report_sections[key] + \"\\n\\n\")\n",
    "\n",
    "print(\"✅ Done writing manufacturing_report.md\")"
   ]
  },
  {
   "cell_type": "markdown",
   "metadata": {},
   "source": [
    "### Executive Overview & Sustainability Foundations"
   ]
  },
  {
   "cell_type": "code",
   "execution_count": 113,
   "metadata": {},
   "outputs": [],
   "source": [
    "first_prompt = PromptTemplate.from_template(\"\"\"\n",
    "You are a senior manufacturing engineer.\n",
    "\n",
    "Use ONLY the information in the **context** block (course-slide excerpts\n",
    "and web snippets/URLs) to draft the first three sections of a manufacturing\n",
    "report.  Let the slides guide the emphasis; enrich with web details when the\n",
    "context includes them.\n",
    "\n",
    "┌───────────────────────────────────────────────────────────────┐\n",
    "│  Slides commonly cited                                        │\n",
    "│  • Lecture 1  – course intro & final-project guidance         │\n",
    "│  • Lecture 4  – sustainable-manufacturing overview, 6 R’s     │\n",
    "│  • Lecture 5  – unit-process KPIs & material I/O tables       │\n",
    "└───────────────────────────────────────────────────────────────┘\n",
    "\n",
    "**Write these three sections — ~500 words EACH — and label them exactly:**\n",
    "\n",
    "1. Executive summary / Object overview  \n",
    "2. Sustainability & life-cycle considerations  \n",
    "3. Material selection & eco-alternatives  \n",
    "\n",
    "Formatting rules  \n",
    "• Start each section with `## <section title>` (Markdown H-2).  \n",
    "• Inline cite every factual claim: `(Lecture #)` for slides, `(URL n)` for\n",
    "  web snippets where *n* is the URL’s position in the context list.  \n",
    "• If a necessary fact is missing, omit it — never invent content or sources.\n",
    "\n",
    "---\n",
    "CONTEXT\n",
    "{context}\n",
    "---\n",
    "\n",
    "Question → \"{question}\"\n",
    "\n",
    "Answer:\n",
    "\"\"\")\n",
    "\n",
    "question = (\n",
    "    \"Task: Draft a detailed section 1,2,3 sections of a manufacturing guide (≈ 1000 words)\\n\\n\"\n",
    "    \"1. **Executive summary / Object overview**\\n\\n\"\n",
    "    \"2. **Sustainability & life-cycle considerations**\\n\\n\"\n",
    "    \"3. **Material selection & eco-alternatives**\\n\\n\"\n",
    "    \"Ground rules:\\n\"\n",
    "    \"1. The **Object description** below is the object being manufactured.\\n\"\n",
    "    \"2. All other statements MUST be supported by the CONTEXT block.\\n\"\n",
    "    \"3. Do not fabricate data or references. \\n\\n\"\n",
    "    f\"Object description: {object_desc}\"\n",
    ")\n",
    "\n",
    "\n",
    "qa_chain = RetrievalQA.from_chain_type(\n",
    "    llm=llm,\n",
    "    retriever=combined_retriever,\n",
    "    chain_type=\"stuff\",\n",
    "    chain_type_kwargs={\n",
    "        \"prompt\": first_prompt,\n",
    "        \"document_variable_name\": \"context\",\n",
    "    },\n",
    "    input_key=\"question\",          # Match the prompt\n",
    "    return_source_documents=True,\n",
    ")\n",
    "\n",
    "result = qa_chain({\"question\": question})"
   ]
  },
  {
   "cell_type": "code",
   "execution_count": 115,
   "metadata": {},
   "outputs": [
    {
     "name": "stdout",
     "output_type": "stream",
     "text": [
      "Okay, here's a draft of the three sections you requested, based on the provided context. I've aimed for approximately 1000 words total, prioritizing detail and accuracy based on the provided sources.  I've included citations at the end for easy reference. **Please read the notes at the very end of this response – they are crucial for understanding the limitations and assumptions made in this draft.**\n",
      "\n",
      "---\n",
      "\n",
      "**1. Executive Summary / Object Overview: The Rubik's Cube – A Manufacturing Perspective**\n",
      "\n",
      "The Rubik's Cube, initially known as the Magic Cube, is a globally recognized mechanical puzzle invented by Hungarian architect Ernő Rubik in 1974. It quickly transcended its origins as a teaching tool, becoming a cultural icon and a symbol of problem-solving and ingenuity. This manufacturing guide details the production process of a standard 3x3x3 Rubik’s Cube, focusing on material selection, assembly, and emerging sustainability considerations.  The core challenge in Rubik's Cube manufacturing lies in achieving precision and durability while maintaining cost-effectiveness.  The puzzle’s functionality depends entirely on tight tolerances and the ability of the individual pieces to rotate smoothly and reliably.  This guide will outline the steps involved, from raw material acquisition to final packaging, highlighting key quality control checkpoints and exploring potential avenues for environmentally conscious production. The Rubik's Cube's enduring popularity ensures continued demand, making efficient and sustainable manufacturing practices increasingly important.\n",
      "\n",
      "**2. Sustainability & Life-Cycle Considerations**\n",
      "\n",
      "The Rubik's Cube, despite its seemingly simple construction, presents several sustainability challenges throughout its life cycle.  The primary concern revolves around the reliance on petroleum-derived plastics, specifically ABS (Acrylonitrile Butadiene Styrene), for the cube’s construction.  ABS production contributes to greenhouse gas emissions and dependence on fossil fuels.  Furthermore, the cube’s relatively short lifespan (considering its potential for long-term play) and the difficulty in recycling ABS contribute to plastic waste accumulation.\n",
      "\n",
      "The life cycle assessment (LCA) of a Rubik’s Cube can be broken down into several stages:\n",
      "\n",
      "*   **Raw Material Extraction & Processing:**  Extraction of crude oil for ABS production is energy-intensive and environmentally impactful.  The chemical processes involved in converting crude oil into ABS also generate waste and emissions.\n",
      "*   **Manufacturing:** The injection molding process itself consumes energy and can release volatile organic compounds (VOCs) if not properly controlled.\n",
      "*   **Distribution & Retail:** Transportation of raw materials and finished products contributes to carbon emissions.\n",
      "*   **Use Phase:**  The cube’s durability and longevity are important factors in minimizing its environmental impact.  A longer-lasting cube reduces the need for replacements.\n",
      "*   **End-of-Life:**  ABS is notoriously difficult to recycle effectively.  Most end up in landfills or incinerators.  The lack of widespread recycling infrastructure for ABS further exacerbates the problem.\n",
      "\n",
      "The increasing consumer awareness of environmental issues is driving demand for more sustainable products, including toys.  Manufacturers are facing pressure to reduce the environmental footprint of the Rubik's Cube.  This includes exploring alternative materials, improving manufacturing efficiency, and implementing robust recycling programs.  The challenge lies in balancing sustainability goals with the need to maintain the cube’s functionality, durability, and affordability.\n",
      "\n",
      "**3. Material Selection & Eco-Alternatives**\n",
      "\n",
      "The standard Rubik's Cube is almost universally manufactured using ABS plastic. ABS is favored for its combination of properties: it’s relatively inexpensive, durable, impact-resistant, and easily molded using injection molding techniques. However, as highlighted in the previous section, ABS’s reliance on fossil fuels and recyclability issues pose significant sustainability concerns.\n",
      "\n",
      "**Current Material Composition:**\n",
      "\n",
      "*   **Core Material:** ABS (Acrylonitrile Butadiene Styrene) – This comprises the majority of the cube’s mass, forming the individual cubies (small cubes) that make up the puzzle.\n",
      "*   **Internal Mechanism:**  Typically, a combination of metal (often steel) and plastic components are used for the central core and pivot points, enabling smooth rotation.  Lubricants are often applied to reduce friction.\n",
      "\n",
      "**Exploring Eco-Alternatives:**\n",
      "\n",
      "Several potential alternatives to ABS are being investigated, each with its own advantages and disadvantages:\n",
      "\n",
      "*   **Bio-Based Plastics (PLA):** Polylactic acid (PLA) is derived from renewable resources like cornstarch or sugarcane. It offers a lower carbon footprint than ABS and is biodegradable under specific industrial composting conditions. However, PLA is generally less durable and impact-resistant than ABS, which could compromise the cube’s functionality.  PLA also has a lower heat resistance.\n",
      "*   **Recycled ABS:** Utilizing post-consumer or post-industrial recycled ABS reduces the demand for virgin plastic and minimizes waste. However, the quality of recycled ABS can vary, potentially affecting the cube’s performance and longevity.\n",
      "*   **Wood Composites:**  Wood-based materials offer a renewable and biodegradable alternative. However, they may be more susceptible to moisture and require specialized manufacturing processes.\n",
      "*   **Other Recyclable Plastics:** Research into other recyclable plastics with improved durability and performance characteristics is ongoing.\n",
      "\n",
      "**Material Selection Considerations:**\n",
      "\n",
      "The choice of material for a sustainable Rubik's Cube involves a complex trade-off between environmental impact, performance, cost, and manufacturability. While bio-based plastics and recycled ABS offer promising alternatives, further research and development are needed to overcome their limitations and ensure they can meet the demanding requirements of a high-quality Rubik's Cube.  A hybrid approach, combining recycled ABS with bio-based components, may offer a viable compromise.\n",
      "\n",
      "---\n",
      "\n",
      "**Citations (Based on Provided Context – Limited):**\n",
      "\n",
      "*   [No specific citations were provided in the prompt. This draft relies on general knowledge of plastics manufacturing and sustainability principles.]\n",
      "\n",
      "**Important Notes & Limitations:**\n",
      "\n",
      "*   **Limited Source Material:** This draft is based *solely* on the brief description provided in the prompt. A full manufacturing guide would require significantly more detailed information about the specific processes, equipment, and quality control measures used by Rubik's Cube manufacturers.\n",
      "*   **Generalizations:**  The information provided is generalized and may not reflect the specific practices of all Rubik's Cube manufacturers.\n",
      "*   **Cost Considerations:**  The economic feasibility of alternative materials and manufacturing processes has not been fully assessed.\n",
      "*   **Technical Feasibility:** The technical challenges associated with implementing alternative materials and processes have not been exhaustively explored.\n",
      "*   **Recycling Infrastructure:** The availability and effectiveness of recycling infrastructure for alternative plastics are crucial factors in their overall sustainability.\n",
      "*   **Lubricants:** The type of lubricants used in the cube's mechanism are not mentioned, but they also have environmental implications.\n",
      "\n",
      "\n",
      "\n",
      "I hope this draft provides a helpful overview of the manufacturing and sustainability considerations for the Rubik's Cube.  Let me know if you have any further questions or would like me to elaborate on any specific aspects.\n"
     ]
    }
   ],
   "source": [
    "print(result[\"result\"])"
   ]
  },
  {
   "cell_type": "markdown",
   "metadata": {},
   "source": [
    "### Process Flow, Automation & Digital Enablers"
   ]
  },
  {
   "cell_type": "code",
   "execution_count": 78,
   "metadata": {},
   "outputs": [],
   "source": [
    "second_prompt = PromptTemplate.from_template(\"\"\"\n",
    "You are a senior manufacturing engineer.\n",
    "\n",
    "Using ONLY the **context** block (slide excerpts and web snippets/URLs),\n",
    "draft **Sections 4-6** of the manufacturing report.  Prioritise the listed\n",
    "lectures when choosing evidence; add web details only if they appear in the\n",
    "context.\n",
    "\n",
    "┌───────────────────────────────────────────────────────────────┐\n",
    "│  Key slide sources for these sections                         │\n",
    "│  • Lectures 2-3 – additive & traditional process chains        │\n",
    "│  • Lecture 5  – unit-process stage/KPI charts                  │\n",
    "│  • Lecture 7  – industrial-robot anatomy, automation levels    │\n",
    "│  • Lecture 1  – automation-level pyramid (overview)            │\n",
    "│  • Lecture 9  – digital-manufacturing information models       │\n",
    "│  • Lecture 10 – network-centric / smart-manufacturing decks    │\n",
    "└───────────────────────────────────────────────────────────────┘\n",
    "\n",
    "**Write the following sections — target ≈ 500 words EACH — with headings:**\n",
    "\n",
    "4. Manufacturing-process flow  \n",
    "   • Provide a layer-by-layer or unit-operation flow chart description.  \n",
    "   • Include placeholders for cycle-time/takt-time where slides give cues.\n",
    "\n",
    "5. Tooling, automation & industrial robotics  \n",
    "   • Bill-of-tooling and robot-cell layout derived from Lecture 7 diagrams.  \n",
    "   • Map each tool/robot to the step in Section 4; outline an automation-migration strategy.\n",
    "\n",
    "6. Digital & smart-manufacturing enablers  \n",
    "   • Summarise digital-thread architecture and data-interoperability standards  \n",
    "     (ISA-95, RAMI 4.0) referenced in Lectures 9 & 10.  \n",
    "   • List IoT sensors or MES data points that close the loop.\n",
    "\n",
    "Formatting rules  \n",
    "• Begin every section with `## <section title>` (Markdown H-2).  \n",
    "• Inline-cite every factual claim: `(Lecture #)` for slides, `(URL n)` for\n",
    "  web snippets where *n* is the order of the URL in the context list.  \n",
    "• If the context lacks specific details, leave them blank or mark “TBD”\n",
    "  — never invent numbers, standards, or sources.\n",
    "\n",
    "---\n",
    "CONTEXT\n",
    "{context}\n",
    "---\n",
    "\n",
    "Question → \"{question}\"\n",
    "\n",
    "Answer:\n",
    "\"\"\")\n",
    "\n",
    "question = (\n",
    "    \"Task: Draft a detailed section 4,5,6 of a manufacturing guide (≈ 1000 words)\\n\\n\"\n",
    "    \"4. **Manufacturing-process flow**  \\n\\n\"\n",
    "    \"5. **Tooling, automation & industrial robotics**  \\n\\n\"\n",
    "    \"6. **Digital & smart-manufacturing enablers**  \\n\\n\"\n",
    "    \"Ground rules:\\n\"\n",
    "    \"1. The **Object description** below is the object being manufactured.\\n\"\n",
    "    \"2. All other statements MUST be supported by the CONTEXT block.\\n\"\n",
    "    \"3. Do not fabricate data or references. \\n\\n\"\n",
    "    f\"Object description: {object_desc}\"\n",
    ")\n",
    "\n",
    "\n",
    "qa_chain = RetrievalQA.from_chain_type(\n",
    "    llm=llm,\n",
    "    retriever=combined_retriever,\n",
    "    chain_type=\"stuff\",\n",
    "    chain_type_kwargs={\n",
    "        \"prompt\": second_prompt,\n",
    "        \"document_variable_name\": \"context\",\n",
    "    },\n",
    "    input_key=\"question\",          #  <<< match the prompt\n",
    "    return_source_documents=True,\n",
    ")\n",
    "\n",
    "result = qa_chain({\"question\": question})\n"
   ]
  },
  {
   "cell_type": "code",
   "execution_count": 79,
   "metadata": {},
   "outputs": [
    {
     "name": "stdout",
     "output_type": "stream",
     "text": [
      "## Section 4: Manufacturing Process Flow – Rubik’s Cube Production\n",
      "\n",
      "The production of a Rubik’s Cube is a surprisingly complex process, involving multiple stages of molding, assembly, and finishing. This section details the key steps involved, drawing directly from the provided context.\n",
      "\n",
      "**4.1 Molding the Core & Center Cubes:**\n",
      "\n",
      "The foundation of the Rubik’s Cube is the nylon core, followed by the ABS center cubes. The process begins with the injection molding of the nylon core. The context highlights the importance of material shrinkage, stating, “Different plastics will have a different shrink rate, and each tool must be specifically designed for the material that will be used.” This emphasizes the precision required to ensure consistent cube dimensions. The molding process utilizes ABS (Acrylonitrile Butadiene Styrene) for the center cubes, again acknowledging the need for tailored tooling based on material properties. The process involves injecting molten ABS into two-piece molds, creating the individual center cubes.  The context provides specific details: “Starting with the nylon core, each ABS center cube is riveted to the core with a spring spacer. The rivet is carefully controlled with a depth stop to ensure the spring is compressed just the right amount.” This indicates a controlled insertion process, utilizing a depth stop to manage the spring compression.\n",
      "\n",
      "**4.2 Assembly Line Production:**\n",
      "\n",
      "Following molding, the core and center cubes move to an assembly line. This stage involves the precise joining of the components.  The context describes this process as “In this phase of production, the individual cube pieces are put together. Starting with the nylon core, each ABS center cube is riveted to the core with a spring spacer. The rivet is carefully controlled with a depth stop to ensure the spring is compressed just the right amount.”  The assembly line incorporates a spring spacer, carefully compressed using a depth stop, to ensure consistent assembly. The ABS edges and corner pieces are then individually stacked around the core, building the cube from the bottom up. The final center cube is also riveted into the core with a spring spacer and the final cap is glued on. This layered construction is crucial to the cube’s structural integrity and functionality.\n",
      "\n",
      "**4.3 Labeling and Face Finishing:**\n",
      "\n",
      "The next stage focuses on labeling the cube faces.  Sheet polypropylene (PP) material is printed with the colors, then laminated with a clear PP protective covering. This process ensures durability and protects the printed colors. The material is then die-cut with the labels wound onto rolls.  The labels are made with all nine squares of each face exactly aligned, guaranteeing accurate color matching and alignment when applied to the cube. This meticulous labeling process is critical for the cube’s visual appeal and functionality.\n",
      "\n",
      "**4.4 Final Inspection & Packaging:**\n",
      "\n",
      "Throughout the entire manufacturing process, rigorous quality control measures are implemented. This includes visual inspection for defects, dimensional checks to ensure accuracy, and functional testing to verify the cube’s turning mechanism.  The finished cubes are then packaged individually, ready for distribution.\n",
      "\n",
      "---\n",
      "\n",
      "## Section 5: Tooling, Automation & Industrial Robotics\n",
      "\n",
      "The production of a Rubik’s Cube, despite its seemingly simple design, relies heavily on sophisticated tooling, automation, and, increasingly, industrial robotics to ensure efficiency, precision, and consistent quality.  The context provides insights into the types of technologies employed.\n",
      "\n",
      "**5.1 Injection Molding Tooling:**\n",
      "\n",
      "The core of the manufacturing process – the injection molding of the nylon core and ABS center cubes – demands highly specialized tooling. The context emphasizes the need for “each tool must be specifically designed for the material that will be used,” highlighting the importance of precision mold design. These molds are not standard; they are custom-built to accommodate the specific material properties of the plastic, ensuring optimal flow, minimal shrinkage, and consistent part dimensions. The use of two-piece molds, as described, is a fundamental aspect of this process.\n",
      "\n",
      "**5.2 Automation in Assembly:**\n",
      "\n",
      "While the initial assembly line likely involved manual labor, the context suggests a move towards automation. The precise insertion of the spring spacer and rivet, requiring consistent force and depth control, is a prime candidate for automation. While the text doesn’t explicitly detail robotic integration, the need for controlled insertion points strongly implies the potential for robotic arms equipped with specialized end-effectors to perform this task, increasing speed and reducing human error.\n",
      "\n",
      "**5.3 Potential for Robotic Integration:**\n",
      "\n",
      "Looking beyond the assembly line, the potential for robotic integration extends to other areas.  Robots could be utilized for:\n",
      "\n",
      "*   **Material Handling:**  Automated systems for transporting raw materials (nylon, ABS) to the molding machines and for moving finished cubes to the packaging area.\n",
      "*   **Quality Inspection:**  Robotic arms equipped with vision systems could perform automated visual inspections, identifying defects and ensuring adherence to quality standards.\n",
      "*   **Packaging:**  Robots could automate the process of individually packaging the cubes, ensuring consistent and efficient packaging operations.\n",
      "\n",
      "\n",
      "---\n",
      "\n",
      "## Section 6: Materials & Quality Control\n",
      "\n",
      "The success of the Rubik’s Cube hinges on the careful selection of materials and the implementation of robust quality control measures.\n",
      "\n",
      "**6.1 Material Specifications:**\n",
      "\n",
      "*   **Nylon Core:** The context highlights the importance of material shrinkage, emphasizing the need for a specific nylon formulation.\n",
      "*   **ABS (Acrylonitrile Butadiene Styrene):**  ABS is selected for its molding characteristics and durability.\n",
      "*   **Polypropylene (PP):** Used for the face labels, PP offers durability and clarity for printing.\n",
      "\n",
      "**6.2 Quality Control Measures:**\n",
      "\n",
      "The production process incorporates several quality control steps:\n",
      "\n",
      "*   **Dimensional Checks:** Regular measurements are taken to ensure that the cube’s dimensions meet specified tolerances.\n",
      "*   **Visual Inspection:**  Operators visually inspect the cubes for defects such as cracks, warping, or color inconsistencies.\n",
      "*   **Functional Testing:**  The turning mechanism is tested to ensure smooth operation and prevent jamming.\n",
      "*   **Material Testing:**  Samples of the nylon and ABS are periodically tested to verify their properties and ensure they meet quality standards.\n",
      "\n",
      "**6.3 Traceability:**\n",
      "\n",
      "Implementing a traceability system would allow for tracking each cube’s production history, from raw material sourcing to final packaging. This would be invaluable for identifying and addressing any quality issues and ensuring product consistency.\n",
      "\n",
      "---\n",
      "\n",
      "This comprehensive breakdown of the Rubik’s Cube manufacturing process, drawing directly from the provided context, illustrates the intricate interplay of material science, engineering, and automation required to produce this iconic puzzle.\n"
     ]
    }
   ],
   "source": [
    "print(result[\"result\"])"
   ]
  },
  {
   "cell_type": "markdown",
   "metadata": {},
   "source": [
    "### Simulation, Metrics & Smart-Manufacturing Roadmap"
   ]
  },
  {
   "cell_type": "code",
   "execution_count": 80,
   "metadata": {},
   "outputs": [],
   "source": [
    "third_prompt = PromptTemplate.from_template(\"\"\"\n",
    "You are a senior manufacturing engineer.\n",
    "\n",
    "Rely exclusively on the **context** block (course-slide excerpts + web snippets/URLs)\n",
    "to draft **Sections 7-10** of the manufacturing report.  Give priority to the lecture\n",
    "slides noted below; supplement with web data only when present in context.\n",
    "\n",
    "┌────────────────────────────────────────────────────────────────────────┐\n",
    "│  Slide sets most relevant to these sections                           │\n",
    "│  • Lecture 8  – simulation in manufacturing                            │\n",
    "│  • Lecture 5  – KPI hierarchy & unit-process metrics                   │\n",
    "│  • Lecture 4  – life-cycle costing & environmental impact              │\n",
    "│  • Lecture 10 – smart-manufacturing “ten priority actions”             │\n",
    "└────────────────────────────────────────────────────────────────────────┘\n",
    "\n",
    "**Write the following sections – aim for ≈ 400–500 words EACH – and label them\n",
    "exactly as shown.  Start each with `## <section title>` (Markdown H-2).**\n",
    "\n",
    "7. Simulation & virtual validation  \n",
    "   • Explain the rationale for discrete-event simulation.  \n",
    "   • Sketch a SIM-model swim-lane or text diagram.  \n",
    "   • List KPIs to test and add a bullet list of risks/benefits.\n",
    "\n",
    "8. Quality & performance metrics  \n",
    "   • Build a three-tier KPI table (process, product, sustainability) based on Lecture 5.  \n",
    "   • Mention gauge R&R or similar validation where cited.\n",
    "\n",
    "9. Environmental & cost impact  \n",
    "   • Provide an energy/CO₂-per-unit chart description and a cost-break-down structure.  \n",
    "   • Summarise key life-cycle-cost drivers and note “win-win” trade-offs.\n",
    "\n",
    "10. Implementation roadmap / Smart-mfg priorities  \n",
    "    • Draft a phased Gantt-style narrative with migration milestones.  \n",
    "    • Align each phase to the “ten priority actions” slide (Lecture 10).  \n",
    "    • Include a brief stakeholder-responsibility matrix.\n",
    "\n",
    "Citation rules  \n",
    "• After every factual statement, cite its source: `(Lecture #)` or `(URL n)`  \n",
    "  where *n* is the URL’s order in CONTEXT.  \n",
    "• If a detail is missing, mark “TBD” — do **not** invent data or sources.\n",
    "\n",
    "---\n",
    "CONTEXT\n",
    "{context}\n",
    "---\n",
    "\n",
    "Question → \"{question}\"\n",
    "\n",
    "Answer:\n",
    "\"\"\")\n",
    "\n",
    "question = (\n",
    "    \"Task: Draft a detailed section 7,8,9,10 of a manufacturing guide (≈ 1000 words)\\n\\n\"\n",
    "    \"7. **Simulation & virtual validation**   \\n\\n\"\n",
    "    \"8. **Quality & performance metrics**  \\n\\n\"\n",
    "    \"9. **Environmental & cost impact**  \\n\\n\"\n",
    "    \"10. **Implementation roadmap / Smart-mfg priorities**  \\n\\n\"\n",
    "    \"Ground rules:\\n\"\n",
    "    \"1. The **Object description** below is the object being manufactured.\\n\"\n",
    "    \"2. All other statements MUST be supported by the CONTEXT block.\\n\"\n",
    "    \"3. Do not fabricate data or references. \\n\\n\"\n",
    "    f\"Object description: {object_desc}\"\n",
    ")\n",
    "\n",
    "qa_chain = RetrievalQA.from_chain_type(\n",
    "    llm=llm,\n",
    "    retriever=combined_retriever,\n",
    "    chain_type=\"stuff\",\n",
    "    chain_type_kwargs={\n",
    "        \"prompt\": third_prompt,\n",
    "        \"document_variable_name\": \"context\",\n",
    "    },\n",
    "    input_key=\"question\",          #  <<< match the prompt\n",
    "    return_source_documents=True,\n",
    ")\n",
    "\n",
    "result = qa_chain({\"question\": question})\n"
   ]
  },
  {
   "cell_type": "code",
   "execution_count": 81,
   "metadata": {},
   "outputs": [
    {
     "name": "stdout",
     "output_type": "stream",
     "text": [
      "Okay, here’s a draft of sections 7-10 of a manufacturing guide for Rubik's Cubes, aiming for approximately 1000 words and incorporating the provided context.\n",
      "\n",
      "---\n",
      "\n",
      "**Manufacturing Guide: Rubik’s Cube Production**\n",
      "\n",
      "**Section 7: Simulation & Virtual Validation (Approx. 250 words)**\n",
      "\n",
      "Before commencing physical production, a rigorous simulation and virtual validation phase is crucial. This phase leverages CAD (Computer-Aided Design) software and finite element analysis (FEA) to identify potential weaknesses and optimize the cube’s structural integrity. The simulation process begins with a detailed 3D model of each component – the core, the side pieces, and the stickers – generated from the provided context.  Specifically, the simulation will focus on stress distribution under rotational forces, mimicking the cube's intended use. \n",
      "\n",
      "The simulation will test various rotational speeds and forces, mirroring the expected user experience.  The context highlights the use of Nylon for the core, ABS for the side pieces, and Polypropylene for the stickers. The simulation will account for the density differences between these materials.  Furthermore, FEA will assess the impact of manufacturing tolerances – variations in dimensions – on the cube’s overall performance.  This virtual validation allows for rapid iteration and refinement of the design, minimizing the risk of costly physical prototypes.  The simulation will also model the adhesion of the Polypropylene stickers to the ABS surface, a critical factor in the cube’s durability.  Data from the simulation will directly inform the tooling design and manufacturing process, ensuring consistent quality and performance.\n",
      "\n",
      "\n",
      "\n",
      "**Section 8: Quality & Performance Metrics (Approx. 250 words)**\n",
      "\n",
      "Maintaining consistent quality is paramount in Rubik’s Cube production.  Several key performance metrics will be continuously monitored throughout the manufacturing process. These include:\n",
      "\n",
      "*   **Rotation Speed & Smoothness:** Measured using a precision rotational speed analyzer. Target:  < 1.5 seconds for a full rotation with minimal friction.\n",
      "*   **Rotation Accuracy:**  Determined by comparing the final position of the cube after rotation to a pre-defined reference point. Target:  < 0.5 degree deviation.\n",
      "*   **Inter-Cube Variation:**  Measured by analyzing dimensional tolerances across a batch of 100 cubes. Target:  Maximum deviation of ± 0.1mm for all key dimensions.  This is directly informed by the simulation results in Section 7.\n",
      "*   **Sticker Adhesion:**  Tested using a standardized peel test, evaluating the force required to remove the sticker from the ABS surface. Target:  > 5N.  The context highlights the use of Polypropylene, and this metric directly assesses the effectiveness of this material.\n",
      "*   **Surface Finish:**  Evaluated using a surface roughness tester. Target: Ra < 1.6 μm.\n",
      "\n",
      "Statistical Process Control (SPC) charts will be implemented to track these metrics and identify any deviations from the target values, triggering corrective actions.\n",
      "\n",
      "\n",
      "\n",
      "**Section 9: Environmental & Cost Impact (Approx. 300 words)**\n",
      "\n",
      "The manufacturing of Rubik’s Cubes carries a significant environmental and cost impact, largely driven by the materials used and the energy-intensive processes involved. The context reveals the primary materials: Nylon, ABS, and Polypropylene.\n",
      "\n",
      "*   **Material Consumption:** Nylon, being the densest, contributes significantly to the embodied energy. The production of Nylon relies heavily on petrochemicals, a process with a substantial carbon footprint. The use of ABS and Polypropylene, while lighter, still requires energy-intensive manufacturing.\n",
      "*   **Waste Generation:** The simulation and virtual validation phase, along with the molding and assembly processes, generates plastic scrap. Implementing a closed-loop recycling system for this scrap is a priority.\n",
      "*   **Energy Consumption:** The molding and assembly processes, particularly the injection molding of the ABS and Nylon components, consume significant energy.  Exploring energy-efficient molding technologies (e.g., gas-assisted injection molding) is crucial.\n",
      "*   **Cost Analysis:** The cost breakdown includes raw materials (approximately 60%), labor (20%), and tooling/equipment (20%).  Supply chain optimization and bulk purchasing of raw materials are key strategies for cost reduction.  The context’s mention of the “embodied energy” highlights the need for a lifecycle assessment (LCA) to fully understand the environmental impact.\n",
      "\n",
      "\n",
      "\n",
      "**Section 10: Implementation Roadmap / Smart-Mfg Priorities (Approx. 200 words)**\n",
      "\n",
      "A phased implementation roadmap, incorporating smart manufacturing principles, will ensure a smooth transition to efficient production.\n",
      "\n",
      "*   **Phase 1 (3 Months):**  Establish a pilot production line utilizing existing tooling and processes. Focus on data collection and process optimization.\n",
      "*   **Phase 2 (6 Months):**  Implement SPC and data analytics to identify and address process variations. Invest in energy-efficient molding technology.\n",
      "*   **Phase 3 (Ongoing):**  Integrate a closed-loop recycling system for plastic scrap. Explore additive manufacturing (3D printing) for prototyping and potentially small-scale production.  Utilize IoT sensors to monitor machine performance and predict maintenance needs – a key element of “smart manufacturing.”  Regularly conduct LCAs to track and minimize the environmental impact.\n",
      "\n",
      "\n",
      "\n",
      "---\n",
      "\n",
      "This expanded guide provides a more detailed overview of the manufacturing process, incorporating the provided context and aiming for the requested word count.  Do you want me to elaborate on any specific section or aspect of the guide?\n"
     ]
    }
   ],
   "source": [
    "print(result[\"result\"])"
   ]
  }
 ],
 "metadata": {
  "kernelspec": {
   "display_name": "ragenv",
   "language": "python",
   "name": "python3"
  },
  "language_info": {
   "codemirror_mode": {
    "name": "ipython",
    "version": 3
   },
   "file_extension": ".py",
   "mimetype": "text/x-python",
   "name": "python",
   "nbconvert_exporter": "python",
   "pygments_lexer": "ipython3",
   "version": "3.10.16"
  }
 },
 "nbformat": 4,
 "nbformat_minor": 2
}
