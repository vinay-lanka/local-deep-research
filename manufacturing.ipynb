{
 "cells": [
  {
   "cell_type": "markdown",
   "metadata": {},
   "source": [
    "# Vision to Manufacture: A Fully Local Manufacturing Intelligence Engine\n",
    "\n",
    "Vinay Lanka | Apoorv Thapliyal "
   ]
  },
  {
   "cell_type": "markdown",
   "metadata": {},
   "source": [
    "## Imports"
   ]
  },
  {
   "cell_type": "code",
   "execution_count": 1,
   "metadata": {},
   "outputs": [
    {
     "name": "stderr",
     "output_type": "stream",
     "text": [
      "USER_AGENT environment variable not set, consider setting it to identify your requests.\n"
     ]
    }
   ],
   "source": [
    "import torch\n",
    "from PIL import Image\n",
    "import matplotlib.pyplot as plt\n",
    "import matplotlib.image as mpimg\n",
    "\n",
    "# Langchain setup\n",
    "from langchain_core.prompts import PromptTemplate\n",
    "from langchain.chains import LLMChain\n",
    "from langchain_ollama import OllamaLLM\n",
    "import json, re, textwrap, time\n",
    "from typing import Dict, List, Tuple\n",
    "\n",
    "#DDG\n",
    "from duckduckgo_search import DDGS\n",
    "\n",
    "# Fetching HTML\n",
    "from langchain_community.document_loaders import AsyncHtmlLoader\n",
    "from langchain_community.document_transformers import Html2TextTransformer\n",
    "from typing import List\n",
    "from langchain.schema import BaseRetriever, Document\n",
    "\n",
    "# Web scraping\n",
    "import asyncio\n",
    "\n",
    "# Database\n",
    "from bs4 import BeautifulSoup\n",
    "from langchain.schema import Document\n",
    "from langchain.text_splitter import RecursiveCharacterTextSplitter\n",
    "from langchain.embeddings import HuggingFaceInstructEmbeddings\n",
    "from langchain.vectorstores import Chroma\n",
    "from langchain.embeddings import SentenceTransformerEmbeddings\n",
    "from langchain.vectorstores import FAISS\n",
    "from langchain.chains import RetrievalQA\n",
    "from langchain.llms.base import BaseLLM\n",
    "from langchain.prompts import PromptTemplate\n",
    "\n",
    "import chromadb\n",
    "from chromadb.config import Settings\n",
    "from langchain_community.embeddings import HuggingFaceEmbeddings\n",
    "from chromadb.config import Settings, DEFAULT_TENANT, DEFAULT_DATABASE\n",
    "from langchain_community.vectorstores import Chroma\n",
    "\n",
    "import os, glob\n",
    "from langchain.document_loaders import PyPDFLoader\n",
    "from langchain.schema import Document\n",
    "from langchain.vectorstores import Chroma, FAISS\n",
    "import shutil\n",
    "from chromadb.config import Settings\n",
    "\n",
    "from langchain_ollama import ChatOllama\n",
    "from langchain_core.messages import HumanMessage\n",
    "import base64, pathlib\n",
    "\n",
    "import os, glob, shutil\n",
    "from chromadb.config import Settings\n",
    "from chromadb import Client               # <-- make sure this is the Rust binding\n",
    "from langchain_community.vectorstores import Chroma\n",
    "from langchain.embeddings import HuggingFaceEmbeddings\n",
    "from langchain.document_loaders import PyPDFLoader\n",
    "from langchain.text_splitter import RecursiveCharacterTextSplitter\n",
    "import pypandoc"
   ]
  },
  {
   "cell_type": "markdown",
   "metadata": {},
   "source": [
    "## Important Definitons\n",
    "Add the image path of your choice here"
   ]
  },
  {
   "cell_type": "code",
   "execution_count": 2,
   "metadata": {},
   "outputs": [],
   "source": [
    "# Image path\n",
    "img_path = \"imgs/pencil.jpeg\"\n",
    "\n",
    "# Object name: \n",
    "object_name = img_path.split(\"/\")[-1].split(\".\")[0]\n",
    "\n",
    "# Model definition\n",
    "model_name = \"gemma3:4b\"\n",
    "\n",
    "##### Static DB relevant chunks #####\n",
    "static_db_relevant_chunks = 10 # Number of static DB relevant chunks to get from retriever\n",
    "\n",
    "##### Dynamic DB relevant chunks #####\n",
    "webscraping_queries = 10 # Number of webscraping queries\n",
    "number_of_webscraping_results = 5 # Number of webscraping results\n",
    "dynamic_db_relevant_chunks = 10 # Number of dynamic DB relevant chunks to get from retriever"
   ]
  },
  {
   "cell_type": "markdown",
   "metadata": {},
   "source": [
    "## Captioning\n"
   ]
  },
  {
   "cell_type": "code",
   "execution_count": 3,
   "metadata": {},
   "outputs": [
    {
     "name": "stdout",
     "output_type": "stream",
     "text": [
      "Using device: cuda\n"
     ]
    }
   ],
   "source": [
    "# Set the device to GPU if available\n",
    "device = torch.device(\"cuda\" if torch.cuda.is_available() else \"cpu\")\n",
    "\n",
    "# Print device information\n",
    "print(f\"Using device: {device}\")"
   ]
  },
  {
   "cell_type": "markdown",
   "metadata": {},
   "source": [
    "### Using LLM to generate captions"
   ]
  },
  {
   "cell_type": "code",
   "execution_count": 4,
   "metadata": {},
   "outputs": [
    {
     "name": "stdout",
     "output_type": "stream",
     "text": [
      "The primary object in the image is a black pencil made of graphite with a smooth, matte surface finish.\n"
     ]
    }
   ],
   "source": [
    "img_b64 = base64.b64encode(pathlib.Path(img_path).read_bytes()).decode()\n",
    "\n",
    "content = [\n",
    "    {  # image part\n",
    "        \"type\": \"image_url\",\n",
    "        \"image_url\": f\"data:image/jpeg;base64,{img_b64}\",\n",
    "    },\n",
    "    {  # text prompt part\n",
    "        \"type\": \"text\",\n",
    "        \"text\": \"Identify the primary object in this image and enumerate all observable material characteristics—such as base material, surface finish, color, texture, gloss level, or coating.  Ignore background elements and give the answer in one clear English sentence.\",\n",
    "    },\n",
    "]\n",
    "\n",
    "# llm = ChatOllama(model=\"gemma3:4b\", temperature=0.3)\n",
    "llm = ChatOllama(model=model_name, temperature=0.3)\n",
    "\n",
    "\n",
    "object_desc = llm.invoke([HumanMessage(content=content)]).content\n",
    "\n",
    "print(object_desc)"
   ]
  },
  {
   "cell_type": "markdown",
   "metadata": {},
   "source": [
    "## Static DB"
   ]
  },
  {
   "cell_type": "markdown",
   "metadata": {},
   "source": [
    "### Setup static db \n",
    "\n",
    "Chroma DB with Persistence\n",
    "Embedding LLM - all-MiniLM-L12-v2\n",
    "\n",
    "Converts documents under `/data` to vector embeddings under `/db`.\n",
    "Place any documents to be stored under `/data`.\n",
    "To be run once."
   ]
  },
  {
   "cell_type": "code",
   "execution_count": 5,
   "metadata": {},
   "outputs": [
    {
     "name": "stderr",
     "output_type": "stream",
     "text": [
      "/tmp/ipykernel_24346/1380917464.py:2: LangChainDeprecationWarning: The class `HuggingFaceEmbeddings` was deprecated in LangChain 0.2.2 and will be removed in 1.0. An updated version of the class exists in the :class:`~langchain-huggingface package and should be used instead. To use it run `pip install -U :class:`~langchain-huggingface` and import as `from :class:`~langchain_huggingface import HuggingFaceEmbeddings``.\n",
      "  embedder   = HuggingFaceEmbeddings(model_name=\"all-MiniLM-L12-v2\")\n",
      "/home/apoorv/miniconda3/envs/ragenv/lib/python3.10/site-packages/tqdm/auto.py:21: TqdmWarning: IProgress not found. Please update jupyter and ipywidgets. See https://ipywidgets.readthedocs.io/en/stable/user_install.html\n",
      "  from .autonotebook import tqdm as notebook_tqdm\n"
     ]
    },
    {
     "name": "stdout",
     "output_type": "stream",
     "text": [
      "Building new vector store in db/sdb\n"
     ]
    },
    {
     "name": "stderr",
     "output_type": "stream",
     "text": [
      "/tmp/ipykernel_24346/1380917464.py:38: LangChainDeprecationWarning: Since Chroma 0.4.x the manual persistence method is no longer supported as docs are automatically persisted.\n",
      "  vectordb_static.persist()\n"
     ]
    }
   ],
   "source": [
    "static_dir = \"db/sdb\"\n",
    "embedder   = HuggingFaceEmbeddings(model_name=\"all-MiniLM-L12-v2\")\n",
    "\n",
    "if os.path.exists(static_dir) and os.listdir(static_dir):\n",
    "    print(f\"Loading existing vector store from {static_dir}\")\n",
    "    vectordb_static = Chroma(\n",
    "        persist_directory=static_dir,\n",
    "        embedding_function=embedder,\n",
    "    )\n",
    "\n",
    "else:\n",
    "    if os.path.exists(static_dir):\n",
    "        print(f\"Clearing existing directory {static_dir}\")\n",
    "        shutil.rmtree(static_dir) # Remove without ignoring errors this time\n",
    "\n",
    "    print(f\"Building new vector store in {static_dir}\")\n",
    "    os.makedirs(static_dir, exist_ok=True) # Create the directory\n",
    "\n",
    "    # load PDFs\n",
    "    pdf_docs = []\n",
    "    for path in glob.glob(\"data/*.pdf\"):\n",
    "        loader = PyPDFLoader(path)\n",
    "        pdf_docs.extend(loader.load())\n",
    "\n",
    "    # split into chunks\n",
    "    splitter = RecursiveCharacterTextSplitter(\n",
    "        chunk_size=1500,\n",
    "        chunk_overlap=200,\n",
    "        length_function=len\n",
    "    )\n",
    "    static_chunks = splitter.split_documents(pdf_docs)\n",
    "\n",
    "    vectordb_static = Chroma.from_documents(\n",
    "        documents=static_chunks,\n",
    "        embedding=embedder,\n",
    "        persist_directory=static_dir,\n",
    "    )\n",
    "    vectordb_static.persist()"
   ]
  },
  {
   "cell_type": "markdown",
   "metadata": {},
   "source": [
    "### Create a retreiver\n",
    "\n",
    "Pulling $k$ relevant chunks"
   ]
  },
  {
   "cell_type": "code",
   "execution_count": 6,
   "metadata": {},
   "outputs": [],
   "source": [
    "static_ret  = vectordb_static.as_retriever(\n",
    "    search_kwargs={\"k\": static_db_relevant_chunks}\n",
    ")"
   ]
  },
  {
   "cell_type": "markdown",
   "metadata": {},
   "source": [
    "## Generate queries"
   ]
  },
  {
   "cell_type": "markdown",
   "metadata": {},
   "source": [
    "The LLM Model: Ollama gemma3:4b model will be used for query generation as well as final manufacturing document generation"
   ]
  },
  {
   "cell_type": "code",
   "execution_count": 7,
   "metadata": {},
   "outputs": [],
   "source": [
    "# Set the query prompt\n",
    "query_prompt = PromptTemplate.from_template(textwrap.dedent(\"\"\"\n",
    "You are a manufacturing-research assistant with subject-matter-expertise in product realization.\n",
    "\n",
    "- Given the object description below, generate *{k}* diverse Search Engine queries that a seasoned manufacturing SME would use to uncover *every aspect* of how this product is made—from raw material selection through process steps, tooling, automation, quality control, sustainability, and cost analysis.\n",
    "- Return *only* a JSON array of query strings—no extra text.\n",
    "\n",
    "OBJECT DESCRIPTION\n",
    "{caption}\n",
    "\"\"\"))\n",
    "\n",
    "\n",
    "def generate_queries(caption: str, k: int = 6) -> list[str]:\n",
    "    chain = LLMChain(llm=llm, prompt=query_prompt.partial(k=k))\n",
    "    out_dict = chain.invoke({\"caption\": caption})\n",
    "    raw      = out_dict[\"text\"].strip()      # ← extract the string\n",
    "    match    = re.search(r\"\\[.*\\]\", raw, re.DOTALL)\n",
    "    if not match:\n",
    "        raise ValueError(f\"Could not parse JSON from model:\\n{raw}\")\n",
    "    return [q.strip() for q in json.loads(match.group(0))]\n"
   ]
  },
  {
   "cell_type": "code",
   "execution_count": 8,
   "metadata": {},
   "outputs": [
    {
     "name": "stderr",
     "output_type": "stream",
     "text": [
      "/tmp/ipykernel_24346/1178516266.py:14: LangChainDeprecationWarning: The class `LLMChain` was deprecated in LangChain 0.1.17 and will be removed in 1.0. Use :meth:`~RunnableSequence, e.g., `prompt | llm`` instead.\n",
      "  chain = LLMChain(llm=llm, prompt=query_prompt.partial(k=k))\n"
     ]
    },
    {
     "name": "stdout",
     "output_type": "stream",
     "text": [
      "Generated queries:\n",
      "  • graphite pencil manufacturing processes\n",
      "  • pencil core formulation and binder selection\n",
      "  • matte pencil surface finish techniques\n",
      "  • pencil tooling design and manufacturing (dies, molds)\n",
      "  • graphite extrusion process optimization for pencils\n",
      "  • pencil automation solutions – conveyor systems, dispensing\n",
      "  • pencil quality control inspection methods (dimensional, visual)\n",
      "  • sustainable graphite sourcing and supply chain analysis\n",
      "  • pencil cost analysis – material, labor, tooling, overhead\n",
      "  • pencil production tooling material selection (steel, aluminum)\n"
     ]
    }
   ],
   "source": [
    "queries = generate_queries(object_desc, k=webscraping_queries)\n",
    "print(\"Generated queries:\")\n",
    "for q in queries:\n",
    "    print(f\"  • {q}\")"
   ]
  },
  {
   "cell_type": "markdown",
   "metadata": {},
   "source": [
    "## Dynamic DB"
   ]
  },
  {
   "cell_type": "markdown",
   "metadata": {},
   "source": [
    "### Duck-Duck-Go scraping for top N URLs"
   ]
  },
  {
   "cell_type": "code",
   "execution_count": 9,
   "metadata": {},
   "outputs": [],
   "source": [
    "def ddg_search(query: str, max_results: int = 5) -> list[str]:\n",
    "    \"\"\"\n",
    "    Returns the top‑N DuckDuckGo result URLs for a query.\n",
    "    \"\"\"\n",
    "    with DDGS() as ddgs:\n",
    "        return [hit[\"href\"] for hit in ddgs.text(query, max_results=max_results)]\n",
    "\n",
    "# Example usage:\n",
    "# urls = [u for q in queries for u in ddg_search(q, max_results=5)]\n",
    "# urls = list(dict.fromkeys(urls))  # dedupe while preserving order"
   ]
  },
  {
   "cell_type": "code",
   "execution_count": 10,
   "metadata": {},
   "outputs": [],
   "source": [
    "async def fetch_documents(urls: list[str]):\n",
    "    \"\"\"\n",
    "    Asynchronously downloads each page and converts HTML→plain text.\n",
    "    Returns a list of LangChain Document objects.\n",
    "    \"\"\"\n",
    "    loader    = AsyncHtmlLoader(urls)\n",
    "    html_docs = await loader.load()                       # list[Document] with HTML in .page_content\n",
    "    transformer = Html2TextTransformer()                  # strips tags, yields markdown‑style text :contentReference[oaicite:0]{index=0}\n",
    "    text_docs = transformer.transform_documents(html_docs)\n",
    "    return text_docs\n"
   ]
  },
  {
   "cell_type": "code",
   "execution_count": 11,
   "metadata": {},
   "outputs": [
    {
     "name": "stdout",
     "output_type": "stream",
     "text": [
      "\n",
      "Query: graphite pencil manufacturing processes\n",
      "  URLs:\n",
      "    • https://www.madehow.com/Volume-1/Pencil.html\n",
      "    • https://khatabook.com/blog/pencil-manufacturing-process/\n",
      "    • https://mechforged.com/manufacturing-process-of-a-pencil/\n",
      "    • https://science.howstuffworks.com/innovation/science-questions/question465.htm\n",
      "    • https://mechforged.com/manufacturing-process-of-a-mechanical-pencil/\n",
      "\n",
      "Query: pencil core formulation and binder selection\n",
      "  URLs:\n",
      "    • https://pmc.ncbi.nlm.nih.gov/articles/PMC7913514/\n",
      "    • https://www.jbclinpharm.org/articles/the-role-of-binder-selection-in-optimizing-tablet-strength-and-dissolution-13080.html\n",
      "    • https://www.jbclinpharm.org/articles/the-role-of-binder-selection-in-optimizing-tablet-strength-and--dissolution.pdf\n",
      "    • https://www.shmorrisart.com/blog/harnessing-the-power\n",
      "    • https://www.pharma.tips/optimizing-binder-selection-for-improved-tablet-strength/\n",
      "\n",
      "Query: matte pencil surface finish techniques\n",
      "  URLs:\n",
      "    • https://www.eharrisgallery.com/9-ways-to-stop-pencil-shine/\n",
      "    • https://www.alabamaart.com/blogs/studionotes/a-comprehensive-guide-to-liquitex-mediums-varnishes\n",
      "    • https://www.wildlifeartstore.com/14-drawing-techniques/\n",
      "    • https://www.fabercastell.com/blogs/creativity-for-life/graphite-pencils-pitt-matte-techniques\n",
      "    • https://www.artistsnetwork.com/art-techniques/colored-pencil-techniques-create-tantalizing-texture/\n",
      "\n",
      "Query: pencil tooling design and manufacturing (dies, molds)\n",
      "  URLs:\n",
      "    • https://synectic.net/a-guide-to-tooling-and-mold-design-for-manufacturing/\n",
      "    • https://www.ace-mold.com/custom-plastic-tooling-guide/\n",
      "    • https://www.boyiprototyping.com/blogs/die-tooling/\n",
      "    • https://wtmsolutions.com/precision-manufacturing-tools-die-and-mold-manufacturing/\n",
      "    • https://www.pattersonmold.com/die-cast-tooling/\n",
      "\n",
      "Query: graphite extrusion process optimization for pencils\n",
      "  URLs:\n",
      "    • https://www.sciencedirect.com/science/article/pii/S2405844021000517\n",
      "    • https://www.penciltalk.org/2010/01/staedtler-wopex-pencil-review\n",
      "    • https://www.cell.com/heliyon/pdf/S2405-8440(21)00051-7.pdf\n",
      "    • https://koreascience.kr/article/JAKO201530848446687.pdf\n",
      "    • https://koreascience.kr/article/JAKO201530848446687.page\n",
      "\n",
      "Query: pencil automation solutions – conveyor systems, dispensing\n",
      "  URLs:\n",
      "    • https://www.nordson.com/en/products/efd-products/gv-series\n",
      "    • https://www.nordson.com/en/products/efd-products/automated-dispensing-systems\n",
      "    • https://www.tw-automation.com/robotics-solutions/automated-conveyor-systems/\n",
      "    • https://www.nordson.com/en/About-Us/Nordson-Blog/EFD-Blogs/051017-A-Closer-Look-at-Automated-Dispensing-Systems-with-Vision-Capabilities\n",
      "    • https://flexautoinc.com/build/capabilities/robotic-dispensing-automation/\n",
      "\n",
      "Query: pencil quality control inspection methods (dimensional, visual)\n",
      "  URLs:\n",
      "    • https://amrepinspect.com/blog/quality-control-methods\n",
      "    • https://www.roy-inspection.com/blogs/news/methods-of-quality-inspection-a-comprehensive-guide\n",
      "    • https://amrepinspect.com/blog/quality-control-checks\n",
      "    • https://www.roy-inspection.com/blogs/news/10-quality-inspection-methods-to-improve-your-product-quality\n",
      "    • https://spc-software.us/what-are-effective-inspection-methods-for-product-quality\n",
      "\n",
      "Query: sustainable graphite sourcing and supply chain analysis\n",
      "  URLs:\n",
      "    • https://hcss.nl/wp-content/uploads/2022/03/Graphite-ExSum-HCSS-2022.pdf\n",
      "    • https://hcss.nl/report/graphite-supply-chain-challenges-recommendations-for-a-critical-mineral/\n",
      "    • https://milpwr.org/wp-content/uploads/2023/01/MPSC-Graphite-Symposium-Presentation-October-2021-Final.pdf\n",
      "    • https://link.springer.com/article/10.1007/s12303-025-00027-2\n",
      "    • https://link.springer.com/content/pdf/10.1007/s12303-025-00027-2.pdf\n",
      "\n",
      "Query: pencil cost analysis – material, labor, tooling, overhead\n",
      "  URLs:\n",
      "    • https://www.scribd.com/presentation/562300023/Costing-Pencil\n",
      "    • https://gpaguide.com/economics-of-pencil/\n",
      "    • https://www.imarcgroup.com/pencil-manufacturing-plant-project-report\n",
      "    • https://umbrex.com/resources/industry-analyses/how-to-analyze-a-manufacturing-company/bill-of-materials-bom-and-cost-structure-analysis/\n",
      "    • https://www.extension.iastate.edu/agdm/wholefarm/pdf/c5-209.pdf\n",
      "\n",
      "Query: pencil production tooling material selection (steel, aluminum)\n",
      "  URLs:\n",
      "    • https://mechforged.com/manufacturing-process-of-a-mechanical-pencil/\n",
      "    • https://www.plasticstoday.com/materials/aluminum-vs-steel-tooling-which-material-is-right-and-how-to-design-and-maintain-\n",
      "    • https://mechforged.com/manufacturing-process-of-a-pencil/\n",
      "    • https://koliwoodpencil.com/how-are-pencils-manufactured/\n",
      "    • https://www.tuofa-cncmachining.com/tuofa-blog/what-is-tooling-in-manufacturing.html\n",
      "\n",
      "Total unique URLs: 48\n"
     ]
    }
   ],
   "source": [
    "all_urls = []\n",
    "for q in queries:\n",
    "    urls = ddg_search(q, max_results=number_of_webscraping_results)\n",
    "    print(f\"\\nQuery: {q}\\n  URLs:\")\n",
    "    for u in urls:\n",
    "        print(\"    •\", u)\n",
    "    all_urls.extend(urls)\n",
    "    time.sleep(1)  # be nice to DDG\n",
    "\n",
    "unique_urls = list(dict.fromkeys(all_urls))\n",
    "print(f\"\\nTotal unique URLs: {len(unique_urls)}\")\n"
   ]
  },
  {
   "cell_type": "markdown",
   "metadata": {},
   "source": [
    "### Fetch HTML Docs as plain text"
   ]
  },
  {
   "cell_type": "code",
   "execution_count": 12,
   "metadata": {},
   "outputs": [
    {
     "name": "stdout",
     "output_type": "stream",
     "text": [
      "\n",
      "Fetching and parsing first 48 available pages:\n"
     ]
    },
    {
     "name": "stderr",
     "output_type": "stream",
     "text": [
      "Fetching pages: 100%|##########| 1/1 [00:00<00:00,  4.98it/s]\n"
     ]
    },
    {
     "name": "stdout",
     "output_type": "stream",
     "text": [
      "[1/48] ✓ Fetched https://www.madehow.com/Volume-1/Pencil.html\n"
     ]
    },
    {
     "name": "stderr",
     "output_type": "stream",
     "text": [
      "Fetching pages: 100%|##########| 1/1 [00:01<00:00,  1.95s/it]\n"
     ]
    },
    {
     "name": "stdout",
     "output_type": "stream",
     "text": [
      "[2/48] ✓ Fetched https://khatabook.com/blog/pencil-manufacturing-process/\n"
     ]
    },
    {
     "name": "stderr",
     "output_type": "stream",
     "text": [
      "Fetching pages: 100%|##########| 1/1 [00:00<00:00,  2.19it/s]\n"
     ]
    },
    {
     "name": "stdout",
     "output_type": "stream",
     "text": [
      "[3/48] ✓ Fetched https://mechforged.com/manufacturing-process-of-a-pencil/\n"
     ]
    },
    {
     "name": "stderr",
     "output_type": "stream",
     "text": [
      "Fetching pages: 100%|##########| 1/1 [00:00<00:00, 11.40it/s]\n"
     ]
    },
    {
     "name": "stdout",
     "output_type": "stream",
     "text": [
      "[4/48] ✓ Fetched https://science.howstuffworks.com/innovation/science-questions/question465.htm\n"
     ]
    },
    {
     "name": "stderr",
     "output_type": "stream",
     "text": [
      "Fetching pages: 100%|##########| 1/1 [00:00<00:00,  9.29it/s]\n"
     ]
    },
    {
     "name": "stdout",
     "output_type": "stream",
     "text": [
      "[5/48] ✓ Fetched https://mechforged.com/manufacturing-process-of-a-mechanical-pencil/\n"
     ]
    },
    {
     "name": "stderr",
     "output_type": "stream",
     "text": [
      "Fetching pages: 100%|##########| 1/1 [00:00<00:00,  4.03it/s]\n"
     ]
    },
    {
     "name": "stdout",
     "output_type": "stream",
     "text": [
      "[6/48] ✓ Fetched https://pmc.ncbi.nlm.nih.gov/articles/PMC7913514/\n"
     ]
    },
    {
     "name": "stderr",
     "output_type": "stream",
     "text": [
      "Fetching pages: 100%|##########| 1/1 [00:01<00:00,  1.05s/it]\n"
     ]
    },
    {
     "name": "stdout",
     "output_type": "stream",
     "text": [
      "[7/48] ✓ Fetched https://www.jbclinpharm.org/articles/the-role-of-binder-selection-in-optimizing-tablet-strength-and-dissolution-13080.html\n"
     ]
    },
    {
     "name": "stderr",
     "output_type": "stream",
     "text": [
      "Fetching pages:   0%|          | 0/1 [00:00<?, ?it/s]Failed to decode content from https://www.jbclinpharm.org/articles/the-role-of-binder-selection-in-optimizing-tablet-strength-and--dissolution.pdf\n",
      "Fetching pages: 100%|##########| 1/1 [00:00<00:00,  1.62it/s]\n"
     ]
    },
    {
     "name": "stdout",
     "output_type": "stream",
     "text": [
      "[8/48] ✓ Fetched https://www.jbclinpharm.org/articles/the-role-of-binder-selection-in-optimizing-tablet-strength-and--dissolution.pdf\n"
     ]
    },
    {
     "name": "stderr",
     "output_type": "stream",
     "text": [
      "Fetching pages: 100%|##########| 1/1 [00:00<00:00,  7.28it/s]\n"
     ]
    },
    {
     "name": "stdout",
     "output_type": "stream",
     "text": [
      "[9/48] ✓ Fetched https://www.shmorrisart.com/blog/harnessing-the-power\n"
     ]
    },
    {
     "name": "stderr",
     "output_type": "stream",
     "text": [
      "Fetching pages: 100%|##########| 1/1 [00:01<00:00,  1.75s/it]\n"
     ]
    },
    {
     "name": "stdout",
     "output_type": "stream",
     "text": [
      "[10/48] ✓ Fetched https://www.pharma.tips/optimizing-binder-selection-for-improved-tablet-strength/\n"
     ]
    },
    {
     "name": "stderr",
     "output_type": "stream",
     "text": [
      "Fetching pages: 100%|##########| 1/1 [00:00<00:00,  2.43it/s]\n"
     ]
    },
    {
     "name": "stdout",
     "output_type": "stream",
     "text": [
      "[11/48] ✓ Fetched https://www.eharrisgallery.com/9-ways-to-stop-pencil-shine/\n"
     ]
    },
    {
     "name": "stderr",
     "output_type": "stream",
     "text": [
      "Fetching pages: 100%|##########| 1/1 [00:00<00:00,  6.69it/s]\n"
     ]
    },
    {
     "name": "stdout",
     "output_type": "stream",
     "text": [
      "[12/48] ✓ Fetched https://www.alabamaart.com/blogs/studionotes/a-comprehensive-guide-to-liquitex-mediums-varnishes\n"
     ]
    },
    {
     "name": "stderr",
     "output_type": "stream",
     "text": [
      "Fetching pages: 100%|##########| 1/1 [00:01<00:00,  1.89s/it]\n"
     ]
    },
    {
     "name": "stdout",
     "output_type": "stream",
     "text": [
      "[13/48] ✓ Fetched https://www.wildlifeartstore.com/14-drawing-techniques/\n"
     ]
    },
    {
     "name": "stderr",
     "output_type": "stream",
     "text": [
      "Fetching pages: 100%|##########| 1/1 [00:00<00:00,  3.09it/s]\n"
     ]
    },
    {
     "name": "stdout",
     "output_type": "stream",
     "text": [
      "[14/48] ✓ Fetched https://www.fabercastell.com/blogs/creativity-for-life/graphite-pencils-pitt-matte-techniques\n"
     ]
    },
    {
     "name": "stderr",
     "output_type": "stream",
     "text": [
      "Fetching pages: 100%|##########| 1/1 [00:01<00:00,  1.95s/it]\n"
     ]
    },
    {
     "name": "stdout",
     "output_type": "stream",
     "text": [
      "[15/48] ✓ Fetched https://www.artistsnetwork.com/art-techniques/colored-pencil-techniques-create-tantalizing-texture/\n"
     ]
    },
    {
     "name": "stderr",
     "output_type": "stream",
     "text": [
      "Fetching pages: 100%|##########| 1/1 [00:00<00:00, 12.82it/s]\n"
     ]
    },
    {
     "name": "stdout",
     "output_type": "stream",
     "text": [
      "[16/48] ✓ Fetched https://synectic.net/a-guide-to-tooling-and-mold-design-for-manufacturing/\n"
     ]
    },
    {
     "name": "stderr",
     "output_type": "stream",
     "text": [
      "Fetching pages: 100%|##########| 1/1 [00:01<00:00,  1.00s/it]\n"
     ]
    },
    {
     "name": "stdout",
     "output_type": "stream",
     "text": [
      "[17/48] ✓ Fetched https://www.ace-mold.com/custom-plastic-tooling-guide/\n"
     ]
    },
    {
     "name": "stderr",
     "output_type": "stream",
     "text": [
      "Fetching pages: 100%|##########| 1/1 [00:01<00:00,  1.46s/it]\n"
     ]
    },
    {
     "name": "stdout",
     "output_type": "stream",
     "text": [
      "[18/48] ✓ Fetched https://www.boyiprototyping.com/blogs/die-tooling/\n"
     ]
    },
    {
     "name": "stderr",
     "output_type": "stream",
     "text": [
      "Fetching pages: 100%|##########| 1/1 [00:00<00:00,  2.71it/s]\n"
     ]
    },
    {
     "name": "stdout",
     "output_type": "stream",
     "text": [
      "[19/48] ✓ Fetched https://wtmsolutions.com/precision-manufacturing-tools-die-and-mold-manufacturing/\n"
     ]
    },
    {
     "name": "stderr",
     "output_type": "stream",
     "text": [
      "Fetching pages: 100%|##########| 1/1 [00:00<00:00,  3.34it/s]\n"
     ]
    },
    {
     "name": "stdout",
     "output_type": "stream",
     "text": [
      "[20/48] ✓ Fetched https://www.pattersonmold.com/die-cast-tooling/\n"
     ]
    },
    {
     "name": "stderr",
     "output_type": "stream",
     "text": [
      "Fetching pages: 100%|##########| 1/1 [00:00<00:00,  2.20it/s]\n"
     ]
    },
    {
     "name": "stdout",
     "output_type": "stream",
     "text": [
      "[21/48] ✓ Fetched https://www.sciencedirect.com/science/article/pii/S2405844021000517\n"
     ]
    },
    {
     "name": "stderr",
     "output_type": "stream",
     "text": [
      "Fetching pages: 100%|##########| 1/1 [00:01<00:00,  1.63s/it]\n"
     ]
    },
    {
     "name": "stdout",
     "output_type": "stream",
     "text": [
      "[22/48] ✓ Fetched https://www.penciltalk.org/2010/01/staedtler-wopex-pencil-review\n"
     ]
    },
    {
     "name": "stderr",
     "output_type": "stream",
     "text": [
      "Fetching pages: 100%|##########| 1/1 [00:00<00:00, 14.24it/s]\n"
     ]
    },
    {
     "name": "stdout",
     "output_type": "stream",
     "text": [
      "[23/48] ✓ Fetched https://www.cell.com/heliyon/pdf/S2405-8440(21)00051-7.pdf\n"
     ]
    },
    {
     "name": "stderr",
     "output_type": "stream",
     "text": [
      "Fetching pages:   0%|          | 0/1 [00:00<?, ?it/s]"
     ]
    },
    {
     "name": "stdout",
     "output_type": "stream",
     "text": [
      "[24/48] ✗ Timeout https://koreascience.kr/article/JAKO201530848446687.pdf\n"
     ]
    },
    {
     "name": "stderr",
     "output_type": "stream",
     "text": [
      "Fetching pages: 100%|##########| 1/1 [00:03<00:00,  3.85s/it]\n"
     ]
    },
    {
     "name": "stdout",
     "output_type": "stream",
     "text": [
      "[25/48] ✓ Fetched https://koreascience.kr/article/JAKO201530848446687.page\n"
     ]
    },
    {
     "name": "stderr",
     "output_type": "stream",
     "text": [
      "Fetching pages: 100%|##########| 1/1 [00:03<00:00,  3.04s/it]\n"
     ]
    },
    {
     "name": "stdout",
     "output_type": "stream",
     "text": [
      "[26/48] ✓ Fetched https://www.nordson.com/en/products/efd-products/gv-series\n"
     ]
    },
    {
     "name": "stderr",
     "output_type": "stream",
     "text": [
      "Fetching pages: 100%|##########| 1/1 [00:01<00:00,  1.94s/it]\n"
     ]
    },
    {
     "name": "stdout",
     "output_type": "stream",
     "text": [
      "[27/48] ✓ Fetched https://www.nordson.com/en/products/efd-products/automated-dispensing-systems\n"
     ]
    },
    {
     "name": "stderr",
     "output_type": "stream",
     "text": [
      "Fetching pages: 100%|##########| 1/1 [00:00<00:00,  1.30it/s]\n"
     ]
    },
    {
     "name": "stdout",
     "output_type": "stream",
     "text": [
      "[28/48] ✓ Fetched https://www.tw-automation.com/robotics-solutions/automated-conveyor-systems/\n"
     ]
    },
    {
     "name": "stderr",
     "output_type": "stream",
     "text": [
      "Fetching pages: 100%|##########| 1/1 [00:02<00:00,  2.26s/it]\n"
     ]
    },
    {
     "name": "stdout",
     "output_type": "stream",
     "text": [
      "[29/48] ✓ Fetched https://www.nordson.com/en/About-Us/Nordson-Blog/EFD-Blogs/051017-A-Closer-Look-at-Automated-Dispensing-Systems-with-Vision-Capabilities\n"
     ]
    },
    {
     "name": "stderr",
     "output_type": "stream",
     "text": [
      "Fetching pages: 100%|##########| 1/1 [00:00<00:00,  3.15it/s]\n"
     ]
    },
    {
     "name": "stdout",
     "output_type": "stream",
     "text": [
      "[30/48] ✓ Fetched https://flexautoinc.com/build/capabilities/robotic-dispensing-automation/\n"
     ]
    },
    {
     "name": "stderr",
     "output_type": "stream",
     "text": [
      "Fetching pages: 100%|##########| 1/1 [00:00<00:00,  5.28it/s]\n"
     ]
    },
    {
     "name": "stdout",
     "output_type": "stream",
     "text": [
      "[31/48] ✓ Fetched https://amrepinspect.com/blog/quality-control-methods\n"
     ]
    },
    {
     "name": "stderr",
     "output_type": "stream",
     "text": [
      "Fetching pages: 100%|##########| 1/1 [00:01<00:00,  1.67s/it]\n"
     ]
    },
    {
     "name": "stdout",
     "output_type": "stream",
     "text": [
      "[32/48] ✓ Fetched https://www.roy-inspection.com/blogs/news/methods-of-quality-inspection-a-comprehensive-guide\n"
     ]
    },
    {
     "name": "stderr",
     "output_type": "stream",
     "text": [
      "Fetching pages: 100%|##########| 1/1 [00:00<00:00,  5.55it/s]\n"
     ]
    },
    {
     "name": "stdout",
     "output_type": "stream",
     "text": [
      "[33/48] ✓ Fetched https://amrepinspect.com/blog/quality-control-checks\n"
     ]
    },
    {
     "name": "stderr",
     "output_type": "stream",
     "text": [
      "Failed to decode content from https://koreascience.kr/article/JAKO201530848446687.pdf\n",
      "Fetching pages: 100%|##########| 1/1 [00:24<00:00, 24.76s/it]\n",
      "Fetching pages: 100%|##########| 1/1 [00:01<00:00,  1.19s/it]\n"
     ]
    },
    {
     "name": "stdout",
     "output_type": "stream",
     "text": [
      "[34/48] ✓ Fetched https://www.roy-inspection.com/blogs/news/10-quality-inspection-methods-to-improve-your-product-quality\n"
     ]
    },
    {
     "name": "stderr",
     "output_type": "stream",
     "text": [
      "Fetching pages: 100%|##########| 1/1 [00:00<00:00,  1.76it/s]\n"
     ]
    },
    {
     "name": "stdout",
     "output_type": "stream",
     "text": [
      "[35/48] ✓ Fetched https://spc-software.us/what-are-effective-inspection-methods-for-product-quality\n"
     ]
    },
    {
     "name": "stderr",
     "output_type": "stream",
     "text": [
      "Fetching pages:   0%|          | 0/1 [00:00<?, ?it/s]Failed to decode content from https://hcss.nl/wp-content/uploads/2022/03/Graphite-ExSum-HCSS-2022.pdf\n",
      "Fetching pages: 100%|##########| 1/1 [00:00<00:00,  3.20it/s]\n"
     ]
    },
    {
     "name": "stdout",
     "output_type": "stream",
     "text": [
      "[36/48] ✓ Fetched https://hcss.nl/wp-content/uploads/2022/03/Graphite-ExSum-HCSS-2022.pdf\n"
     ]
    },
    {
     "name": "stderr",
     "output_type": "stream",
     "text": [
      "Fetching pages: 100%|##########| 1/1 [00:00<00:00,  2.59it/s]\n"
     ]
    },
    {
     "name": "stdout",
     "output_type": "stream",
     "text": [
      "[37/48] ✓ Fetched https://hcss.nl/report/graphite-supply-chain-challenges-recommendations-for-a-critical-mineral/\n"
     ]
    },
    {
     "name": "stderr",
     "output_type": "stream",
     "text": [
      "Fetching pages:   0%|          | 0/1 [00:00<?, ?it/s]Failed to decode content from https://milpwr.org/wp-content/uploads/2023/01/MPSC-Graphite-Symposium-Presentation-October-2021-Final.pdf\n",
      "Fetching pages: 100%|##########| 1/1 [00:00<00:00,  3.89it/s]\n"
     ]
    },
    {
     "name": "stdout",
     "output_type": "stream",
     "text": [
      "[38/48] ✓ Fetched https://milpwr.org/wp-content/uploads/2023/01/MPSC-Graphite-Symposium-Presentation-October-2021-Final.pdf\n"
     ]
    },
    {
     "name": "stderr",
     "output_type": "stream",
     "text": [
      "Fetching pages: 100%|##########| 1/1 [00:00<00:00,  1.18it/s]\n"
     ]
    },
    {
     "name": "stdout",
     "output_type": "stream",
     "text": [
      "[39/48] ✓ Fetched https://link.springer.com/article/10.1007/s12303-025-00027-2\n"
     ]
    },
    {
     "name": "stderr",
     "output_type": "stream",
     "text": [
      "Fetching pages:   0%|          | 0/1 [00:00<?, ?it/s]Failed to decode content from https://link.springer.com/content/pdf/10.1007/s12303-025-00027-2.pdf\n",
      "Fetching pages: 100%|##########| 1/1 [00:03<00:00,  3.86s/it]\n"
     ]
    },
    {
     "name": "stdout",
     "output_type": "stream",
     "text": [
      "[40/48] ✓ Fetched https://link.springer.com/content/pdf/10.1007/s12303-025-00027-2.pdf\n"
     ]
    },
    {
     "name": "stderr",
     "output_type": "stream",
     "text": [
      "Fetching pages: 100%|##########| 1/1 [00:00<00:00,  9.95it/s]\n"
     ]
    },
    {
     "name": "stdout",
     "output_type": "stream",
     "text": [
      "[41/48] ✓ Fetched https://www.scribd.com/presentation/562300023/Costing-Pencil\n"
     ]
    },
    {
     "name": "stderr",
     "output_type": "stream",
     "text": [
      "Fetching pages: 100%|##########| 1/1 [00:00<00:00,  2.28it/s]\n"
     ]
    },
    {
     "name": "stdout",
     "output_type": "stream",
     "text": [
      "[42/48] ✓ Fetched https://gpaguide.com/economics-of-pencil/\n"
     ]
    },
    {
     "name": "stderr",
     "output_type": "stream",
     "text": [
      "Fetching pages: 100%|##########| 1/1 [00:00<00:00,  1.75it/s]\n"
     ]
    },
    {
     "name": "stdout",
     "output_type": "stream",
     "text": [
      "[43/48] ✓ Fetched https://www.imarcgroup.com/pencil-manufacturing-plant-project-report\n"
     ]
    },
    {
     "name": "stderr",
     "output_type": "stream",
     "text": [
      "Fetching pages: 100%|##########| 1/1 [00:00<00:00, 14.83it/s]\n"
     ]
    },
    {
     "name": "stdout",
     "output_type": "stream",
     "text": [
      "[44/48] ✓ Fetched https://umbrex.com/resources/industry-analyses/how-to-analyze-a-manufacturing-company/bill-of-materials-bom-and-cost-structure-analysis/\n"
     ]
    },
    {
     "name": "stderr",
     "output_type": "stream",
     "text": [
      "Fetching pages:   0%|          | 0/1 [00:00<?, ?it/s]Failed to decode content from https://www.extension.iastate.edu/agdm/wholefarm/pdf/c5-209.pdf\n",
      "Fetching pages: 100%|##########| 1/1 [00:00<00:00,  2.81it/s]\n"
     ]
    },
    {
     "name": "stdout",
     "output_type": "stream",
     "text": [
      "[45/48] ✓ Fetched https://www.extension.iastate.edu/agdm/wholefarm/pdf/c5-209.pdf\n"
     ]
    },
    {
     "name": "stderr",
     "output_type": "stream",
     "text": [
      "Fetching pages: 100%|##########| 1/1 [00:00<00:00, 21.11it/s]\n"
     ]
    },
    {
     "name": "stdout",
     "output_type": "stream",
     "text": [
      "[46/48] ✓ Fetched https://www.plasticstoday.com/materials/aluminum-vs-steel-tooling-which-material-is-right-and-how-to-design-and-maintain-\n"
     ]
    },
    {
     "name": "stderr",
     "output_type": "stream",
     "text": [
      "Fetching pages: 100%|##########| 1/1 [00:00<00:00,  2.14it/s]\n"
     ]
    },
    {
     "name": "stdout",
     "output_type": "stream",
     "text": [
      "[47/48] ✓ Fetched https://koliwoodpencil.com/how-are-pencils-manufactured/\n"
     ]
    },
    {
     "name": "stderr",
     "output_type": "stream",
     "text": [
      "Fetching pages: 100%|##########| 1/1 [00:00<00:00,  3.04it/s]\n"
     ]
    },
    {
     "name": "stdout",
     "output_type": "stream",
     "text": [
      "[48/48] ✓ Fetched https://www.tuofa-cncmachining.com/tuofa-blog/what-is-tooling-in-manufacturing.html\n",
      "\n",
      "Completed: 47 succeeded, 1 failed out of 48 URLs.\n",
      "\n"
     ]
    }
   ],
   "source": [
    "N = len(unique_urls)\n",
    "print(f\"\\nFetching and parsing first {N} available pages:\")\n",
    "\n",
    "html_docs = []\n",
    "success_count = 0\n",
    "failure_count = 0\n",
    "\n",
    "for idx, url in enumerate(unique_urls[:N], start=1):\n",
    "    single_loader = AsyncHtmlLoader([url])\n",
    "    try:\n",
    "        docs_for_url = await asyncio.wait_for(\n",
    "            asyncio.to_thread(single_loader.load),\n",
    "            timeout=10\n",
    "        )\n",
    "        html_docs.extend(docs_for_url)\n",
    "        print(f\"[{idx}/{N}] ✓ Fetched {url}\")\n",
    "        success_count += 1\n",
    "\n",
    "    except asyncio.TimeoutError:\n",
    "        failure_count += 1\n",
    "        print(f\"[{idx}/{N}] ✗ Timeout {url}\")\n",
    "    except Exception as e:\n",
    "        failure_count += 1\n",
    "        print(f\"[{idx}/{N}] ✗ Error {url}: {e}\")\n",
    "\n",
    "print(f\"\\nCompleted: {success_count} succeeded, {failure_count} failed out of {N} URLs.\\n\")\n",
    "\n",
    "# Transform and inspect as before\n",
    "transformer = Html2TextTransformer()\n",
    "docs = transformer.transform_documents(html_docs)\n",
    "\n",
    "splitter = RecursiveCharacterTextSplitter(\n",
    "    chunk_size=1500,\n",
    "    chunk_overlap=200,\n",
    "    length_function=len\n",
    ")\n",
    "ddb = splitter.split_documents(docs)"
   ]
  },
  {
   "cell_type": "markdown",
   "metadata": {},
   "source": [
    "### Convert fetched HTML into LangChain Documents"
   ]
  },
  {
   "cell_type": "code",
   "execution_count": 13,
   "metadata": {},
   "outputs": [],
   "source": [
    "embedder = SentenceTransformerEmbeddings(\n",
    "    model_name=\"all-MiniLM-L6-v2\",\n",
    "    model_kwargs={\"device\": \"cpu\"}\n",
    ")\n",
    "\n",
    "vectordb_dynamic = FAISS.from_documents(\n",
    "    documents=ddb,    # your list of Document chunks\n",
    "    embedding=embedder\n",
    ")"
   ]
  },
  {
   "cell_type": "markdown",
   "metadata": {},
   "source": [
    "## Create Combined Retrievers"
   ]
  },
  {
   "cell_type": "code",
   "execution_count": 14,
   "metadata": {},
   "outputs": [
    {
     "name": "stderr",
     "output_type": "stream",
     "text": [
      "/tmp/ipykernel_24346/315423950.py:1: DeprecationWarning: Retrievers must implement abstract `_get_relevant_documents` method instead of `get_relevant_documents`\n",
      "  class CombinedRetriever(BaseRetriever):\n"
     ]
    }
   ],
   "source": [
    "class CombinedRetriever(BaseRetriever):\n",
    "    retrievers: List[BaseRetriever]\n",
    "    k: int = 5\n",
    "\n",
    "    def get_relevant_documents(self, query: str) -> List[Document]:\n",
    "        docs: List[Document] = []\n",
    "        for r in self.retrievers:\n",
    "            docs.extend(r.get_relevant_documents(query))\n",
    "        return docs[: self.k]\n",
    "\n",
    "\n",
    "dynamic_ret = vectordb_dynamic.as_retriever(\n",
    "    search_kwargs={\"k\": dynamic_db_relevant_chunks}\n",
    ")\n",
    "\n",
    "combined_retriever = CombinedRetriever(\n",
    "    retrievers=[static_ret, dynamic_ret],\n",
    "    k=12\n",
    ")"
   ]
  },
  {
   "cell_type": "markdown",
   "metadata": {},
   "source": [
    "## Ask the LLM\n",
    "\n",
    "Finally, prompt the LLM with the final query"
   ]
  },
  {
   "cell_type": "markdown",
   "metadata": {},
   "source": [
    "### Final Prompt"
   ]
  },
  {
   "cell_type": "code",
   "execution_count": 15,
   "metadata": {},
   "outputs": [],
   "source": [
    "def run_section(\n",
    "    prompt_tpl: PromptTemplate,\n",
    "    object_desc: str,\n",
    "    retriever,\n",
    "    model_name: str = \"gemma3:4b\",\n",
    "    temperature: float = 0.3,\n",
    "    k_ctx: int = 4\n",
    ") -> str:\n",
    "    \"\"\"\n",
    "    Generates a single report section using a provided PromptTemplate.\n",
    "\n",
    "    Args:\n",
    "      - prompt_tpl: a PromptTemplate expecting keys \"object_desc\" and \"context\"\n",
    "      - object_desc: description of the object being manufactured\n",
    "      - retriever: a LangChain retriever (e.g., your static vector-store retriever)\n",
    "      - model_name: the Ollama model to use\n",
    "      - temperature: sampling temperature for the LLM\n",
    "      - k_ctx: number of context chunks to fetch\n",
    "\n",
    "    Returns:\n",
    "      - The generated section text.\n",
    "    \"\"\"\n",
    "    # 1) Fetch top-k relevant text chunks\n",
    "    docs: List[Document] = retriever.get_relevant_documents(object_desc)[:k_ctx]\n",
    "    context = \"\\n\\n\".join(d.page_content for d in docs)\n",
    "\n",
    "    # 2) Fill in the prompt and invoke the LLM\n",
    "    chain = LLMChain(\n",
    "        llm=OllamaLLM(model=model_name, temperature=temperature),\n",
    "        prompt=prompt_tpl\n",
    "    )\n",
    "    return chain.run({\"object_desc\": object_desc, \"context\": context})\n",
    "\n",
    "generated_content = []"
   ]
  },
  {
   "cell_type": "markdown",
   "metadata": {},
   "source": [
    "### Prompts"
   ]
  },
  {
   "cell_type": "code",
   "execution_count": 16,
   "metadata": {},
   "outputs": [
    {
     "name": "stderr",
     "output_type": "stream",
     "text": [
      "/tmp/ipykernel_24346/2646438298.py:24: LangChainDeprecationWarning: The method `BaseRetriever.get_relevant_documents` was deprecated in langchain-core 0.1.46 and will be removed in 1.0. Use :meth:`~invoke` instead.\n",
      "  docs: List[Document] = retriever.get_relevant_documents(object_desc)[:k_ctx]\n",
      "/tmp/ipykernel_24346/2646438298.py:32: LangChainDeprecationWarning: The method `Chain.run` was deprecated in langchain 0.1.0 and will be removed in 1.0. Use :meth:`~invoke` instead.\n",
      "  return chain.run({\"object_desc\": object_desc, \"context\": context})\n"
     ]
    }
   ],
   "source": [
    "# Introduction\n",
    "\n",
    "intro_tpl = PromptTemplate.from_template(textwrap.dedent(\"\"\"\n",
    "You are a senior manufacturing engineer.\n",
    "\n",
    "Use the context block (manufacturing knowledge from your static vector store plus any web snippets) as your sole source.  \n",
    "Shape any web-sourced details **only** to illustrate those frameworks and metrics.  \n",
    "Do **not** introduce anything outside your static DB and retrieved chunks.\n",
    "\n",
    "Refer to the object being manufactured when writing this section, generate around ≈500 words of content. \n",
    "\n",
    "OBJECT DESCRIPTION  \n",
    "{object_desc}\n",
    "\n",
    "Introduction: Manufacturing Overview \n",
    "\n",
    "Formatting rules  \n",
    "• Generate just the content, no need for any introduction or section headings.\n",
    "• Bulleted points where possible  \n",
    "• No made-up data or sources\n",
    "\n",
    "---\n",
    "CONTEXT\n",
    "{context}\n",
    "---\n",
    "\"\"\"))\n",
    "\n",
    "introduction = run_section(\n",
    "    prompt_tpl=intro_tpl,\n",
    "    object_desc=object_desc,\n",
    "    retriever=combined_retriever\n",
    ")\n",
    "generated_content.append((\"Introduction: Manufacturing Overview \", introduction))"
   ]
  },
  {
   "cell_type": "code",
   "execution_count": 17,
   "metadata": {},
   "outputs": [],
   "source": [
    "process_tpl = PromptTemplate.from_template(textwrap.dedent(\"\"\"\n",
    "You are a senior manufacturing engineer.\n",
    "\n",
    "Use the context block (manufacturing knowledge from your static vector store plus any web snippets) as your sole source.  \n",
    "Shape any web-sourced details **only** to illustrate those frameworks and metrics.  \n",
    "Do **not** introduce anything outside your static DB and retrieved chunks.\n",
    "\n",
    "Refer to the object being manufactured when writing this section.\n",
    "\n",
    "OBJECT DESCRIPTION  \n",
    "{object_desc}\n",
    "\n",
    "**Process Selection & Workflow Design** \n",
    "\n",
    "• Compare candidate processes (e.g., injection molding vs. CNC vs. blow molding) against selection criteria: cycle time, per-unit cost, material yield, and quality tolerance.  \n",
    "• Include a text-based flowchart outline (e.g., “Raw resin → drying → melt → injection → cooling → ejection → inspection”).  \n",
    "• Highlight how the object’s geometry, material, and target volume (e.g. 50,000 units/month) drive process and tooling choices.\n",
    "\n",
    "Formatting rules  \n",
    "• Generate just the content, no need for any introduction or section headings.\n",
    "• Bulleted points wherever possible.  \n",
    "• No made-up data or sources.\n",
    "\n",
    "---\n",
    "CONTEXT\n",
    "{context}\n",
    "---\n",
    "\"\"\"))\n",
    "\n",
    "process = run_section(\n",
    "    prompt_tpl=process_tpl,\n",
    "    object_desc=object_desc,\n",
    "    retriever=combined_retriever\n",
    ")\n",
    "\n",
    "generated_content.append((\"Process Selection & Workflow Design\", process))"
   ]
  },
  {
   "cell_type": "code",
   "execution_count": 18,
   "metadata": {},
   "outputs": [],
   "source": [
    "# Material Strategy & Eco-Alternatives\n",
    "\n",
    "material_tpl = PromptTemplate.from_template(textwrap.dedent(\"\"\"\n",
    "You are a senior manufacturing engineer.\n",
    "\n",
    "Use the context block (manufacturing knowledge from your static vector store plus any web snippets) as your sole source.  \n",
    "Shape any web-sourced details **only** to illustrate those frameworks and metrics.  \n",
    "Do **not** introduce anything outside your static DB and retrieved chunks.\n",
    "\n",
    "Refer to the object being manufactured when writing this section.\n",
    "\n",
    "OBJECT DESCRIPTION  \n",
    "{object_desc}\n",
    "\n",
    "**Material Strategy & Eco-Alternatives**\n",
    "\n",
    "• Identify the key material properties required (e.g., strength, rigidity, chemical resistance) for the object.  \n",
    "• Compare candidate materials in a table format: embodied energy, cost per kg, recyclability rate, and toxicity.  \n",
    "• Propose at least two bio-based or recycled alternatives (e.g., PLA, rPET, bio-nylon) and outline substitution strategies, including any trade-offs in performance or cost.  \n",
    "• Call out any supply-chain or certification considerations (e.g., FDA-grade, ISO 14001 compliance).\n",
    "\n",
    "Formatting rules  \n",
    "• Generate just the content, no need for any introduction or section headings.\n",
    "• Bulleted points wherever possible.  \n",
    "• No made-up data or sources.\n",
    "\n",
    "---\n",
    "CONTEXT\n",
    "{context}\n",
    "---\n",
    "\"\"\"))\n",
    "\n",
    "material_section = run_section(\n",
    "    prompt_tpl=material_tpl,\n",
    "    object_desc=object_desc,\n",
    "    retriever=combined_retriever\n",
    ")\n",
    "\n",
    "generated_content.append((\"Material Strategy & Eco-Alternatives\", material_section))\n",
    "# print(material_section)"
   ]
  },
  {
   "cell_type": "code",
   "execution_count": 19,
   "metadata": {},
   "outputs": [],
   "source": [
    "# Sustainability, Life-Cycle & Performance Metrics\n",
    "\n",
    "sustainability_tpl = PromptTemplate.from_template(textwrap.dedent(\"\"\"\n",
    "You are a senior manufacturing engineer.\n",
    "\n",
    "Use the context block (manufacturing knowledge from your static vector store plus any web snippets) as your sole source.  \n",
    "Shape any web-sourced details **only** to illustrate those frameworks and metrics.  \n",
    "Do **not** introduce anything outside your static DB and retrieved chunks.\n",
    "\n",
    "Refer to the object being manufactured when writing this section.\n",
    "\n",
    "OBJECT DESCRIPTION  \n",
    "{object_desc}\n",
    "\n",
    "**Sustainability, Life-Cycle & Performance Metrics**\n",
    "                                                                  \n",
    "• **Target KPIs:** Define object-specific sustainability targets (e.g., carbon footprint <0.5 kg CO₂e/unit, energy use <2 kWh/unit).  \n",
    "• **LCA Flow Diagram (placeholder):** Raw material → Manufacturing → Distribution → Use (e.g., 2 year lifespan) → End-of-Life (recycle/compost).  \n",
    "• **Life-Cycle Costing:** Break down costs by phase (material, energy, end-of-life) and set reduction goals.  \n",
    "• **Benchmarking:** Compare recyclability rate and energy intensity against industry norms (e.g., PET bottles rPET ≥50%).  \n",
    "• **Design Levers:** Identify design or material changes (wall-thickness reduction, rPET substitution) to meet KPIs.  \n",
    "• **Monitoring Plan:** Recommend data sources (LCA software outputs, energy meters) and review cadence.\n",
    "\n",
    "Formatting rules  \n",
    "• Generate just the content, no need for any introduction or section headings.\n",
    "• Bulleted points wherever possible.  \n",
    "• No made-up data or sources.\n",
    "\n",
    "---\n",
    "CONTEXT\n",
    "{context}\n",
    "---\n",
    "\"\"\"))\n",
    "\n",
    "sustainability_section = run_section(\n",
    "    prompt_tpl=sustainability_tpl,\n",
    "    object_desc=object_desc,\n",
    "    retriever=combined_retriever\n",
    ")\n",
    "\n",
    "generated_content.append((\n",
    "    \"Sustainability, Life-Cycle & Performance Metrics\",\n",
    "    sustainability_section\n",
    "))\n",
    "# print(sustainability_section)"
   ]
  },
  {
   "cell_type": "code",
   "execution_count": 20,
   "metadata": {},
   "outputs": [],
   "source": [
    "# Quality Assurance & Validation\n",
    "quality_tpl = PromptTemplate.from_template(textwrap.dedent(\"\"\"\n",
    "You are a senior manufacturing engineer.\n",
    "\n",
    "Use the context block (manufacturing knowledge from your static vector store plus any web snippets) as your sole source.  \n",
    "Shape any web-sourced details **only** to illustrate those frameworks and metrics.  \n",
    "Do **not** introduce anything outside your static DB and retrieved chunks.\n",
    "\n",
    "Refer to the object being manufactured when writing this section.\n",
    "\n",
    "OBJECT DESCRIPTION  \n",
    "{object_desc}\n",
    "\n",
    "**Quality Assurance & Validation** \n",
    "                                                           \n",
    "• **Target tolerances:** List the object’s critical dimensions or performance specs and their acceptable tolerance bands.  \n",
    "• **Inspection methods:** Recommend 2–3 validation techniques suited to this object (e.g., gauge R&R for feature X, pressure/leak test for seal, vision inspection for surface defects).  \n",
    "• **Sampling plan:** Define lot size and inspection frequency (e.g., inspect 5 units every production hour) to balance quality risk and throughput.  \n",
    "• **Data analysis & roles:** Identify who reviews QC data (operator, quality engineer) and how out-of-tolerance findings trigger corrective actions.  \n",
    "• **Validation schedule:** Suggest periodic gauge R&R studies or calibration intervals for key measurement tools.  \n",
    "• **Documentation & traceability:** Outline required QC records (checklists, SPC charts) linked back to individual object serial numbers.\n",
    "\n",
    "Formatting rules  \n",
    "• Generate just the content, no need for any introduction or section headings.\n",
    "• Bulleted points wherever possible.  \n",
    "• No made-up data or sources.\n",
    "\n",
    "---\n",
    "CONTEXT\n",
    "{context}\n",
    "---\n",
    "\"\"\"))\n",
    "\n",
    "quality_section = run_section(\n",
    "    prompt_tpl=quality_tpl,\n",
    "    object_desc=object_desc,\n",
    "    retriever=combined_retriever\n",
    ")\n",
    "\n",
    "generated_content.append((\n",
    "    \"Quality Assurance & Validation\",\n",
    "    quality_section\n",
    "))\n",
    "# print(quality_section)"
   ]
  },
  {
   "cell_type": "code",
   "execution_count": 21,
   "metadata": {},
   "outputs": [],
   "source": [
    "# Digitalization & Smart-Manufacturing Enablers\n",
    "\n",
    "digitalization_tpl = PromptTemplate.from_template(textwrap.dedent(\"\"\"\n",
    "You are a senior manufacturing engineer.\n",
    "\n",
    "Use the context block (manufacturing knowledge from your static vector store plus any web snippets) as your sole source.  \n",
    "Shape any web-sourced details **only** to illustrate those frameworks and metrics.  \n",
    "Do **not** introduce anything outside your static DB and retrieved chunks.\n",
    "\n",
    "Refer to the object being manufactured when writing this section.\n",
    "\n",
    "OBJECT DESCRIPTION  \n",
    "{object_desc}\n",
    "\n",
    "**Digitalization & Smart-Manufacturing Enablers**\n",
    "                                                                  \n",
    "• **Sensor selection:** Recommend 2–3 IoT sensor types suited to the object’s material/process (e.g., thermal, vibration, force).  \n",
    "• **Data flow & analytics:** Outline how raw signals become actionable insights—edge vs. cloud, dashboard cadence.  \n",
    "• **Connectivity & scale:** Describe network topology and compute needs for ~N units/day in a standard production cell.  \n",
    "• **Integration:** Map out which existing control layers (PLC/MES/SCADA) will consume the data.  \n",
    "• **Security & governance:** Highlight key practices for this object’s data integrity and access control.  \n",
    "• **Operator interaction:** Define operator-facing interfaces or alerts specific to this object’s process risks.\n",
    "\n",
    "\n",
    "Formatting rules  \n",
    "• Generate just the content, no need for any introduction or section headings.\n",
    "• Bulleted points wherever possible.  \n",
    "• No made-up data or sources.\n",
    "                                                                  \n",
    "---\n",
    "CONTEXT\n",
    "{context}\n",
    "---\n",
    "\"\"\"))\n",
    "\n",
    "digitalization_section = run_section(\n",
    "    prompt_tpl=digitalization_tpl,\n",
    "    object_desc=object_desc,\n",
    "    retriever=combined_retriever\n",
    ")\n",
    "\n",
    "generated_content.append((\n",
    "    \"Digitalization & Smart-Manufacturing Enablers\",\n",
    "    digitalization_section\n",
    "))\n",
    "# print(digitalization_section)"
   ]
  },
  {
   "cell_type": "code",
   "execution_count": 22,
   "metadata": {},
   "outputs": [],
   "source": [
    "info_modeling_tpl = PromptTemplate.from_template(textwrap.dedent(\"\"\"\n",
    "You are a senior manufacturing engineer.\n",
    "\n",
    "Use the context block (manufacturing knowledge from your static vector store plus any web-retrieved snippets) as your sole source.  \n",
    "Shape any web-sourced details **only** to exemplify those pre-defined frameworks, methods, and metrics.  \n",
    "Do **not** introduce topics, terms, or data outside your static DB and retrieved chunks.\n",
    "\n",
    "Refer explicitly to the object being manufactured when writing this section.\n",
    "\n",
    "OBJECT DESCRIPTION  \n",
    "{object_desc}\n",
    "\n",
    "**Information Modeling & Integration**  \n",
    "• **Standards & Frameworks:** Summarize relevant models (ISA-95, RAMI 4.0, IIRA) and how they apply to this object’s data flows.  \n",
    "• **Data Schema Outline:** Provide a placeholder entity-relationship diagram or table mapping part attributes (e.g., dimensions, material grade, batch ID) to MES/ERP fields.  \n",
    "• **Integration Points:** **Highlight** where in the process (e.g., post-inspection, real-time sensor feeds) data should be captured and synchronized.  \n",
    "• **Digital Thread Implementation:** Describe how a unique object ID (e.g., QR code or RFID) links CAD → production parameters → quality records → maintenance logs.  \n",
    "• **Interoperability KPIs:** **Set targets** for data latency (<1s), accuracy (>99%), and system uptime (≥99.9%).  \n",
    "• **Validation Plan:** Recommend tests or mock API calls to verify schema compliance and end-to-end data flow.  \n",
    "• **Governance & Security:** Outline ownership of data models, change-management process, and access controls.\n",
    "\n",
    "Formatting rules  \n",
    "• Generate just the content, no need for any introduction or section headings.\n",
    "• Bulleted points wherever possible.  \n",
    "• No made-up data or sources.\n",
    "\n",
    "---\n",
    "CONTEXT\n",
    "{context}\n",
    "---\n",
    "\"\"\"))\n",
    "\n",
    "info_modeling_section = run_section(\n",
    "    prompt_tpl=info_modeling_tpl,\n",
    "    object_desc=object_desc,\n",
    "    retriever=combined_retriever\n",
    ")\n",
    "\n",
    "generated_content.append((\n",
    "    \"Information Modeling & Integration\",\n",
    "    info_modeling_section\n",
    "))\n",
    "# print(info_modeling_section)"
   ]
  },
  {
   "cell_type": "code",
   "execution_count": 23,
   "metadata": {},
   "outputs": [],
   "source": [
    "simulation_tpl = PromptTemplate.from_template(textwrap.dedent(\"\"\"\n",
    "You are a senior manufacturing engineer.\n",
    "\n",
    "Use the context block (manufacturing knowledge from your static vector store plus any web-retrieved snippets) as your sole source.  \n",
    "Shape any web-sourced details **only** to exemplify those pre-defined frameworks, methods, and metrics.  \n",
    "Do **not** introduce topics, terms, or data outside your static DB and retrieved chunks.\n",
    "\n",
    "Refer explicitly to the object being manufactured when writing this section.\n",
    "\n",
    "OBJECT DESCRIPTION  \n",
    "{object_desc}\n",
    "\n",
    "**Simulation & Virtual Commissioning**  \n",
    "• **Rationale for Discrete-Event Simulation:** Explain why DES is the most suitable approach for modeling this object’s production flow (e.g., event-driven operations, batch variability).  \n",
    "• **Model Structure Sketch:** Provide a placeholder text swim-lane or block diagram (e.g., “Raw material → pre-processing → machine A → buffer → machine B → inspection → packaging”).  \n",
    "• **Key Simulation KPIs:** **Set targets** for throughput (units/hour), work-in-progress (≤X units), resource utilization (≥Y %), and mean time between failures (MTBF ≥Z hours).  \n",
    "• **Virtual Commissioning Steps:** Outline how to validate control logic off-line using the digital twin—include PLC code test cases, sensor input emulation, and HMI verification.  \n",
    "• **Risks & Benefits:**  \n",
    "  - **Risks:** model inaccuracy, input data gaps, overly optimistic performance estimates  \n",
    "  - **Benefits:** reduced physical trial runs, faster ramp-up, early detection of bottlenecks  \n",
    "• **Validation Plan:** Recommend a pilot run comparing simulation outputs to real-world metrics (e.g., cycle time ±5% deviation, error rate ≤1 %).  \n",
    "• **Continuous Improvement Loop:** Describe how to integrate live production data back into the model for ongoing calibration.\n",
    "\n",
    "Formatting rules  \n",
    "• Generate just the content, no need for any introduction or section headings.\n",
    "• Bulleted points wherever possible.  \n",
    "• No made-up data or sources.\n",
    "\n",
    "---\n",
    "CONTEXT\n",
    "{context}\n",
    "---\n",
    "\"\"\"))\n",
    "\n",
    "simulation_section = run_section(\n",
    "    prompt_tpl=simulation_tpl,\n",
    "    object_desc=object_desc,\n",
    "    retriever=combined_retriever\n",
    ")\n",
    "\n",
    "generated_content.append((\n",
    "    \"Simulation & Virtual Commissioning\",\n",
    "    simulation_section\n",
    "))\n",
    "# print(simulation_section)"
   ]
  },
  {
   "cell_type": "code",
   "execution_count": 24,
   "metadata": {},
   "outputs": [],
   "source": [
    "network_centric_tpl = PromptTemplate.from_template(textwrap.dedent(\"\"\"\n",
    "You are a senior manufacturing engineer.\n",
    "\n",
    "Use the context block (manufacturing knowledge from your static vector store plus any web-retrieved snippets) as your sole source.  \n",
    "Shape any web-sourced details **only** to exemplify those pre-defined frameworks, methods, and metrics.  \n",
    "Do **not** introduce topics, terms, or data outside your static DB and retrieved chunks.\n",
    "\n",
    "Refer explicitly to the object being manufactured when writing this section.\n",
    "\n",
    "OBJECT DESCRIPTION  \n",
    "{object_desc}\n",
    "\n",
    "**Network-Centric & Collaborative Manufacturing**  \n",
    "• **Definition & Rationale:** Explain the concept of network-centric manufacturing and why it applies to this object’s value chain (e.g., supplier integration, built-to-order flexibility).  \n",
    "• **Collaboration Topology:** Sketch a text-based network diagram (e.g., “Design hub ↔ Production cells ↔ Distribution partners ↔ After-sales service”) showing data and material flows.  \n",
    "• **Information Exchange Standards:** Cite relevant protocols (e.g., OPC UA, MQTT) and how they ensure interoperability among MES, ERP, and shop-floor devices.  \n",
    "• **Key Collaboration KPIs:**  \n",
    "  - Order-fulfillment lead time (target ≤ X days)  \n",
    "  - Supplier on-time delivery rate (≥ Y %)  \n",
    "  - Production cell cycle synchronization (takt variance ≤ Z %)  \n",
    "• **Digital Thread Implementation:** Describe how the digital thread links CAD models, process parameters, and quality data across the network for traceability.  \n",
    "• **Cross-Enterprise Workflows:** Outline steps for co-engineering with suppliers (e.g., shared BOM revisions, joint simulation reviews) and dynamic capacity sharing.  \n",
    "• **Security & Governance:** Highlight data-security considerations (authentication, encryption) and roles/responsibilities matrix for network participants.  \n",
    "• **Benefits & Risks:**  \n",
    "  - **Benefits:** increased responsiveness, reduced inventory buffers, real-time visibility  \n",
    "  - **Risks:** cybersecurity threats, integration complexity, data ownership disputes  \n",
    "\n",
    "Formatting rules  \n",
    "• Generate just the content, no need for any introduction or section headings.\n",
    "• Bulleted points wherever possible.  \n",
    "• No made-up data or sources.\n",
    "\n",
    "---\n",
    "CONTEXT\n",
    "{context}\n",
    "---\n",
    "\"\"\"))\n",
    "\n",
    "network_centric_section = run_section(\n",
    "    prompt_tpl=network_centric_tpl,\n",
    "    object_desc=object_desc,\n",
    "    retriever=combined_retriever\n",
    ")\n",
    "\n",
    "generated_content.append((\n",
    "    \"Network-Centric & Collaborative Manufacturing\",\n",
    "    network_centric_section\n",
    "))\n",
    "# print(network_centric_section)"
   ]
  },
  {
   "cell_type": "code",
   "execution_count": 25,
   "metadata": {},
   "outputs": [],
   "source": [
    "roadmap_tpl = PromptTemplate.from_template(textwrap.dedent(\"\"\"\n",
    "You are a senior manufacturing engineer.\n",
    "\n",
    "Use the context block (manufacturing knowledge from your static vector store plus any web-retrieved snippets) as your sole source.  \n",
    "Shape any web-sourced details **only** to exemplify those pre-defined frameworks, methods, and metrics.  \n",
    "Do **not** introduce topics, terms, or data outside your static DB and retrieved chunks.\n",
    "\n",
    "Refer explicitly to the object being manufactured when writing this section.\n",
    "\n",
    "OBJECT DESCRIPTION  \n",
    "{object_desc}\n",
    "\n",
    "**Implementation Roadmap & Governance**  \n",
    "• **Phased Timeline:** Lay out 4–6 major phases (e.g., “Phase 1: Pilot cell deployment,” “Phase 2: Digital thread integration,” “Phase 3: Full-scale automation”), each with target start/end quarters.  \n",
    "• **Milestone Deliverables:** For each phase, list key deliverables (e.g., functional PV run, KPI baseline achieved, supplier onboarding).  \n",
    "• **Stakeholder Matrix:** Tabulate roles and responsibilities (Engineering, Operations, IT, Quality, Finance) against each phase.  \n",
    "• **Governance Model:** Describe decision authority and escalation paths (e.g., change-control board, steering committee).  \n",
    "• **Resource & Budget Outline:** Provide high-level resource needs (headcount, CAPEX, OPEX) per phase.  \n",
    "• **Risk Mitigation Plan:** Identify top 3 risks (e.g., integration delays, training gaps) and corresponding mitigation actions.  \n",
    "• **Go/No-Go Criteria:** Specify success metrics for phase transitions (e.g., OEE > 85%, defect rate < 1%, on-time supplier rate ≥ 95%).  \n",
    "• **Continuous Improvement Loop:** Define feedback cadence (e.g., monthly steering review, quarterly process audits) to refine roadmap.\n",
    "\n",
    "Formatting rules  \n",
    "• Generate just the content—no extra headings or narrative framing.  \n",
    "• Bulleted points and simple markdown tables where appropriate.  \n",
    "• No made-up data or sources.\n",
    "\n",
    "---\n",
    "CONTEXT\n",
    "{context}\n",
    "---\n",
    "\"\"\"))\n",
    "\n",
    "roadmap_section = run_section(\n",
    "    prompt_tpl=roadmap_tpl,\n",
    "    object_desc=object_desc,\n",
    "    retriever=combined_retriever\n",
    ")\n",
    "\n",
    "generated_content.append((\n",
    "    \"Implementation Roadmap & Governance\",\n",
    "    roadmap_section\n",
    "))\n",
    "# print(roadmap_section)"
   ]
  },
  {
   "cell_type": "markdown",
   "metadata": {},
   "source": [
    "### Create MD Report"
   ]
  },
  {
   "cell_type": "code",
   "execution_count": 26,
   "metadata": {},
   "outputs": [],
   "source": [
    "def write_markdown_report(generated_content, output_path=\"manufacturing_report.md\"):\n",
    "    with open(output_path, \"w\", encoding=\"utf-8\") as md:\n",
    "        for title, content in generated_content:\n",
    "            # write an H2 for the section title\n",
    "            md.write(f\"## {title}\\n\\n\")\n",
    "            # then write the markdown content\n",
    "            md.write(content.strip() + \"\\n\\n\")\n",
    "    print(f\"✅ Report written to {output_path}\")"
   ]
  },
  {
   "cell_type": "code",
   "execution_count": 27,
   "metadata": {},
   "outputs": [
    {
     "name": "stdout",
     "output_type": "stream",
     "text": [
      "✅ Report written to manufacturing_report.md\n",
      "✅ Done writing manufacturing_report.md\n"
     ]
    }
   ],
   "source": [
    "write_markdown_report(generated_content)\n",
    "\n",
    "print(\"✅ Done writing manufacturing_report.md\")"
   ]
  },
  {
   "cell_type": "markdown",
   "metadata": {},
   "source": [
    "### Convert MD to PDF"
   ]
  },
  {
   "cell_type": "code",
   "execution_count": 30,
   "metadata": {},
   "outputs": [
    {
     "name": "stderr",
     "output_type": "stream",
     "text": [
      "[WARNING] Missing character: There is no ₂ (U+2082) (U+2082) in font [lmroman10-regular]:mapping=t\n",
      "[WARNING] Missing character: There is no ≥ (U+2265) (U+2265) in font [lmroman10-regular]:mapping=t\n",
      "[WARNING] Missing character: There is no ≤ (U+2264) (U+2264) in font [lmroman10-regular]:mapping=t\n",
      "[WARNING] Missing character: There is no ≤ (U+2264) (U+2264) in font [lmroman10-regular]:mapping=t\n",
      "[WARNING] Missing character: There is no ≥ (U+2265) (U+2265) in font [lmroman10-regular]:mapping=t\n",
      "[WARNING] Missing character: There is no ≥ (U+2265) (U+2265) in font [lmroman10-regular]:mapping=t\n",
      "\n"
     ]
    },
    {
     "name": "stdout",
     "output_type": "stream",
     "text": [
      "✅ Successfully wrote PDF to sample_outputs/pencil.pdf\n"
     ]
    }
   ],
   "source": [
    "# Ensure the output directory exists\n",
    "output_dir = \"sample_outputs\"\n",
    "os.makedirs(output_dir, exist_ok=True)\n",
    "\n",
    "# Paths\n",
    "md_file = \"manufacturing_report.md\"\n",
    "pdf_file = os.path.join(output_dir, f\"{object_name}.pdf\")\n",
    "\n",
    "# Optional pandoc arguments\n",
    "extra_args = [\n",
    "    \"--pdf-engine=xelatex\",\n",
    "    \"-V\", \"geometry:margin=1in\",\n",
    "]\n",
    "\n",
    "# Convert Markdown to PDF\n",
    "output = pypandoc.convert_file(md_file, \"pdf\", outputfile=pdf_file, extra_args=extra_args)\n",
    "\n",
    "# Check success\n",
    "if os.path.exists(pdf_file):\n",
    "    print(f\"✅ Successfully wrote PDF to {pdf_file}\")\n",
    "else:\n",
    "    print(\"❌ PDF conversion failed.\")\n"
   ]
  }
 ],
 "metadata": {
  "kernelspec": {
   "display_name": "ragenv",
   "language": "python",
   "name": "python3"
  },
  "language_info": {
   "codemirror_mode": {
    "name": "ipython",
    "version": 3
   },
   "file_extension": ".py",
   "mimetype": "text/x-python",
   "name": "python",
   "nbconvert_exporter": "python",
   "pygments_lexer": "ipython3",
   "version": "3.10.16"
  }
 },
 "nbformat": 4,
 "nbformat_minor": 2
}
